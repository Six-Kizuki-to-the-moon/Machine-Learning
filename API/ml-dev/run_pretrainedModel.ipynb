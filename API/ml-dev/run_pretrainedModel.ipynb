{
 "cells": [
  {
   "cell_type": "code",
   "execution_count": 1,
   "metadata": {},
   "outputs": [],
   "source": [
    "import mysql.connector\n",
    "# library for data analysis\n",
    "import numpy as np\n",
    "import pandas as pd\n",
    "import matplotlib.pyplot as plt\n",
    "\n",
    "from tensorflow.keras.optimizers import Adam\n",
    "import tensorflow as tf\n",
    "from tensorflow.keras.models import Model \n",
    "from tensorflow.keras.layers import Input, Embedding, Dot, Flatten, Dense\n",
    "from sklearn.model_selection import train_test_split \n",
    "from sklearn.metrics.pairwise import cosine_similarity\n",
    "\n",
    "import os "
   ]
  },
  {
   "cell_type": "code",
   "execution_count": 2,
   "metadata": {},
   "outputs": [],
   "source": [
    "# Membuat koneksi ke database\n",
    "conn = mysql.connector.connect(\n",
    "    host='localhost',\n",
    "    user='root',\n",
    "    password='',\n",
    "    database='tourista_db'\n",
    ")"
   ]
  },
  {
   "cell_type": "code",
   "execution_count": 3,
   "metadata": {},
   "outputs": [
    {
     "name": "stderr",
     "output_type": "stream",
     "text": [
      "C:\\Users\\dewan\\AppData\\Local\\Temp\\ipykernel_19508\\707316895.py:4: UserWarning: pandas only supports SQLAlchemy connectable (engine/connection) or database string URI or sqlite3 DBAPI2 connection. Other DBAPI2 objects are not tested. Please consider using SQLAlchemy.\n",
      "  destination = pd.read_sql_query(query, conn)\n",
      "C:\\Users\\dewan\\AppData\\Local\\Temp\\ipykernel_19508\\707316895.py:7: UserWarning: pandas only supports SQLAlchemy connectable (engine/connection) or database string URI or sqlite3 DBAPI2 connection. Other DBAPI2 objects are not tested. Please consider using SQLAlchemy.\n",
      "  ratings = pd.read_sql_query(query, conn)\n",
      "C:\\Users\\dewan\\AppData\\Local\\Temp\\ipykernel_19508\\707316895.py:10: UserWarning: pandas only supports SQLAlchemy connectable (engine/connection) or database string URI or sqlite3 DBAPI2 connection. Other DBAPI2 objects are not tested. Please consider using SQLAlchemy.\n",
      "  users = pd.read_sql_query(query, conn)\n"
     ]
    }
   ],
   "source": [
    "# Mengeksekusi query untuk mengambil data dari tabel\n",
    "\n",
    "query = \"SELECT * FROM destination\"\n",
    "destination = pd.read_sql_query(query, conn)\n",
    "\n",
    "query = \"SELECT * FROM review_wisata\"\n",
    "ratings = pd.read_sql_query(query, conn)\n",
    "\n",
    "query = \"SELECT * FROM user_profile\"\n",
    "users = pd.read_sql_query(query, conn)"
   ]
  },
  {
   "cell_type": "code",
   "execution_count": 4,
   "metadata": {},
   "outputs": [],
   "source": [
    "ratings = ratings.sort_values('wisata_rating', ascending=False).drop_duplicates(subset=['wisata_id', 'user_wisata'], keep='first')"
   ]
  },
  {
   "cell_type": "code",
   "execution_count": 5,
   "metadata": {},
   "outputs": [],
   "source": [
    "train, test = train_test_split(ratings, test_size = 0.2)"
   ]
  },
  {
   "attachments": {},
   "cell_type": "markdown",
   "metadata": {},
   "source": [
    "### load pre trained model"
   ]
  },
  {
   "cell_type": "code",
   "execution_count": 2,
   "metadata": {},
   "outputs": [],
   "source": [
    "model =  tf.keras.models.load_model('pretrained_collab_rec')"
   ]
  },
  {
   "cell_type": "code",
   "execution_count": 3,
   "metadata": {},
   "outputs": [
    {
     "name": "stderr",
     "output_type": "stream",
     "text": [
      "WARNING:absl:Found untraced functions such as _update_step_xla while saving (showing 1 of 1). These functions will not be directly callable after loading.\n"
     ]
    },
    {
     "name": "stdout",
     "output_type": "stream",
     "text": [
      "INFO:tensorflow:Assets written to: ../app/model/pretrained_collab_rec\\assets\n"
     ]
    },
    {
     "name": "stderr",
     "output_type": "stream",
     "text": [
      "INFO:tensorflow:Assets written to: ../app/model/pretrained_collab_rec\\assets\n"
     ]
    }
   ],
   "source": [
    "tf.keras.models.save_model(model, '../app/model/pretrained_collab_rec')"
   ]
  },
  {
   "cell_type": "code",
   "execution_count": 7,
   "metadata": {},
   "outputs": [],
   "source": [
    "# calculations for \"haversine distance\" and complementary functions for collaborative filtering\n",
    "from math import radians\n",
    "\n",
    "def haversine_distance(lat1, long1, lat2, long2):\n",
    "    earth_radius = 6371  # Radius of the Earth in kilometers (source: google)\n",
    "    lat1_rad = np.radians(lat1)\n",
    "    long1_rad = np.radians(long1)\n",
    "    lat2_rad = np.radians(lat2)\n",
    "    long2_rad = np.radians(long2)\n",
    "    diff_lat = lat2_rad - lat1_rad\n",
    "    diff_long = long2_rad - long1_rad\n",
    "    a = np.sin(diff_lat / 2) ** 2 + np.cos(lat1_rad) * np.cos(lat2_rad) * np.sin(diff_long / 2) ** 2\n",
    "    c = 2 * np.arcsin(np.sqrt(a))\n",
    "    distance = earth_radius * c\n",
    "    return distance\n",
    "\n",
    "def filter_by_location(destination, user_lat, user_long, max_distance):\n",
    "    destination['distance'] = haversine_distance(destination['destination_lat'], destination['destination_long'], user_lat, user_long)\n",
    "    destination = destination[destination['distance'] <= max_distance]\n",
    "    destination = destination.drop('distance', axis=1)\n",
    "    return destination\n",
    "\n",
    "def filter_by_city(destination):\n",
    "    city_filter = ['Jakarta', 'Bandung', 'Yogyakarta', 'Semarang', 'Surabaya']\n",
    "    destination = destination[destination['city'].isin(city_filter)]\n",
    "    return destination"
   ]
  },
  {
   "cell_type": "code",
   "execution_count": 8,
   "metadata": {},
   "outputs": [],
   "source": [
    "# recommendation system function using collaborative filtering\n",
    "def collaborative_rec(User_Id, destination ,model, u_lat, u_long, np_val = 6 ):\n",
    "    \"\"\"\n",
    "        User_Id : untuk melakukan rekomendasi berdasarkan User_Id yang diberikan\n",
    "        destinatin : dataframe dengan format column terdapat \"user_wisata, wisata_id, wisata_rating, name_wisata, category, description_wisata, destination_lat, destination_long, destination_photo, city\"\n",
    "        model : model hasil yang sudah di training sebelumnya\n",
    "        np_val : banyaknya output yang akan diberikan\n",
    "        u_lat & u_long : berguna untuk menentukan destinasi wisata terdekat dari lat & long yang diberikan\n",
    "    \"\"\"\n",
    "    \n",
    "    if User_Id in ratings['user_wisata'].values:\n",
    "            destination = destination.copy()\n",
    "            user_ids = np.array([User_Id] * len(destination))\n",
    "            results = model([destination.id.values, user_ids]).numpy().reshape(-1)\n",
    "    \n",
    "            destination['predicted_rating'] = pd.Series(results)\n",
    "            destination = filter_by_location(destination, u_lat, u_long, 30)[:20]\n",
    "            destination = destination.sort_values('predicted_rating', ascending = False)\n",
    "    else:\n",
    "            destination = destination.copy()\n",
    "            destination = destination.sort_values('rating', ascending = False)  \n",
    "    \n",
    "    return destination[['name_wisata', 'city','coordinate', 'destination_photo','description_wisata', 'predicted_rating']][:np_val].to_dict(orient='records')"
   ]
  },
  {
   "cell_type": "code",
   "execution_count": 9,
   "metadata": {},
   "outputs": [],
   "source": [
    "user_location = 'Bandung'\n",
    "user_lat = -6.1253\n",
    "user_long = 106.8335"
   ]
  },
  {
   "cell_type": "code",
   "execution_count": 11,
   "metadata": {},
   "outputs": [
    {
     "data": {
      "text/plain": [
       "[{'name_wisata': 'Jembatan Kota Intan',\n",
       "  'city': 'Jakarta',\n",
       "  'coordinate': \"{'lat': -6.1314572, 'lng': 106.8106169}\",\n",
       "  'destination_photo': 'lala.png',\n",
       "  'description_wisata': 'Jembatan Kota Intan adalah jembatan tertua di Indonesia yang dibangun pada tahun 1628 oleh pemerintah Vereenigde Oostindische Compagnie atau VOC, atau masyarakat kita lebih familiar dengan sebutan Kumpeni. Jembatan itu kini terletak di Kali Besar kawasan ',\n",
       "  'predicted_rating': 4.536832332611084},\n",
       " {'name_wisata': 'Museum Nasional',\n",
       "  'city': 'Jakarta',\n",
       "  'coordinate': \"{'lat': -6.176402099999999, 'lng': 106.8215901}\",\n",
       "  'destination_photo': 'lala.png',\n",
       "  'description_wisata': 'Museum Nasional Republik Indonesia atau Museum Gajah, adalah sebuah museum arkeologi, sejarah, etnografi, dan geografi yang terletak di Jakarta Pusat dan persisnya di Jalan Merdeka Barat 12. Museum ini merupakan museum pertama dan terbesar di Asia Tenggar',\n",
       "  'predicted_rating': 4.045568466186523},\n",
       " {'name_wisata': 'Atlantis Water Adventure',\n",
       "  'city': 'Jakarta',\n",
       "  'coordinate': \"{'lat': -6.12419, 'lng': 106.839134}\",\n",
       "  'destination_photo': 'lala.png',\n",
       "  'description_wisata': 'Atlantis Water Adventure atau dikenal dengan Atlantis Ancol akan menyuguhkan petualangan wisata air tak terlupakan. Tempat Wisata bertemakan permainan air dengan luas 5 hektar ini memberi sensasi petualangan di 8 kolam utama. Yaitu kolam Antila, Plaza Atl',\n",
       "  'predicted_rating': 4.040794849395752},\n",
       " {'name_wisata': 'Museum Wayang',\n",
       "  'city': 'Jakarta',\n",
       "  'coordinate': \"{'lat': -6.1349072, 'lng': 106.8124452}\",\n",
       "  'destination_photo': 'lala.png',\n",
       "  'description_wisata': 'Museum Wayang adalah sebuah museum yang berlokasi di Jalan Pintu Besar Utara Nomor 27, Jakarta Barat.',\n",
       "  'predicted_rating': 3.9934260845184326},\n",
       " {'name_wisata': 'Ocean Ecopark',\n",
       "  'city': 'Jakarta',\n",
       "  'coordinate': \"{'lat': -6.125801699999999, 'lng': 106.8363249}\",\n",
       "  'destination_photo': 'lala.png',\n",
       "  'description_wisata': 'Ocean Ecopark Salah satu zona rekreasi Ancol yang menawarkan ruang terbuka hijau serta pengalaman dan tidak melupakan sisi pendidikan bagi para pengunjung. Beragam aktivitas dan wahana seru yang bisa dimainkan di tempat rekreasi keluarga, beberapa diantar',\n",
       "  'predicted_rating': 3.8031301498413086},\n",
       " {'name_wisata': 'Museum Taman Prasasti',\n",
       "  'city': 'Jakarta',\n",
       "  'coordinate': \"{'lat': -6.172224099999998, 'lng': 106.8189695}\",\n",
       "  'destination_photo': 'lala.png',\n",
       "  'description_wisata': 'Museum Taman Prasasti adalah sebuah museum cagar budaya peninggalan masa kolonial Belanda yang berada di Jalan Tanah Abang No. 1, Jakarta Pusat. Museum ini memiliki koleksi prasasti nisan kuno serta miniatur makam khas dari 27 provinsi di Indonesia, beser',\n",
       "  'predicted_rating': 3.7425990104675293}]"
      ]
     },
     "execution_count": 11,
     "metadata": {},
     "output_type": "execute_result"
    }
   ],
   "source": [
    "final_result = collaborative_rec(34, destination, model, user_lat, user_long, )\n",
    "final_result"
   ]
  },
  {
   "attachments": {},
   "cell_type": "markdown",
   "metadata": {},
   "source": [
    "### try to train again"
   ]
  },
  {
   "cell_type": "code",
   "execution_count": 13,
   "metadata": {},
   "outputs": [],
   "source": [
    "from tensorflow.keras.callbacks import EarlyStopping\n",
    "from tensorflow.keras.optimizers import Adam\n",
    "\n",
    "early_stopping = EarlyStopping(patience=5, restore_best_weights=True)\n",
    "model.compile(optimizer=Adam(learning_rate = 0.0005), loss='mean_squared_error') "
   ]
  },
  {
   "cell_type": "code",
   "execution_count": 14,
   "metadata": {},
   "outputs": [
    {
     "name": "stdout",
     "output_type": "stream",
     "text": [
      "Epoch 1/10\n",
      "240/240 [==============================] - 2s 4ms/step - loss: 1.0296 - val_loss: 0.5938\n",
      "Epoch 2/10\n",
      "240/240 [==============================] - 1s 3ms/step - loss: 1.0166 - val_loss: 0.5626\n",
      "Epoch 3/10\n",
      "240/240 [==============================] - 1s 3ms/step - loss: 0.9796 - val_loss: 0.5364\n",
      "Epoch 4/10\n",
      "240/240 [==============================] - 1s 3ms/step - loss: 0.9512 - val_loss: 0.5142\n",
      "Epoch 5/10\n",
      "240/240 [==============================] - 1s 3ms/step - loss: 0.9264 - val_loss: 0.4945\n",
      "Epoch 6/10\n",
      "240/240 [==============================] - 1s 3ms/step - loss: 0.9018 - val_loss: 0.4764\n",
      "Epoch 7/10\n",
      "240/240 [==============================] - 1s 3ms/step - loss: 0.8912 - val_loss: 0.4601\n",
      "Epoch 8/10\n",
      "240/240 [==============================] - 1s 3ms/step - loss: 0.8823 - val_loss: 0.4464\n",
      "Epoch 9/10\n",
      "240/240 [==============================] - 1s 3ms/step - loss: 0.8735 - val_loss: 0.4315\n",
      "Epoch 10/10\n",
      "240/240 [==============================] - 1s 3ms/step - loss: 0.8607 - val_loss: 0.4178\n"
     ]
    },
    {
     "data": {
      "text/plain": [
       "<keras.callbacks.History at 0x1423cbc37f0>"
      ]
     },
     "execution_count": 14,
     "metadata": {},
     "output_type": "execute_result"
    }
   ],
   "source": [
    "model.fit(x= [train.wisata_id, train.user_wisata], \n",
    "                    y= train.wisata_rating, \n",
    "                    validation_data = ([train.wisata_id, train.user_wisata], train.wisata_rating), \n",
    "                    epochs =10,\n",
    "                    callbacks=[early_stopping],)"
   ]
  },
  {
   "cell_type": "code",
   "execution_count": 20,
   "metadata": {},
   "outputs": [
    {
     "name": "stdout",
     "output_type": "stream",
     "text": [
      "Epoch 1/50\n",
      "240/240 [==============================] - 1s 3ms/step - loss: 0.5671 - val_loss: 0.1023\n",
      "Epoch 2/50\n",
      "240/240 [==============================] - 1s 3ms/step - loss: 0.5441 - val_loss: 0.1020\n",
      "Epoch 3/50\n",
      "240/240 [==============================] - 1s 3ms/step - loss: 0.5585 - val_loss: 0.0999\n",
      "Epoch 4/50\n",
      "240/240 [==============================] - 1s 3ms/step - loss: 0.5637 - val_loss: 0.0985\n",
      "Epoch 5/50\n",
      "240/240 [==============================] - 1s 3ms/step - loss: 0.5492 - val_loss: 0.0985\n",
      "Epoch 6/50\n",
      "240/240 [==============================] - 1s 3ms/step - loss: 0.5679 - val_loss: 0.0977\n",
      "Epoch 7/50\n",
      "240/240 [==============================] - 1s 3ms/step - loss: 0.5440 - val_loss: 0.0974\n",
      "Epoch 8/50\n",
      "240/240 [==============================] - 1s 3ms/step - loss: 0.5572 - val_loss: 0.0962\n",
      "Epoch 9/50\n",
      "240/240 [==============================] - 1s 3ms/step - loss: 0.5437 - val_loss: 0.0968\n",
      "Epoch 10/50\n",
      "240/240 [==============================] - 1s 3ms/step - loss: 0.5510 - val_loss: 0.0963\n",
      "Epoch 11/50\n",
      "240/240 [==============================] - 1s 3ms/step - loss: 0.5569 - val_loss: 0.0958\n",
      "Epoch 12/50\n",
      "240/240 [==============================] - 1s 3ms/step - loss: 0.5451 - val_loss: 0.0948\n",
      "Epoch 13/50\n",
      "240/240 [==============================] - 1s 3ms/step - loss: 0.5571 - val_loss: 0.0935\n",
      "Epoch 14/50\n",
      "240/240 [==============================] - 1s 3ms/step - loss: 0.5487 - val_loss: 0.0938\n",
      "Epoch 15/50\n",
      "240/240 [==============================] - 1s 3ms/step - loss: 0.5435 - val_loss: 0.0935\n",
      "Epoch 16/50\n",
      "240/240 [==============================] - 1s 3ms/step - loss: 0.5472 - val_loss: 0.0925\n",
      "Epoch 17/50\n",
      "240/240 [==============================] - 1s 3ms/step - loss: 0.5578 - val_loss: 0.0912\n",
      "Epoch 18/50\n",
      "240/240 [==============================] - 1s 3ms/step - loss: 0.5547 - val_loss: 0.0906\n",
      "Epoch 19/50\n",
      "240/240 [==============================] - 1s 3ms/step - loss: 0.5438 - val_loss: 0.0887\n",
      "Epoch 20/50\n",
      "240/240 [==============================] - 1s 3ms/step - loss: 0.5519 - val_loss: 0.0889\n",
      "Epoch 21/50\n",
      "240/240 [==============================] - 1s 3ms/step - loss: 0.5400 - val_loss: 0.0887\n",
      "Epoch 22/50\n",
      "240/240 [==============================] - 1s 4ms/step - loss: 0.5308 - val_loss: 0.0877\n",
      "Epoch 23/50\n",
      "240/240 [==============================] - 1s 3ms/step - loss: 0.5367 - val_loss: 0.0866\n",
      "Epoch 24/50\n",
      "240/240 [==============================] - 1s 3ms/step - loss: 0.5450 - val_loss: 0.0873\n",
      "Epoch 25/50\n",
      "240/240 [==============================] - 1s 3ms/step - loss: 0.5367 - val_loss: 0.0860\n",
      "Epoch 26/50\n",
      "240/240 [==============================] - 1s 3ms/step - loss: 0.5349 - val_loss: 0.0879\n",
      "Epoch 27/50\n",
      "240/240 [==============================] - 1s 3ms/step - loss: 0.5397 - val_loss: 0.0862\n",
      "Epoch 28/50\n",
      "240/240 [==============================] - 1s 3ms/step - loss: 0.5375 - val_loss: 0.0859\n",
      "Epoch 29/50\n",
      "240/240 [==============================] - 1s 3ms/step - loss: 0.5416 - val_loss: 0.0853\n",
      "Epoch 30/50\n",
      "240/240 [==============================] - 1s 3ms/step - loss: 0.5334 - val_loss: 0.0838\n",
      "Epoch 31/50\n",
      "240/240 [==============================] - 1s 3ms/step - loss: 0.5328 - val_loss: 0.0843\n",
      "Epoch 32/50\n",
      "240/240 [==============================] - 1s 3ms/step - loss: 0.5412 - val_loss: 0.0854\n",
      "Epoch 33/50\n",
      "240/240 [==============================] - 1s 3ms/step - loss: 0.5355 - val_loss: 0.0852\n",
      "Epoch 34/50\n",
      "240/240 [==============================] - 1s 3ms/step - loss: 0.5321 - val_loss: 0.0841\n",
      "Epoch 35/50\n",
      "240/240 [==============================] - 1s 3ms/step - loss: 0.5380 - val_loss: 0.0838\n"
     ]
    }
   ],
   "source": [
    "history = model.fit(x= [train.wisata_id, train.user_wisata], \n",
    "                    y= train.wisata_rating, \n",
    "                    validation_data = ([train.wisata_id, train.user_wisata], train.wisata_rating), \n",
    "                    epochs =50,\n",
    "                    callbacks=[early_stopping],)"
   ]
  },
  {
   "cell_type": "code",
   "execution_count": 21,
   "metadata": {},
   "outputs": [
    {
     "data": {
      "image/png": "[encoded data removed]",
      "text/plain": [
       "<Figure size 640x480 with 1 Axes>"
      ]
     },
     "metadata": {},
     "output_type": "display_data"
    }
   ],
   "source": [
    "# Plot the training and validation loss\n",
    "plt.plot(history.history['loss'], label='Training Loss')\n",
    "plt.plot(history.history['val_loss'], label='Validation Loss')\n",
    "plt.xlabel('Epoch')\n",
    "plt.ylabel('Loss')\n",
    "plt.legend()\n",
    "plt.show()"
   ]
  },
  {
   "cell_type": "code",
   "execution_count": 15,
   "metadata": {},
   "outputs": [
    {
     "data": {
      "text/plain": [
       "[{'name_wisata': 'Jembatan Kota Intan',\n",
       "  'city': 'Jakarta',\n",
       "  'coordinate': \"{'lat': -6.1314572, 'lng': 106.8106169}\",\n",
       "  'destination_photo': 'lala.png',\n",
       "  'description_wisata': 'Jembatan Kota Intan adalah jembatan tertua di Indonesia yang dibangun pada tahun 1628 oleh pemerintah Vereenigde Oostindische Compagnie atau VOC, atau masyarakat kita lebih familiar dengan sebutan Kumpeni. Jembatan itu kini terletak di Kali Besar kawasan ',\n",
       "  'predicted_rating': 4.668848037719727},\n",
       " {'name_wisata': 'Atlantis Water Adventure',\n",
       "  'city': 'Jakarta',\n",
       "  'coordinate': \"{'lat': -6.12419, 'lng': 106.839134}\",\n",
       "  'destination_photo': 'lala.png',\n",
       "  'description_wisata': 'Atlantis Water Adventure atau dikenal dengan Atlantis Ancol akan menyuguhkan petualangan wisata air tak terlupakan. Tempat Wisata bertemakan permainan air dengan luas 5 hektar ini memberi sensasi petualangan di 8 kolam utama. Yaitu kolam Antila, Plaza Atl',\n",
       "  'predicted_rating': 4.077054023742676},\n",
       " {'name_wisata': 'Museum Wayang',\n",
       "  'city': 'Jakarta',\n",
       "  'coordinate': \"{'lat': -6.1349072, 'lng': 106.8124452}\",\n",
       "  'destination_photo': 'lala.png',\n",
       "  'description_wisata': 'Museum Wayang adalah sebuah museum yang berlokasi di Jalan Pintu Besar Utara Nomor 27, Jakarta Barat.',\n",
       "  'predicted_rating': 3.9596669673919678},\n",
       " {'name_wisata': 'Monumen Nasional',\n",
       "  'city': 'Jakarta',\n",
       "  'coordinate': \"{'lat': -6.1753924, 'lng': 106.8271528}\",\n",
       "  'destination_photo': 'lala.png',\n",
       "  'description_wisata': 'Monumen Nasional atau yang populer disingkat dengan Monas atau Tugu Monas adalah monumen peringatan setinggi 132 meter (433 kaki) yang didirikan untuk mengenang perlawanan dan perjuangan rakyat Indonesia untuk merebut kemerdekaan dari pemerintahan kolonia',\n",
       "  'predicted_rating': 3.8436429500579834},\n",
       " {'name_wisata': 'Museum Nasional',\n",
       "  'city': 'Jakarta',\n",
       "  'coordinate': \"{'lat': -6.176402099999999, 'lng': 106.8215901}\",\n",
       "  'destination_photo': 'lala.png',\n",
       "  'description_wisata': 'Museum Nasional Republik Indonesia atau Museum Gajah, adalah sebuah museum arkeologi, sejarah, etnografi, dan geografi yang terletak di Jakarta Pusat dan persisnya di Jalan Merdeka Barat 12. Museum ini merupakan museum pertama dan terbesar di Asia Tenggar',\n",
       "  'predicted_rating': 3.815500259399414},\n",
       " {'name_wisata': 'Kebun Binatang Ragunan',\n",
       "  'city': 'Jakarta',\n",
       "  'coordinate': \"{'lat': -6.3124593, 'lng': 106.8201865}\",\n",
       "  'destination_photo': 'lala.png',\n",
       "  'description_wisata': 'Kebun Binatang Ragunan adalah sebuah kebun binatang yang terletak di daerah Ragunan, Pasar Minggu, Jakarta Selatan, Indonesia. Kebun binatang seluas 140 hektare ini didirikan pada tahun 1864. Di dalamnya terdapat berbagai koleksi yang terdiri dari 295 spe',\n",
       "  'predicted_rating': 3.7472469806671143}]"
      ]
     },
     "execution_count": 15,
     "metadata": {},
     "output_type": "execute_result"
    }
   ],
   "source": [
    "final_result = collaborative_rec(34, destination, model, user_lat, user_long, )\n",
    "final_result"
   ]
  },
  {
   "cell_type": "code",
   "execution_count": 16,
   "metadata": {},
   "outputs": [
    {
     "name": "stdout",
     "output_type": "stream",
     "text": [
      "true\n"
     ]
    }
   ],
   "source": [
    "if 20 in ratings['user_wisata'].values:\n",
    "    print(\"true\")\n",
    "else:\n",
    "    print(\"false\")"
   ]
  }
 ],
 "metadata": {
  "kernelspec": {
   "display_name": "tf_new",
   "language": "python",
   "name": "python3"
  },
  "language_info": {
   "codemirror_mode": {
    "name": "ipython",
    "version": 3
   },
   "file_extension": ".py",
   "mimetype": "text/x-python",
   "name": "python",
   "nbconvert_exporter": "python",
   "pygments_lexer": "ipython3",
   "version": "3.10.11"
  },
  "orig_nbformat": 4
 },
 "nbformat": 4,
 "nbformat_minor": 2
}
