{
 "cells": [
  {
   "cell_type": "code",
   "execution_count": 43,
   "metadata": {},
   "outputs": [],
   "source": [
    "import mysql.connector\n",
    "# library for data analysis\n",
    "import numpy as np\n",
    "import pandas as pd\n",
    "import matplotlib.pyplot as plt\n",
    "\n",
    "from tensorflow.keras.optimizers import Adam\n",
    "import tensorflow as tf\n",
    "from tensorflow.keras.models import Model \n",
    "from tensorflow.keras.layers import Input, Embedding, Dot, Flatten, Dense\n",
    "from sklearn.model_selection import train_test_split \n",
    "from sklearn.metrics.pairwise import cosine_similarity\n",
    "\n",
    "import os "
   ]
  },
  {
   "cell_type": "code",
   "execution_count": 44,
   "metadata": {},
   "outputs": [],
   "source": [
    "# Membuat koneksi ke database\n",
    "conn = mysql.connector.connect(\n",
    "    host='localhost',\n",
    "    user='root',\n",
    "    password='',\n",
    "    database='tourista_db'\n",
    ")"
   ]
  },
  {
   "cell_type": "code",
   "execution_count": 45,
   "metadata": {},
   "outputs": [
    {
     "name": "stderr",
     "output_type": "stream",
     "text": [
      "C:\\Users\\dewan\\AppData\\Local\\Temp\\ipykernel_17460\\707316895.py:4: UserWarning: pandas only supports SQLAlchemy connectable (engine/connection) or database string URI or sqlite3 DBAPI2 connection. Other DBAPI2 objects are not tested. Please consider using SQLAlchemy.\n",
      "  destination = pd.read_sql_query(query, conn)\n",
      "C:\\Users\\dewan\\AppData\\Local\\Temp\\ipykernel_17460\\707316895.py:7: UserWarning: pandas only supports SQLAlchemy connectable (engine/connection) or database string URI or sqlite3 DBAPI2 connection. Other DBAPI2 objects are not tested. Please consider using SQLAlchemy.\n",
      "  ratings = pd.read_sql_query(query, conn)\n",
      "C:\\Users\\dewan\\AppData\\Local\\Temp\\ipykernel_17460\\707316895.py:10: UserWarning: pandas only supports SQLAlchemy connectable (engine/connection) or database string URI or sqlite3 DBAPI2 connection. Other DBAPI2 objects are not tested. Please consider using SQLAlchemy.\n",
      "  users = pd.read_sql_query(query, conn)\n"
     ]
    }
   ],
   "source": [
    "# Mengeksekusi query untuk mengambil data dari tabel\n",
    "\n",
    "query = \"SELECT * FROM destination\"\n",
    "destination = pd.read_sql_query(query, conn)\n",
    "\n",
    "query = \"SELECT * FROM review_wisata\"\n",
    "ratings = pd.read_sql_query(query, conn)\n",
    "\n",
    "query = \"SELECT * FROM user_profile\"\n",
    "users = pd.read_sql_query(query, conn)"
   ]
  },
  {
   "cell_type": "code",
   "execution_count": 46,
   "metadata": {},
   "outputs": [],
   "source": [
    "train, test = train_test_split(ratings, test_size = 0.2)"
   ]
  },
  {
   "cell_type": "code",
   "execution_count": 47,
   "metadata": {},
   "outputs": [
    {
     "name": "stdout",
     "output_type": "stream",
     "text": [
      "number of user = 300\n",
      "number of place name = 437\n"
     ]
    }
   ],
   "source": [
    "number_user = len(ratings['user_wisata'].unique())\n",
    "number_destination = len(ratings['wisata_id'].unique())\n",
    "\n",
    "print(f'number of user = {number_user}')\n",
    "print(f'number of place name = {number_destination}')"
   ]
  },
  {
   "cell_type": "code",
   "execution_count": 48,
   "metadata": {},
   "outputs": [],
   "source": [
    "# build recommendation system using emmbedding layers dan dropout(to overcome the overfitting)\n",
    "\n",
    "from tensorflow.keras.models import Model \n",
    "from tensorflow.keras.layers import Input, Embedding, Dot, Flatten, Dense, Dropout \n",
    "\n",
    "EMBEDDING_DIM = 50\n",
    "\n",
    "# input layers \n",
    "place_input = Input(shape=[1])\n",
    "user_input = Input(shape=[1])\n",
    "\n",
    "# embedding layers add dropout \n",
    "place_embedding = Embedding(number_destination+1 , EMBEDDING_DIM)(place_input)\n",
    "place_embedding = Dropout(0.2)(place_embedding)\n",
    "\n",
    "user_embedding = Embedding(number_user+1 , EMBEDDING_DIM)(user_input)\n",
    "user_embedding = Dropout(0.2)(user_embedding)\n",
    "\n",
    "# flatten the embedddings\n",
    "place_flat = Flatten()(place_embedding)\n",
    "user_flat = Flatten()(user_embedding)\n",
    "\n",
    "# output layer\n",
    "output = Dot(1)([place_flat, user_flat])\n",
    "\n",
    "# the model\n",
    "model = Model([place_input, user_input], [output])"
   ]
  },
  {
   "cell_type": "code",
   "execution_count": 49,
   "metadata": {},
   "outputs": [],
   "source": [
    "from tensorflow.keras.callbacks import EarlyStopping\n",
    "from tensorflow.keras.optimizers import Adam\n",
    "\n",
    "early_stopping = EarlyStopping(patience=5, restore_best_weights=True)\n",
    "model.compile(optimizer=Adam(learning_rate = 0.0005), loss='mean_squared_error') "
   ]
  },
  {
   "cell_type": "code",
   "execution_count": 50,
   "metadata": {},
   "outputs": [
    {
     "name": "stdout",
     "output_type": "stream",
     "text": [
      "Epoch 1/25\n",
      "250/250 [==============================] - 2s 4ms/step - loss: 11.3604 - val_loss: 11.3359\n",
      "Epoch 2/25\n",
      "250/250 [==============================] - 1s 3ms/step - loss: 11.3313 - val_loss: 11.2969\n",
      "Epoch 3/25\n",
      "250/250 [==============================] - 1s 3ms/step - loss: 11.2789 - val_loss: 11.2175\n",
      "Epoch 4/25\n",
      "250/250 [==============================] - 1s 3ms/step - loss: 11.1560 - val_loss: 11.0227\n",
      "Epoch 5/25\n",
      "250/250 [==============================] - 1s 3ms/step - loss: 10.8589 - val_loss: 10.5739\n",
      "Epoch 6/25\n",
      "250/250 [==============================] - 1s 3ms/step - loss: 10.2343 - val_loss: 9.7295\n",
      "Epoch 7/25\n",
      "250/250 [==============================] - 1s 3ms/step - loss: 9.1927 - val_loss: 8.4738\n",
      "Epoch 8/25\n",
      "250/250 [==============================] - 1s 3ms/step - loss: 7.7939 - val_loss: 6.9571\n",
      "Epoch 9/25\n",
      "250/250 [==============================] - 1s 3ms/step - loss: 6.2659 - val_loss: 5.4308\n",
      "Epoch 10/25\n",
      "250/250 [==============================] - 1s 3ms/step - loss: 4.8661 - val_loss: 4.1208\n",
      "Epoch 11/25\n",
      "250/250 [==============================] - 1s 3ms/step - loss: 3.7125 - val_loss: 3.1457\n",
      "Epoch 12/25\n",
      "250/250 [==============================] - 1s 3ms/step - loss: 2.9229 - val_loss: 2.4958\n",
      "Epoch 13/25\n",
      "250/250 [==============================] - 1s 3ms/step - loss: 2.4346 - val_loss: 2.1088\n",
      "Epoch 14/25\n",
      "250/250 [==============================] - 1s 3ms/step - loss: 2.1275 - val_loss: 1.8831\n",
      "Epoch 15/25\n",
      "250/250 [==============================] - 1s 3ms/step - loss: 1.9795 - val_loss: 1.7558\n",
      "Epoch 16/25\n",
      "250/250 [==============================] - 1s 3ms/step - loss: 1.8801 - val_loss: 1.6777\n",
      "Epoch 17/25\n",
      "250/250 [==============================] - 1s 3ms/step - loss: 1.8153 - val_loss: 1.6285\n",
      "Epoch 18/25\n",
      "250/250 [==============================] - 1s 3ms/step - loss: 1.7963 - val_loss: 1.5909\n",
      "Epoch 19/25\n",
      "250/250 [==============================] - 1s 3ms/step - loss: 1.7753 - val_loss: 1.5614\n",
      "Epoch 20/25\n",
      "250/250 [==============================] - 1s 3ms/step - loss: 1.7567 - val_loss: 1.5353\n",
      "Epoch 21/25\n",
      "250/250 [==============================] - 1s 3ms/step - loss: 1.7052 - val_loss: 1.5120\n",
      "Epoch 22/25\n",
      "250/250 [==============================] - 1s 3ms/step - loss: 1.7119 - val_loss: 1.4893\n",
      "Epoch 23/25\n",
      "250/250 [==============================] - 1s 3ms/step - loss: 1.6661 - val_loss: 1.4668\n",
      "Epoch 24/25\n",
      "250/250 [==============================] - 1s 3ms/step - loss: 1.6588 - val_loss: 1.4450\n",
      "Epoch 25/25\n",
      "250/250 [==============================] - 1s 3ms/step - loss: 1.6423 - val_loss: 1.4221\n"
     ]
    }
   ],
   "source": [
    "history = model.fit(x= [train.wisata_id, train.user_wisata], \n",
    "                    y= train.wisata_rating, \n",
    "                    validation_data = ([train.wisata_id, train.user_wisata], train.wisata_rating), \n",
    "                    epochs =25,\n",
    "                    callbacks=[early_stopping],)"
   ]
  },
  {
   "cell_type": "code",
   "execution_count": 56,
   "metadata": {},
   "outputs": [
    {
     "data": {
      "image/png": "[encoded data removed]",
      "text/plain": [
       "<Figure size 640x480 with 1 Axes>"
      ]
     },
     "metadata": {},
     "output_type": "display_data"
    }
   ],
   "source": [
    "# Plot the training and validation loss\n",
    "plt.plot(history.history['loss'], label='Training Loss')\n",
    "plt.plot(history.history['val_loss'], label='Validation Loss')\n",
    "plt.xlabel('Epoch')\n",
    "plt.ylabel('Loss')\n",
    "plt.legend()\n",
    "plt.show()"
   ]
  },
  {
   "cell_type": "code",
   "execution_count": 52,
   "metadata": {},
   "outputs": [],
   "source": [
    "# calculations for \"haversine distance\" and complementary functions for collaborative filtering\n",
    "from math import radians\n",
    "\n",
    "def haversine_distance(lat1, long1, lat2, long2):\n",
    "    earth_radius = 6371  # Radius of the Earth in kilometers (source: google)\n",
    "    lat1_rad = np.radians(lat1)\n",
    "    long1_rad = np.radians(long1)\n",
    "    lat2_rad = np.radians(lat2)\n",
    "    long2_rad = np.radians(long2)\n",
    "    diff_lat = lat2_rad - lat1_rad\n",
    "    diff_long = long2_rad - long1_rad\n",
    "    a = np.sin(diff_lat / 2) ** 2 + np.cos(lat1_rad) * np.cos(lat2_rad) * np.sin(diff_long / 2) ** 2\n",
    "    c = 2 * np.arcsin(np.sqrt(a))\n",
    "    distance = earth_radius * c\n",
    "    return distance\n",
    "\n",
    "def filter_by_location(destination, user_lat, user_long, max_distance):\n",
    "    destination['distance'] = haversine_distance(destination['destination_lat'], destination['destination_long'], user_lat, user_long)\n",
    "    destination = destination[destination['distance'] <= max_distance]\n",
    "    destination = destination.drop('distance', axis=1)\n",
    "    return destination\n",
    "\n",
    "def filter_by_city(destination):\n",
    "    city_filter = ['Jakarta', 'Bandung', 'Yogyakarta', 'Semarang', 'Surabaya']\n",
    "    destination = destination[destination['city'].isin(city_filter)]\n",
    "    return destination"
   ]
  },
  {
   "cell_type": "code",
   "execution_count": 57,
   "metadata": {},
   "outputs": [],
   "source": [
    "# recommendation system function using collaborative filtering\n",
    "def collaborative_rec(User_Id, destination ,model, np_val, user_location = '', ):\n",
    "    # detail user : digunakan untuk menyimpan data detail user untuk mengerucutkan data yang akan di outputkan\n",
    "    \n",
    "    if User_Id in ratings['user_wisata'].values:\n",
    "            destination = destination.copy()\n",
    "            user_ids = np.array([User_Id] * len(destination))\n",
    "            results = model([destination.id.values, user_ids]).numpy().reshape(-1)\n",
    "    \n",
    "            destination['predicted_rating'] = pd.Series(results)\n",
    "            destination = destination.sort_values('predicted_rating', ascending = False)\n",
    "    else:\n",
    "            destination = destination.copy()\n",
    "            destination = destination.sort_values('rating', ascending = False)\n",
    "    \n",
    "    if user_location != '':\n",
    "        destination = destination[destination['city'] == user_location]\n",
    "    \n",
    "    dataFinal = destination[:np_val]\n",
    "    \n",
    "    return dataFinal[['name_wisata', 'city', 'destination_photo','description_wisata']].to_dict(orient='records')"
   ]
  },
  {
   "attachments": {},
   "cell_type": "markdown",
   "metadata": {},
   "source": [
    "## Model result"
   ]
  },
  {
   "cell_type": "code",
   "execution_count": 61,
   "metadata": {},
   "outputs": [],
   "source": [
    "user_location = 'Bandung'"
   ]
  },
  {
   "cell_type": "code",
   "execution_count": 62,
   "metadata": {},
   "outputs": [
    {
     "data": {
      "text/plain": [
       "[{'name_wisata': 'Dago Dreampark',\n",
       "  'city': 'Bandung',\n",
       "  'destination_photo': 'lala.png',\n",
       "  'description_wisata': 'Dago Dreampark merupakan wisata kekinian di Kota Bandung dengan luas 13 hektar yang mengusung konsep Jawa - Sunda & Bali dengan dilengkapi berbagai fasilitas & wahana yang menarik.'},\n",
       " {'name_wisata': 'Teras Cikapundung BBWS',\n",
       "  'city': 'Bandung',\n",
       "  'destination_photo': 'lala.png',\n",
       "  'description_wisata': 'Teras Cikapundung Bandung sebelumnya merupakan daerah yang kumuh dan tak terurus yang berhasil diubah menjadi tempat wisata. Cikapundung adalah sungai yang membelah Kota Bandung yang dimulai dari daerah Bandung Utara dan bermuara di Sungai Citarum, Bandun'},\n",
       " {'name_wisata': 'Curug Batu Templek',\n",
       "  'city': 'Bandung',\n",
       "  'destination_photo': 'lala.png',\n",
       "  'description_wisata': 'Curug Batu Templek Bandung adalah sebuah wisata alam air terjun yang terletak di Kota Bandung Timur. Dari sekian banyak wisata alam air terjun di Bandung, Curug Batu Templek tak kalah menarik karena pemandangan di sekitarnya dipenuhi dengan terbing yang b'},\n",
       " {'name_wisata': 'Kampung Korea Bandung',\n",
       "  'city': 'Bandung',\n",
       "  'destination_photo': 'lala.png',\n",
       "  'description_wisata': 'Kampung Korea adalah sebuah kawasan di kota Bandung yang dibangun semirip mungkin dengan karakter kota Seoul di Korea Selatan. Tujuan pengembangan kawasan ini adalah sebagai bagian dari kegiatan sister city antara Bandung dengan Seol. Pembangunan dimulai '},\n",
       " {'name_wisata': 'Sanghyang Heuleut',\n",
       "  'city': 'Bandung',\n",
       "  'destination_photo': 'lala.png',\n",
       "  'description_wisata': 'Danau yang satu ini memiliki air jernih bernuansa kehijauan yang berpadu indah dengan tebing batu berukuran besar di sekelilingnya. Di sela-sela bebatuan, kamu bisa menemukan pepohonan dan rerumputan hijau yang menyegarkan mata. Bebatuannya yang tinggi it'}]"
      ]
     },
     "execution_count": 62,
     "metadata": {},
     "output_type": "execute_result"
    }
   ],
   "source": [
    "final_result = collaborative_rec(34, destination, model, 5, user_location = user_location)\n",
    "final_result"
   ]
  }
 ],
 "metadata": {
  "kernelspec": {
   "display_name": "tf_new",
   "language": "python",
   "name": "python3"
  },
  "language_info": {
   "codemirror_mode": {
    "name": "ipython",
    "version": 3
   },
   "file_extension": ".py",
   "mimetype": "text/x-python",
   "name": "python",
   "nbconvert_exporter": "python",
   "pygments_lexer": "ipython3",
   "version": "3.10.11"
  },
  "orig_nbformat": 4
 },
 "nbformat": 4,
 "nbformat_minor": 2
}
