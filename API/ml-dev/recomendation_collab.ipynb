{
 "cells": [
  {
   "cell_type": "code",
   "execution_count": 1,
   "metadata": {},
   "outputs": [],
   "source": [
    "# !pip install mysql-connector-python"
   ]
  },
  {
   "cell_type": "code",
   "execution_count": 2,
   "metadata": {},
   "outputs": [],
   "source": [
    "import mysql.connector\n",
    "# library for data analysis\n",
    "import numpy as np\n",
    "import pandas as pd\n",
    "import matplotlib.pyplot as plt\n",
    "\n",
    "from tensorflow.keras.optimizers import Adam\n",
    "import tensorflow as tf\n",
    "from tensorflow.keras.models import Model \n",
    "from tensorflow.keras.layers import Input, Embedding, Dot, Flatten, Dense\n",
    "from sklearn.model_selection import train_test_split \n",
    "from sklearn.metrics.pairwise import cosine_similarity\n",
    "\n",
    "import os "
   ]
  },
  {
   "cell_type": "code",
   "execution_count": 3,
   "metadata": {},
   "outputs": [],
   "source": [
    "# Membuat koneksi ke database\n",
    "conn = mysql.connector.connect(\n",
    "    host='localhost',\n",
    "    user='root',\n",
    "    password='',\n",
    "    database='tourista_db'\n",
    ")"
   ]
  },
  {
   "cell_type": "code",
   "execution_count": 4,
   "metadata": {},
   "outputs": [
    {
     "name": "stderr",
     "output_type": "stream",
     "text": [
      "C:\\Users\\dewan\\AppData\\Local\\Temp\\ipykernel_29432\\707316895.py:4: UserWarning: pandas only supports SQLAlchemy connectable (engine/connection) or database string URI or sqlite3 DBAPI2 connection. Other DBAPI2 objects are not tested. Please consider using SQLAlchemy.\n",
      "  destination = pd.read_sql_query(query, conn)\n",
      "C:\\Users\\dewan\\AppData\\Local\\Temp\\ipykernel_29432\\707316895.py:7: UserWarning: pandas only supports SQLAlchemy connectable (engine/connection) or database string URI or sqlite3 DBAPI2 connection. Other DBAPI2 objects are not tested. Please consider using SQLAlchemy.\n",
      "  ratings = pd.read_sql_query(query, conn)\n",
      "C:\\Users\\dewan\\AppData\\Local\\Temp\\ipykernel_29432\\707316895.py:10: UserWarning: pandas only supports SQLAlchemy connectable (engine/connection) or database string URI or sqlite3 DBAPI2 connection. Other DBAPI2 objects are not tested. Please consider using SQLAlchemy.\n",
      "  users = pd.read_sql_query(query, conn)\n"
     ]
    }
   ],
   "source": [
    "# Mengeksekusi query untuk mengambil data dari tabel\n",
    "\n",
    "query = \"SELECT * FROM destination\"\n",
    "destination = pd.read_sql_query(query, conn)\n",
    "\n",
    "query = \"SELECT * FROM review_wisata\"\n",
    "ratings = pd.read_sql_query(query, conn)\n",
    "\n",
    "query = \"SELECT * FROM user_profile\"\n",
    "users = pd.read_sql_query(query, conn)"
   ]
  },
  {
   "attachments": {},
   "cell_type": "markdown",
   "metadata": {},
   "source": [
    "### data preprocessing"
   ]
  },
  {
   "cell_type": "code",
   "execution_count": 5,
   "metadata": {},
   "outputs": [
    {
     "data": {
      "text/html": [
       "<div>\n",
       "<style scoped>\n",
       "    .dataframe tbody tr th:only-of-type {\n",
       "        vertical-align: middle;\n",
       "    }\n",
       "\n",
       "    .dataframe tbody tr th {\n",
       "        vertical-align: top;\n",
       "    }\n",
       "\n",
       "    .dataframe thead th {\n",
       "        text-align: right;\n",
       "    }\n",
       "</style>\n",
       "<table border=\"1\" class=\"dataframe\">\n",
       "  <thead>\n",
       "    <tr style=\"text-align: right;\">\n",
       "      <th></th>\n",
       "      <th>user_wisata</th>\n",
       "      <th>wisata_id</th>\n",
       "      <th>wisata_rating</th>\n",
       "    </tr>\n",
       "  </thead>\n",
       "  <tbody>\n",
       "    <tr>\n",
       "      <th>0</th>\n",
       "      <td>1</td>\n",
       "      <td>179</td>\n",
       "      <td>3.0</td>\n",
       "    </tr>\n",
       "    <tr>\n",
       "      <th>1</th>\n",
       "      <td>1</td>\n",
       "      <td>344</td>\n",
       "      <td>2.0</td>\n",
       "    </tr>\n",
       "  </tbody>\n",
       "</table>\n",
       "</div>"
      ],
      "text/plain": [
       "   user_wisata  wisata_id  wisata_rating\n",
       "0            1        179            3.0\n",
       "1            1        344            2.0"
      ]
     },
     "execution_count": 5,
     "metadata": {},
     "output_type": "execute_result"
    }
   ],
   "source": [
    "ratings.head(2)"
   ]
  },
  {
   "cell_type": "code",
   "execution_count": 6,
   "metadata": {},
   "outputs": [],
   "source": [
    "ratings = ratings.sort_values('wisata_rating', ascending=False).drop_duplicates(subset=['wisata_id', 'user_wisata'], keep='first')"
   ]
  },
  {
   "cell_type": "code",
   "execution_count": 7,
   "metadata": {},
   "outputs": [
    {
     "data": {
      "text/plain": [
       "(9597, 3)"
      ]
     },
     "execution_count": 7,
     "metadata": {},
     "output_type": "execute_result"
    }
   ],
   "source": [
    "ratings.shape"
   ]
  },
  {
   "cell_type": "code",
   "execution_count": 8,
   "metadata": {},
   "outputs": [],
   "source": [
    "train, test = train_test_split(ratings, test_size = 0.2)"
   ]
  },
  {
   "cell_type": "code",
   "execution_count": 9,
   "metadata": {},
   "outputs": [
    {
     "name": "stdout",
     "output_type": "stream",
     "text": [
      "number of user = 300\n",
      "number of place name = 437\n"
     ]
    }
   ],
   "source": [
    "number_user = len(ratings['user_wisata'].unique())\n",
    "number_destination = len(ratings['wisata_id'].unique())\n",
    "\n",
    "print(f'number of user = {number_user}')\n",
    "print(f'number of place name = {number_destination}')"
   ]
  },
  {
   "cell_type": "code",
   "execution_count": 10,
   "metadata": {},
   "outputs": [],
   "source": [
    "# build recommendation system using emmbedding layers dan dropout(to overcome the overfitting)\n",
    "\n",
    "from tensorflow.keras.models import Model \n",
    "from tensorflow.keras.layers import Input, Embedding, Dot, Flatten, Dense, Dropout \n",
    "\n",
    "EMBEDDING_DIM = 50\n",
    "\n",
    "# input layers \n",
    "place_input = Input(shape=[1])\n",
    "user_input = Input(shape=[1])\n",
    "\n",
    "# embedding layers add dropout \n",
    "place_embedding = Embedding(number_destination+1 , EMBEDDING_DIM)(place_input)\n",
    "place_embedding = Dropout(0.2)(place_embedding)\n",
    "\n",
    "user_embedding = Embedding(number_user+1 , EMBEDDING_DIM)(user_input)\n",
    "user_embedding = Dropout(0.2)(user_embedding)\n",
    "\n",
    "# flatten the embedddings\n",
    "place_flat = Flatten()(place_embedding)\n",
    "user_flat = Flatten()(user_embedding)\n",
    "\n",
    "# output layer\n",
    "output = Dot(1)([place_flat, user_flat])\n",
    "\n",
    "# the model\n",
    "model = Model([place_input, user_input], [output])"
   ]
  },
  {
   "cell_type": "code",
   "execution_count": 11,
   "metadata": {},
   "outputs": [],
   "source": [
    "from tensorflow.keras.callbacks import EarlyStopping\n",
    "from tensorflow.keras.optimizers import Adam\n",
    "\n",
    "early_stopping = EarlyStopping(patience=5, restore_best_weights=True)\n",
    "model.compile(optimizer=Adam(learning_rate = 0.0005), loss='mean_squared_error') "
   ]
  },
  {
   "cell_type": "code",
   "execution_count": null,
   "metadata": {},
   "outputs": [],
   "source": [
    "history = model.fit(x= [train.wisata_id, train.user_wisata], \n",
    "                    y= train.wisata_rating, \n",
    "                    validation_data = ([train.wisata_id, train.user_wisata], train.wisata_rating), \n",
    "                    epochs =200,\n",
    "                    callbacks=[early_stopping],)"
   ]
  },
  {
   "cell_type": "code",
   "execution_count": null,
   "metadata": {},
   "outputs": [
    {
     "data": {
      "image/png": "[encoded data removed]",
      "text/plain": [
       "<Figure size 640x480 with 1 Axes>"
      ]
     },
     "metadata": {},
     "output_type": "display_data"
    }
   ],
   "source": [
    "# Plot the training and validation loss\n",
    "plt.plot(history.history['loss'], label='Training Loss')\n",
    "plt.plot(history.history['val_loss'], label='Validation Loss')\n",
    "plt.xlabel('Epoch')\n",
    "plt.ylabel('Loss')\n",
    "plt.legend()\n",
    "plt.show()"
   ]
  },
  {
   "cell_type": "markdown",
   "metadata": {},
   "source": [
    "## Model result"
   ]
  },
  {
   "cell_type": "code",
   "execution_count": 16,
   "metadata": {},
   "outputs": [],
   "source": [
    "# calculations for \"haversine distance\" and complementary functions for collaborative filtering\n",
    "from math import radians\n",
    "\n",
    "def haversine_distance(lat1, long1, lat2, long2):\n",
    "    earth_radius = 6371  # Radius of the Earth in kilometers (source: google)\n",
    "    lat1_rad = np.radians(lat1)\n",
    "    long1_rad = np.radians(long1)\n",
    "    lat2_rad = np.radians(lat2)\n",
    "    long2_rad = np.radians(long2)\n",
    "    diff_lat = lat2_rad - lat1_rad\n",
    "    diff_long = long2_rad - long1_rad\n",
    "    a = np.sin(diff_lat / 2) ** 2 + np.cos(lat1_rad) * np.cos(lat2_rad) * np.sin(diff_long / 2) ** 2\n",
    "    c = 2 * np.arcsin(np.sqrt(a))\n",
    "    distance = earth_radius * c\n",
    "    return distance\n",
    "\n",
    "def filter_by_location(destination, user_lat, user_long, max_distance):\n",
    "    destination['distance'] = haversine_distance(destination['destination_lat'], destination['destination_long'], user_lat, user_long)\n",
    "    destination = destination[destination['distance'] <= max_distance]\n",
    "    destination = destination.drop('distance', axis=1)\n",
    "    return destination\n",
    "\n",
    "def filter_by_city(destination):\n",
    "    city_filter = ['Jakarta', 'Bandung', 'Yogyakarta', 'Semarang', 'Surabaya']\n",
    "    destination = destination[destination['city'].isin(city_filter)]\n",
    "    return destination"
   ]
  },
  {
   "cell_type": "code",
   "execution_count": 17,
   "metadata": {},
   "outputs": [],
   "source": [
    "# recommendation system function using collaborative filtering\n",
    "def collaborative_rec(User_Id, destination ,model, u_lat, u_long, np_val = 6 ):\n",
    "    \"\"\"\n",
    "        User_Id : untuk melakukan rekomendasi berdasarkan User_Id yang diberikan\n",
    "        destinatin : dataframe dengan format column terdapat \"user_wisata, wisata_id, wisata_rating, name_wisata, category, description_wisata, destination_lat, destination_long, destination_photo, city\"\n",
    "        model : model hasil yang sudah di training sebelumnya\n",
    "        np_val : banyaknya output yang akan diberikan\n",
    "        u_lat & u_long : berguna untuk menentukan destinasi wisata terdekat dari lat & long yang diberikan\n",
    "    \"\"\"\n",
    "    \n",
    "    if User_Id in ratings['user_wisata'].values:\n",
    "            destination = destination.copy()\n",
    "            user_ids = np.array([User_Id] * len(destination))\n",
    "            results = model([destination.id.values, user_ids]).numpy().reshape(-1)\n",
    "    \n",
    "            destination['predicted_rating'] = pd.Series(results)\n",
    "            destination = filter_by_location(destination, u_lat, u_long, 30)[:20]\n",
    "            destination = destination.sort_values('predicted_rating', ascending = False)\n",
    "    else:\n",
    "            destination = destination.copy()\n",
    "            destination = destination.sort_values('rating', ascending = False)  \n",
    "    \n",
    "    return destination[:np_val].to_dict(orient='records')"
   ]
  },
  {
   "cell_type": "code",
   "execution_count": 20,
   "metadata": {},
   "outputs": [],
   "source": [
    "user_location = 'Bandung'\n",
    "user_lat = -6.1253\n",
    "user_long = 106.8335"
   ]
  },
  {
   "cell_type": "code",
   "execution_count": null,
   "metadata": {},
   "outputs": [],
   "source": [
    "final_result = collaborative_rec(34, destination, model, user_lat, user_long, )\n",
    "final_result"
   ]
  },
  {
   "cell_type": "markdown",
   "metadata": {},
   "source": [
    "## Pretraining model"
   ]
  },
  {
   "cell_type": "code",
   "execution_count": null,
   "metadata": {},
   "outputs": [
    {
     "name": "stderr",
     "output_type": "stream",
     "text": [
      "WARNING:absl:Found untraced functions such as _update_step_xla while saving (showing 1 of 1). These functions will not be directly callable after loading.\n"
     ]
    },
    {
     "name": "stdout",
     "output_type": "stream",
     "text": [
      "INFO:tensorflow:Assets written to: pretrained_collab_rec\\assets\n"
     ]
    },
    {
     "name": "stderr",
     "output_type": "stream",
     "text": [
      "INFO:tensorflow:Assets written to: pretrained_collab_rec\\assets\n"
     ]
    }
   ],
   "source": [
    "# tf.keras.models.save_model(model, 'pretrained_collab_rec')"
   ]
  },
  {
   "cell_type": "code",
   "execution_count": 14,
   "metadata": {},
   "outputs": [],
   "source": [
    "# Example of loading pretrained model\n",
    "\n",
    "model =  tf.keras.models.load_model('pretrained_collab_rec')\n",
    "\n",
    "# pretrained_result = collaborative_rec(34, destination, loaded_model, user_lat, user_long)\n",
    "# print(pretrained_result==final_result)"
   ]
  },
  {
   "cell_type": "code",
   "execution_count": 21,
   "metadata": {},
   "outputs": [],
   "source": [
    "pretrained_result = collaborative_rec(34, destination, model, user_lat, user_long)"
   ]
  },
  {
   "cell_type": "code",
   "execution_count": 23,
   "metadata": {},
   "outputs": [
    {
     "data": {
      "text/plain": [
       "6"
      ]
     },
     "execution_count": 23,
     "metadata": {},
     "output_type": "execute_result"
    }
   ],
   "source": [
    "len(pretrained_result)"
   ]
  },
  {
   "cell_type": "code",
   "execution_count": null,
   "metadata": {},
   "outputs": [
    {
     "name": "stdout",
     "output_type": "stream",
     "text": [
      "Model: \"model_4\"\n",
      "__________________________________________________________________________________________________\n",
      " Layer (type)                   Output Shape         Param #     Connected to                     \n",
      "==================================================================================================\n",
      " input_9 (InputLayer)           [(None, 1)]          0           []                               \n",
      "                                                                                                  \n",
      " input_10 (InputLayer)          [(None, 1)]          0           []                               \n",
      "                                                                                                  \n",
      " embedding_8 (Embedding)        (None, 1, 50)        21900       ['input_9[0][0]']                \n",
      "                                                                                                  \n",
      " embedding_9 (Embedding)        (None, 1, 50)        15050       ['input_10[0][0]']               \n",
      "                                                                                                  \n",
      " dropout_8 (Dropout)            (None, 1, 50)        0           ['embedding_8[0][0]']            \n",
      "                                                                                                  \n",
      " dropout_9 (Dropout)            (None, 1, 50)        0           ['embedding_9[0][0]']            \n",
      "                                                                                                  \n",
      " flatten_8 (Flatten)            (None, 50)           0           ['dropout_8[0][0]']              \n",
      "                                                                                                  \n",
      " flatten_9 (Flatten)            (None, 50)           0           ['dropout_9[0][0]']              \n",
      "                                                                                                  \n",
      " dot_4 (Dot)                    (None, 1)            0           ['flatten_8[0][0]',              \n",
      "                                                                  'flatten_9[0][0]']              \n",
      "                                                                                                  \n",
      "==================================================================================================\n",
      "Total params: 36,950\n",
      "Trainable params: 36,950\n",
      "Non-trainable params: 0\n",
      "__________________________________________________________________________________________________\n"
     ]
    }
   ],
   "source": [
    "model.summary()"
   ]
  },
  {
   "cell_type": "code",
   "execution_count": null,
   "metadata": {},
   "outputs": [
    {
     "name": "stdout",
     "output_type": "stream",
     "text": [
      "Model: \"model_4\"\n",
      "__________________________________________________________________________________________________\n",
      " Layer (type)                   Output Shape         Param #     Connected to                     \n",
      "==================================================================================================\n",
      " input_9 (InputLayer)           [(None, 1)]          0           []                               \n",
      "                                                                                                  \n",
      " input_10 (InputLayer)          [(None, 1)]          0           []                               \n",
      "                                                                                                  \n",
      " embedding_8 (Embedding)        (None, 1, 50)        21900       ['input_9[0][0]']                \n",
      "                                                                                                  \n",
      " embedding_9 (Embedding)        (None, 1, 50)        15050       ['input_10[0][0]']               \n",
      "                                                                                                  \n",
      " dropout_8 (Dropout)            (None, 1, 50)        0           ['embedding_8[0][0]']            \n",
      "                                                                                                  \n",
      " dropout_9 (Dropout)            (None, 1, 50)        0           ['embedding_9[0][0]']            \n",
      "                                                                                                  \n",
      " flatten_8 (Flatten)            (None, 50)           0           ['dropout_8[0][0]']              \n",
      "                                                                                                  \n",
      " flatten_9 (Flatten)            (None, 50)           0           ['dropout_9[0][0]']              \n",
      "                                                                                                  \n",
      " dot_4 (Dot)                    (None, 1)            0           ['flatten_8[0][0]',              \n",
      "                                                                  'flatten_9[0][0]']              \n",
      "                                                                                                  \n",
      "==================================================================================================\n",
      "Total params: 36,950\n",
      "Trainable params: 36,950\n",
      "Non-trainable params: 0\n",
      "__________________________________________________________________________________________________\n"
     ]
    }
   ],
   "source": [
    "loaded_model.summary()"
   ]
  }
 ],
 "metadata": {
  "kernelspec": {
   "display_name": "Python 3 (ipykernel)",
   "language": "python",
   "name": "python3"
  },
  "language_info": {
   "codemirror_mode": {
    "name": "ipython",
    "version": 3
   },
   "file_extension": ".py",
   "mimetype": "text/x-python",
   "name": "python",
   "nbconvert_exporter": "python",
   "pygments_lexer": "ipython3",
   "version": "3.10.11"
  }
 },
 "nbformat": 4,
 "nbformat_minor": 2
}
