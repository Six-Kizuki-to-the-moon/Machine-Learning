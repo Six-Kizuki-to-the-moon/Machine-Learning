{
 "cells": [
  {
   "cell_type": "code",
   "execution_count": null,
   "metadata": {},
   "outputs": [],
   "source": [
    "# !pip install mysql-connector-python"
   ]
  },
  {
   "cell_type": "code",
   "execution_count": 2,
   "metadata": {},
   "outputs": [],
   "source": [
    "import mysql.connector\n",
    "# library for data analysis\n",
    "import numpy as np\n",
    "import pandas as pd\n",
    "import matplotlib.pyplot as plt\n",
    "\n",
    "from tensorflow.keras.optimizers import Adam\n",
    "import tensorflow as tf\n",
    "from tensorflow.keras.models import Model \n",
    "from tensorflow.keras.layers import Input, Embedding, Dot, Flatten, Dense\n",
    "from sklearn.model_selection import train_test_split \n",
    "from sklearn.metrics.pairwise import cosine_similarity\n",
    "\n",
    "import os "
   ]
  },
  {
   "cell_type": "code",
   "execution_count": 3,
   "metadata": {},
   "outputs": [],
   "source": [
    "# Membuat koneksi ke database\n",
    "conn = mysql.connector.connect(\n",
    "    host='localhost',\n",
    "    user='root',\n",
    "    password='',\n",
    "    database='tourista_db'\n",
    ")"
   ]
  },
  {
   "cell_type": "code",
   "execution_count": 4,
   "metadata": {},
   "outputs": [
    {
     "name": "stderr",
     "output_type": "stream",
     "text": [
      "C:\\Users\\dewan\\AppData\\Local\\Temp\\ipykernel_17864\\707316895.py:4: UserWarning: pandas only supports SQLAlchemy connectable (engine/connection) or database string URI or sqlite3 DBAPI2 connection. Other DBAPI2 objects are not tested. Please consider using SQLAlchemy.\n",
      "  destination = pd.read_sql_query(query, conn)\n",
      "C:\\Users\\dewan\\AppData\\Local\\Temp\\ipykernel_17864\\707316895.py:7: UserWarning: pandas only supports SQLAlchemy connectable (engine/connection) or database string URI or sqlite3 DBAPI2 connection. Other DBAPI2 objects are not tested. Please consider using SQLAlchemy.\n",
      "  ratings = pd.read_sql_query(query, conn)\n",
      "C:\\Users\\dewan\\AppData\\Local\\Temp\\ipykernel_17864\\707316895.py:10: UserWarning: pandas only supports SQLAlchemy connectable (engine/connection) or database string URI or sqlite3 DBAPI2 connection. Other DBAPI2 objects are not tested. Please consider using SQLAlchemy.\n",
      "  users = pd.read_sql_query(query, conn)\n"
     ]
    }
   ],
   "source": [
    "# Mengeksekusi query untuk mengambil data dari tabel\n",
    "\n",
    "query = \"SELECT * FROM destination\"\n",
    "destination = pd.read_sql_query(query, conn)\n",
    "\n",
    "query = \"SELECT * FROM review_wisata\"\n",
    "ratings = pd.read_sql_query(query, conn)\n",
    "\n",
    "query = \"SELECT * FROM user_profile\"\n",
    "users = pd.read_sql_query(query, conn)"
   ]
  },
  {
   "attachments": {},
   "cell_type": "markdown",
   "metadata": {},
   "source": [
    "### data preprocessing"
   ]
  },
  {
   "cell_type": "code",
   "execution_count": 5,
   "metadata": {},
   "outputs": [
    {
     "data": {
      "text/html": [
       "<div>\n",
       "<style scoped>\n",
       "    .dataframe tbody tr th:only-of-type {\n",
       "        vertical-align: middle;\n",
       "    }\n",
       "\n",
       "    .dataframe tbody tr th {\n",
       "        vertical-align: top;\n",
       "    }\n",
       "\n",
       "    .dataframe thead th {\n",
       "        text-align: right;\n",
       "    }\n",
       "</style>\n",
       "<table border=\"1\" class=\"dataframe\">\n",
       "  <thead>\n",
       "    <tr style=\"text-align: right;\">\n",
       "      <th></th>\n",
       "      <th>user_wisata</th>\n",
       "      <th>wisata_id</th>\n",
       "      <th>wisata_rating</th>\n",
       "    </tr>\n",
       "  </thead>\n",
       "  <tbody>\n",
       "    <tr>\n",
       "      <th>0</th>\n",
       "      <td>1</td>\n",
       "      <td>179</td>\n",
       "      <td>3.0</td>\n",
       "    </tr>\n",
       "    <tr>\n",
       "      <th>1</th>\n",
       "      <td>1</td>\n",
       "      <td>344</td>\n",
       "      <td>2.0</td>\n",
       "    </tr>\n",
       "  </tbody>\n",
       "</table>\n",
       "</div>"
      ],
      "text/plain": [
       "   user_wisata  wisata_id  wisata_rating\n",
       "0            1        179            3.0\n",
       "1            1        344            2.0"
      ]
     },
     "execution_count": 5,
     "metadata": {},
     "output_type": "execute_result"
    }
   ],
   "source": [
    "ratings.head(2)"
   ]
  },
  {
   "cell_type": "code",
   "execution_count": 9,
   "metadata": {},
   "outputs": [],
   "source": [
    "ratings = ratings.sort_values('wisata_rating', ascending=False).drop_duplicates(subset=['wisata_id', 'user_wisata'], keep='first')"
   ]
  },
  {
   "cell_type": "code",
   "execution_count": 10,
   "metadata": {},
   "outputs": [
    {
     "data": {
      "text/plain": [
       "(9597, 3)"
      ]
     },
     "execution_count": 10,
     "metadata": {},
     "output_type": "execute_result"
    }
   ],
   "source": [
    "ratings.shape"
   ]
  },
  {
   "cell_type": "code",
   "execution_count": 11,
   "metadata": {},
   "outputs": [],
   "source": [
    "train, test = train_test_split(ratings, test_size = 0.2)"
   ]
  },
  {
   "cell_type": "code",
   "execution_count": 13,
   "metadata": {},
   "outputs": [
    {
     "name": "stdout",
     "output_type": "stream",
     "text": [
      "number of user = 300\n",
      "number of place name = 437\n"
     ]
    }
   ],
   "source": [
    "number_user = len(ratings['user_wisata'].unique())\n",
    "number_destination = len(ratings['wisata_id'].unique())\n",
    "\n",
    "print(f'number of user = {number_user}')\n",
    "print(f'number of place name = {number_destination}')"
   ]
  },
  {
   "cell_type": "code",
   "execution_count": 22,
   "metadata": {},
   "outputs": [],
   "source": [
    "# build recommendation system using emmbedding layers dan dropout(to overcome the overfitting)\n",
    "\n",
    "from tensorflow.keras.models import Model \n",
    "from tensorflow.keras.layers import Input, Embedding, Dot, Flatten, Dense, Dropout \n",
    "\n",
    "EMBEDDING_DIM = 50\n",
    "\n",
    "# input layers \n",
    "place_input = Input(shape=[1])\n",
    "user_input = Input(shape=[1])\n",
    "\n",
    "# embedding layers add dropout \n",
    "place_embedding = Embedding(number_destination+1 , EMBEDDING_DIM)(place_input)\n",
    "place_embedding = Dropout(0.2)(place_embedding)\n",
    "\n",
    "user_embedding = Embedding(number_user+1 , EMBEDDING_DIM)(user_input)\n",
    "user_embedding = Dropout(0.2)(user_embedding)\n",
    "\n",
    "# flatten the embedddings\n",
    "place_flat = Flatten()(place_embedding)\n",
    "user_flat = Flatten()(user_embedding)\n",
    "\n",
    "# output layer\n",
    "output = Dot(1)([place_flat, user_flat])\n",
    "\n",
    "# the model\n",
    "model = Model([place_input, user_input], [output])"
   ]
  },
  {
   "cell_type": "code",
   "execution_count": 24,
   "metadata": {},
   "outputs": [],
   "source": [
    "from tensorflow.keras.callbacks import EarlyStopping\n",
    "from tensorflow.keras.optimizers import Adam\n",
    "\n",
    "early_stopping = EarlyStopping(patience=5, restore_best_weights=True)\n",
    "model.compile(optimizer=Adam(learning_rate = 0.0005), loss='mean_squared_error') "
   ]
  },
  {
   "cell_type": "code",
   "execution_count": 25,
   "metadata": {},
   "outputs": [
    {
     "name": "stdout",
     "output_type": "stream",
     "text": [
      "Epoch 1/100\n",
      "240/240 [==============================] - 2s 4ms/step - loss: 11.4905 - val_loss: 11.4665\n",
      "Epoch 2/100\n",
      "240/240 [==============================] - 1s 3ms/step - loss: 11.4625 - val_loss: 11.4298\n",
      "Epoch 3/100\n",
      "240/240 [==============================] - 1s 3ms/step - loss: 11.4125 - val_loss: 11.3522\n",
      "Epoch 4/100\n",
      "240/240 [==============================] - 1s 3ms/step - loss: 11.2913 - val_loss: 11.1585\n",
      "Epoch 5/100\n",
      "240/240 [==============================] - 1s 3ms/step - loss: 10.9919 - val_loss: 10.7075\n",
      "Epoch 6/100\n",
      "240/240 [==============================] - 1s 3ms/step - loss: 10.3574 - val_loss: 9.8543\n",
      "Epoch 7/100\n",
      "240/240 [==============================] - 1s 3ms/step - loss: 9.3059 - val_loss: 8.5897\n",
      "Epoch 8/100\n",
      "240/240 [==============================] - 1s 3ms/step - loss: 7.9134 - val_loss: 7.0543\n",
      "Epoch 9/100\n",
      "240/240 [==============================] - 1s 3ms/step - loss: 6.3629 - val_loss: 5.5079\n",
      "Epoch 10/100\n",
      "240/240 [==============================] - 1s 3ms/step - loss: 4.9098 - val_loss: 4.1769\n",
      "Epoch 11/100\n",
      "240/240 [==============================] - 1s 3ms/step - loss: 3.7556 - val_loss: 3.1784\n",
      "Epoch 12/100\n",
      "240/240 [==============================] - 1s 3ms/step - loss: 2.9462 - val_loss: 2.5158\n",
      "Epoch 13/100\n",
      "240/240 [==============================] - 1s 3ms/step - loss: 2.4217 - val_loss: 2.1161\n",
      "Epoch 14/100\n",
      "240/240 [==============================] - 1s 3ms/step - loss: 2.1477 - val_loss: 1.8852\n",
      "Epoch 15/100\n",
      "240/240 [==============================] - 1s 3ms/step - loss: 1.9794 - val_loss: 1.7550\n",
      "Epoch 16/100\n",
      "240/240 [==============================] - 1s 3ms/step - loss: 1.9022 - val_loss: 1.6759\n",
      "Epoch 17/100\n",
      "240/240 [==============================] - 1s 3ms/step - loss: 1.7936 - val_loss: 1.6263\n",
      "Epoch 18/100\n",
      "240/240 [==============================] - 1s 3ms/step - loss: 1.7876 - val_loss: 1.5896\n",
      "Epoch 19/100\n",
      "240/240 [==============================] - 1s 3ms/step - loss: 1.7443 - val_loss: 1.5620\n",
      "Epoch 20/100\n",
      "240/240 [==============================] - 1s 3ms/step - loss: 1.7420 - val_loss: 1.5375\n",
      "Epoch 21/100\n",
      "240/240 [==============================] - 1s 3ms/step - loss: 1.7192 - val_loss: 1.5161\n",
      "Epoch 22/100\n",
      "240/240 [==============================] - 1s 3ms/step - loss: 1.7136 - val_loss: 1.4952\n",
      "Epoch 23/100\n",
      "240/240 [==============================] - 1s 3ms/step - loss: 1.6703 - val_loss: 1.4750\n",
      "Epoch 24/100\n",
      "240/240 [==============================] - 1s 3ms/step - loss: 1.6464 - val_loss: 1.4543\n",
      "Epoch 25/100\n",
      "240/240 [==============================] - 1s 3ms/step - loss: 1.6483 - val_loss: 1.4348\n",
      "Epoch 26/100\n",
      "240/240 [==============================] - 1s 3ms/step - loss: 1.6132 - val_loss: 1.4146\n",
      "Epoch 27/100\n",
      "240/240 [==============================] - 1s 3ms/step - loss: 1.6022 - val_loss: 1.3925\n",
      "Epoch 28/100\n",
      "240/240 [==============================] - 1s 3ms/step - loss: 1.5824 - val_loss: 1.3702\n",
      "Epoch 29/100\n",
      "240/240 [==============================] - 1s 3ms/step - loss: 1.5414 - val_loss: 1.3472\n",
      "Epoch 30/100\n",
      "240/240 [==============================] - 1s 3ms/step - loss: 1.5360 - val_loss: 1.3240\n",
      "Epoch 31/100\n",
      "240/240 [==============================] - 1s 3ms/step - loss: 1.5104 - val_loss: 1.3004\n",
      "Epoch 32/100\n",
      "240/240 [==============================] - 1s 3ms/step - loss: 1.4744 - val_loss: 1.2763\n",
      "Epoch 33/100\n",
      "240/240 [==============================] - 1s 3ms/step - loss: 1.4807 - val_loss: 1.2518\n",
      "Epoch 34/100\n",
      "240/240 [==============================] - 1s 3ms/step - loss: 1.4404 - val_loss: 1.2266\n",
      "Epoch 35/100\n",
      "240/240 [==============================] - 1s 3ms/step - loss: 1.4229 - val_loss: 1.2011\n",
      "Epoch 36/100\n",
      "240/240 [==============================] - 1s 3ms/step - loss: 1.4144 - val_loss: 1.1748\n",
      "Epoch 37/100\n",
      "240/240 [==============================] - 1s 3ms/step - loss: 1.3693 - val_loss: 1.1490\n",
      "Epoch 38/100\n",
      "240/240 [==============================] - 1s 3ms/step - loss: 1.3493 - val_loss: 1.1230\n",
      "Epoch 39/100\n",
      "240/240 [==============================] - 1s 3ms/step - loss: 1.3221 - val_loss: 1.0961\n",
      "Epoch 40/100\n",
      "240/240 [==============================] - 1s 3ms/step - loss: 1.3031 - val_loss: 1.0698\n",
      "Epoch 41/100\n",
      "240/240 [==============================] - 1s 3ms/step - loss: 1.2914 - val_loss: 1.0428\n",
      "Epoch 42/100\n",
      "240/240 [==============================] - 1s 3ms/step - loss: 1.2708 - val_loss: 1.0165\n",
      "Epoch 43/100\n",
      "240/240 [==============================] - 1s 3ms/step - loss: 1.2619 - val_loss: 0.9900\n",
      "Epoch 44/100\n",
      "240/240 [==============================] - 1s 3ms/step - loss: 1.2181 - val_loss: 0.9635\n",
      "Epoch 45/100\n",
      "240/240 [==============================] - 1s 3ms/step - loss: 1.1802 - val_loss: 0.9376\n",
      "Epoch 46/100\n",
      "240/240 [==============================] - 1s 3ms/step - loss: 1.1680 - val_loss: 0.9112\n",
      "Epoch 47/100\n",
      "240/240 [==============================] - 1s 3ms/step - loss: 1.1475 - val_loss: 0.8855\n",
      "Epoch 48/100\n",
      "240/240 [==============================] - 1s 3ms/step - loss: 1.1170 - val_loss: 0.8595\n",
      "Epoch 49/100\n",
      "240/240 [==============================] - 1s 3ms/step - loss: 1.0942 - val_loss: 0.8343\n",
      "Epoch 50/100\n",
      "240/240 [==============================] - 1s 3ms/step - loss: 1.0568 - val_loss: 0.8098\n",
      "Epoch 51/100\n",
      "240/240 [==============================] - 1s 3ms/step - loss: 1.0550 - val_loss: 0.7859\n",
      "Epoch 52/100\n",
      "240/240 [==============================] - 1s 3ms/step - loss: 1.0571 - val_loss: 0.7627\n",
      "Epoch 53/100\n",
      "240/240 [==============================] - 1s 3ms/step - loss: 1.0104 - val_loss: 0.7378\n",
      "Epoch 54/100\n",
      "240/240 [==============================] - 1s 3ms/step - loss: 1.0127 - val_loss: 0.7139\n",
      "Epoch 55/100\n",
      "240/240 [==============================] - 1s 3ms/step - loss: 0.9701 - val_loss: 0.6910\n",
      "Epoch 56/100\n",
      "240/240 [==============================] - 1s 3ms/step - loss: 0.9635 - val_loss: 0.6685\n",
      "Epoch 57/100\n",
      "240/240 [==============================] - 1s 3ms/step - loss: 0.9221 - val_loss: 0.6470\n",
      "Epoch 58/100\n",
      "240/240 [==============================] - 1s 3ms/step - loss: 0.9234 - val_loss: 0.6255\n",
      "Epoch 59/100\n",
      "240/240 [==============================] - 1s 3ms/step - loss: 0.8941 - val_loss: 0.6044\n",
      "Epoch 60/100\n",
      "240/240 [==============================] - 1s 3ms/step - loss: 0.8888 - val_loss: 0.5844\n",
      "Epoch 61/100\n",
      "240/240 [==============================] - 1s 3ms/step - loss: 0.8819 - val_loss: 0.5659\n",
      "Epoch 62/100\n",
      "240/240 [==============================] - 1s 3ms/step - loss: 0.8582 - val_loss: 0.5458\n",
      "Epoch 63/100\n",
      "240/240 [==============================] - 1s 3ms/step - loss: 0.8641 - val_loss: 0.5284\n",
      "Epoch 64/100\n",
      "240/240 [==============================] - 1s 3ms/step - loss: 0.8173 - val_loss: 0.5100\n",
      "Epoch 65/100\n",
      "240/240 [==============================] - 1s 3ms/step - loss: 0.8222 - val_loss: 0.4942\n",
      "Epoch 66/100\n",
      "240/240 [==============================] - 1s 3ms/step - loss: 0.8013 - val_loss: 0.4772\n",
      "Epoch 67/100\n",
      "240/240 [==============================] - 1s 3ms/step - loss: 0.7952 - val_loss: 0.4612\n",
      "Epoch 68/100\n",
      "240/240 [==============================] - 1s 3ms/step - loss: 0.7965 - val_loss: 0.4452\n",
      "Epoch 69/100\n",
      "240/240 [==============================] - 1s 3ms/step - loss: 0.7644 - val_loss: 0.4294\n",
      "Epoch 70/100\n",
      "240/240 [==============================] - 1s 3ms/step - loss: 0.7474 - val_loss: 0.4148\n",
      "Epoch 71/100\n",
      "240/240 [==============================] - 1s 3ms/step - loss: 0.7726 - val_loss: 0.4011\n",
      "Epoch 72/100\n",
      "240/240 [==============================] - 1s 3ms/step - loss: 0.7307 - val_loss: 0.3874\n",
      "Epoch 73/100\n",
      "240/240 [==============================] - 1s 3ms/step - loss: 0.7406 - val_loss: 0.3745\n",
      "Epoch 74/100\n",
      "240/240 [==============================] - 1s 3ms/step - loss: 0.7341 - val_loss: 0.3626\n",
      "Epoch 75/100\n",
      "240/240 [==============================] - 1s 3ms/step - loss: 0.7276 - val_loss: 0.3509\n",
      "Epoch 76/100\n",
      "240/240 [==============================] - 1s 3ms/step - loss: 0.6801 - val_loss: 0.3389\n",
      "Epoch 77/100\n",
      "240/240 [==============================] - 1s 3ms/step - loss: 0.7017 - val_loss: 0.3265\n",
      "Epoch 78/100\n",
      "240/240 [==============================] - 1s 4ms/step - loss: 0.6813 - val_loss: 0.3158\n",
      "Epoch 79/100\n",
      "240/240 [==============================] - 1s 3ms/step - loss: 0.6893 - val_loss: 0.3062\n",
      "Epoch 80/100\n",
      "240/240 [==============================] - 1s 3ms/step - loss: 0.6678 - val_loss: 0.2971\n",
      "Epoch 81/100\n",
      "240/240 [==============================] - 1s 3ms/step - loss: 0.6577 - val_loss: 0.2875\n",
      "Epoch 82/100\n",
      "240/240 [==============================] - 1s 3ms/step - loss: 0.6594 - val_loss: 0.2789\n",
      "Epoch 83/100\n",
      "240/240 [==============================] - 1s 3ms/step - loss: 0.6440 - val_loss: 0.2707\n",
      "Epoch 84/100\n",
      "240/240 [==============================] - 1s 3ms/step - loss: 0.6477 - val_loss: 0.2626\n",
      "Epoch 85/100\n",
      "240/240 [==============================] - 1s 3ms/step - loss: 0.6588 - val_loss: 0.2550\n",
      "Epoch 86/100\n",
      "240/240 [==============================] - 1s 3ms/step - loss: 0.6436 - val_loss: 0.2467\n",
      "Epoch 87/100\n",
      "240/240 [==============================] - 1s 3ms/step - loss: 0.6444 - val_loss: 0.2407\n",
      "Epoch 88/100\n",
      "240/240 [==============================] - 1s 3ms/step - loss: 0.6409 - val_loss: 0.2329\n",
      "Epoch 89/100\n",
      "240/240 [==============================] - 1s 3ms/step - loss: 0.6160 - val_loss: 0.2261\n",
      "Epoch 90/100\n",
      "240/240 [==============================] - 1s 3ms/step - loss: 0.6099 - val_loss: 0.2189\n",
      "Epoch 91/100\n",
      "240/240 [==============================] - 1s 3ms/step - loss: 0.6163 - val_loss: 0.2140\n",
      "Epoch 92/100\n",
      "240/240 [==============================] - 1s 3ms/step - loss: 0.6308 - val_loss: 0.2083\n",
      "Epoch 93/100\n",
      "240/240 [==============================] - 1s 3ms/step - loss: 0.6112 - val_loss: 0.2022\n",
      "Epoch 94/100\n",
      "240/240 [==============================] - 1s 3ms/step - loss: 0.6150 - val_loss: 0.1967\n",
      "Epoch 95/100\n",
      "240/240 [==============================] - 1s 3ms/step - loss: 0.6103 - val_loss: 0.1913\n",
      "Epoch 96/100\n",
      "240/240 [==============================] - 1s 3ms/step - loss: 0.5846 - val_loss: 0.1880\n",
      "Epoch 97/100\n",
      "240/240 [==============================] - 1s 3ms/step - loss: 0.5910 - val_loss: 0.1832\n",
      "Epoch 98/100\n",
      "240/240 [==============================] - 1s 3ms/step - loss: 0.5828 - val_loss: 0.1793\n",
      "Epoch 99/100\n",
      "240/240 [==============================] - 1s 3ms/step - loss: 0.6036 - val_loss: 0.1748\n",
      "Epoch 100/100\n",
      "240/240 [==============================] - 1s 3ms/step - loss: 0.5932 - val_loss: 0.1716\n"
     ]
    }
   ],
   "source": [
    "history = model.fit(x= [train.wisata_id, train.user_wisata], \n",
    "                    y= train.wisata_rating, \n",
    "                    validation_data = ([train.wisata_id, train.user_wisata], train.wisata_rating), \n",
    "                    epochs =100,\n",
    "                    callbacks=[early_stopping],)"
   ]
  },
  {
   "cell_type": "code",
   "execution_count": 26,
   "metadata": {},
   "outputs": [
    {
     "data": {
      "image/png": "[encoded data removed]",
      "text/plain": [
       "<Figure size 640x480 with 1 Axes>"
      ]
     },
     "metadata": {},
     "output_type": "display_data"
    }
   ],
   "source": [
    "# Plot the training and validation loss\n",
    "plt.plot(history.history['loss'], label='Training Loss')\n",
    "plt.plot(history.history['val_loss'], label='Validation Loss')\n",
    "plt.xlabel('Epoch')\n",
    "plt.ylabel('Loss')\n",
    "plt.legend()\n",
    "plt.show()"
   ]
  },
  {
   "cell_type": "markdown",
   "metadata": {},
   "source": [
    "## Model result"
   ]
  },
  {
   "cell_type": "code",
   "execution_count": 28,
   "metadata": {},
   "outputs": [],
   "source": [
    "# calculations for \"haversine distance\" and complementary functions for collaborative filtering\n",
    "from math import radians\n",
    "\n",
    "def haversine_distance(lat1, long1, lat2, long2):\n",
    "    earth_radius = 6371  # Radius of the Earth in kilometers (source: google)\n",
    "    lat1_rad = np.radians(lat1)\n",
    "    long1_rad = np.radians(long1)\n",
    "    lat2_rad = np.radians(lat2)\n",
    "    long2_rad = np.radians(long2)\n",
    "    diff_lat = lat2_rad - lat1_rad\n",
    "    diff_long = long2_rad - long1_rad\n",
    "    a = np.sin(diff_lat / 2) ** 2 + np.cos(lat1_rad) * np.cos(lat2_rad) * np.sin(diff_long / 2) ** 2\n",
    "    c = 2 * np.arcsin(np.sqrt(a))\n",
    "    distance = earth_radius * c\n",
    "    return distance\n",
    "\n",
    "def filter_by_location(destination, user_lat, user_long, max_distance):\n",
    "    destination['distance'] = haversine_distance(destination['destination_lat'], destination['destination_long'], user_lat, user_long)\n",
    "    destination = destination[destination['distance'] <= max_distance]\n",
    "    destination = destination.drop('distance', axis=1)\n",
    "    return destination\n",
    "\n",
    "def filter_by_city(destination):\n",
    "    city_filter = ['Jakarta', 'Bandung', 'Yogyakarta', 'Semarang', 'Surabaya']\n",
    "    destination = destination[destination['city'].isin(city_filter)]\n",
    "    return destination"
   ]
  },
  {
   "cell_type": "code",
   "execution_count": 43,
   "metadata": {},
   "outputs": [],
   "source": [
    "# recommendation system function using collaborative filtering\n",
    "def collaborative_rec(User_Id, destination ,model, u_lat, u_long, np_val = 6 ):\n",
    "    \"\"\"\n",
    "        User_Id : untuk melakukan rekomendasi berdasarkan User_Id yang diberikan\n",
    "        destinatin : dataframe dengan format column terdapat \"user_wisata, wisata_id, wisata_rating, name_wisata, category, description_wisata, destination_lat, destination_long, destination_photo, city\"\n",
    "        model : model hasil yang sudah di training sebelumnya\n",
    "        np_val : banyaknya output yang akan diberikan\n",
    "        u_lat & u_long : berguna untuk menentukan destinasi wisata terdekat dari lat & long yang diberikan\n",
    "    \"\"\"\n",
    "    \n",
    "    if User_Id in ratings['user_wisata'].values:\n",
    "            destination = destination.copy()\n",
    "            user_ids = np.array([User_Id] * len(destination))\n",
    "            results = model([destination.id.values, user_ids]).numpy().reshape(-1)\n",
    "    \n",
    "            destination['predicted_rating'] = pd.Series(results)\n",
    "            destination = filter_by_location(destination, u_lat, u_long, 30)[:20]\n",
    "            destination = destination.sort_values('predicted_rating', ascending = False)\n",
    "    else:\n",
    "            destination = destination.copy()\n",
    "            destination = destination.sort_values('rating', ascending = False)  \n",
    "    \n",
    "    return destination[['name_wisata', 'city','coordinate', 'destination_photo','description_wisata', 'predicted_rating']][:np_val].to_dict(orient='records')"
   ]
  },
  {
   "cell_type": "code",
   "execution_count": 44,
   "metadata": {},
   "outputs": [],
   "source": [
    "user_location = 'Bandung'\n",
    "user_lat = -6.1253\n",
    "user_long = 106.8335"
   ]
  },
  {
   "cell_type": "code",
   "execution_count": 45,
   "metadata": {},
   "outputs": [
    {
     "data": {
      "text/plain": [
       "[{'name_wisata': 'Jembatan Kota Intan',\n",
       "  'city': 'Jakarta',\n",
       "  'coordinate': \"{'lat': -6.1314572, 'lng': 106.8106169}\",\n",
       "  'destination_photo': 'lala.png',\n",
       "  'description_wisata': 'Jembatan Kota Intan adalah jembatan tertua di Indonesia yang dibangun pada tahun 1628 oleh pemerintah Vereenigde Oostindische Compagnie atau VOC, atau masyarakat kita lebih familiar dengan sebutan Kumpeni. Jembatan itu kini terletak di Kali Besar kawasan ',\n",
       "  'predicted_rating': 4.536832332611084},\n",
       " {'name_wisata': 'Museum Nasional',\n",
       "  'city': 'Jakarta',\n",
       "  'coordinate': \"{'lat': -6.176402099999999, 'lng': 106.8215901}\",\n",
       "  'destination_photo': 'lala.png',\n",
       "  'description_wisata': 'Museum Nasional Republik Indonesia atau Museum Gajah, adalah sebuah museum arkeologi, sejarah, etnografi, dan geografi yang terletak di Jakarta Pusat dan persisnya di Jalan Merdeka Barat 12. Museum ini merupakan museum pertama dan terbesar di Asia Tenggar',\n",
       "  'predicted_rating': 4.045568466186523},\n",
       " {'name_wisata': 'Atlantis Water Adventure',\n",
       "  'city': 'Jakarta',\n",
       "  'coordinate': \"{'lat': -6.12419, 'lng': 106.839134}\",\n",
       "  'destination_photo': 'lala.png',\n",
       "  'description_wisata': 'Atlantis Water Adventure atau dikenal dengan Atlantis Ancol akan menyuguhkan petualangan wisata air tak terlupakan. Tempat Wisata bertemakan permainan air dengan luas 5 hektar ini memberi sensasi petualangan di 8 kolam utama. Yaitu kolam Antila, Plaza Atl',\n",
       "  'predicted_rating': 4.040794849395752},\n",
       " {'name_wisata': 'Museum Wayang',\n",
       "  'city': 'Jakarta',\n",
       "  'coordinate': \"{'lat': -6.1349072, 'lng': 106.8124452}\",\n",
       "  'destination_photo': 'lala.png',\n",
       "  'description_wisata': 'Museum Wayang adalah sebuah museum yang berlokasi di Jalan Pintu Besar Utara Nomor 27, Jakarta Barat.',\n",
       "  'predicted_rating': 3.9934260845184326},\n",
       " {'name_wisata': 'Ocean Ecopark',\n",
       "  'city': 'Jakarta',\n",
       "  'coordinate': \"{'lat': -6.125801699999999, 'lng': 106.8363249}\",\n",
       "  'destination_photo': 'lala.png',\n",
       "  'description_wisata': 'Ocean Ecopark Salah satu zona rekreasi Ancol yang menawarkan ruang terbuka hijau serta pengalaman dan tidak melupakan sisi pendidikan bagi para pengunjung. Beragam aktivitas dan wahana seru yang bisa dimainkan di tempat rekreasi keluarga, beberapa diantar',\n",
       "  'predicted_rating': 3.8031301498413086},\n",
       " {'name_wisata': 'Museum Taman Prasasti',\n",
       "  'city': 'Jakarta',\n",
       "  'coordinate': \"{'lat': -6.172224099999998, 'lng': 106.8189695}\",\n",
       "  'destination_photo': 'lala.png',\n",
       "  'description_wisata': 'Museum Taman Prasasti adalah sebuah museum cagar budaya peninggalan masa kolonial Belanda yang berada di Jalan Tanah Abang No. 1, Jakarta Pusat. Museum ini memiliki koleksi prasasti nisan kuno serta miniatur makam khas dari 27 provinsi di Indonesia, beser',\n",
       "  'predicted_rating': 3.7425990104675293}]"
      ]
     },
     "execution_count": 45,
     "metadata": {},
     "output_type": "execute_result"
    }
   ],
   "source": [
    "final_result = collaborative_rec(34, destination, model, user_lat, user_long, )\n",
    "final_result"
   ]
  },
  {
   "cell_type": "markdown",
   "metadata": {},
   "source": [
    "## Pretraining model"
   ]
  },
  {
   "cell_type": "code",
   "execution_count": 46,
   "metadata": {},
   "outputs": [
    {
     "name": "stderr",
     "output_type": "stream",
     "text": [
      "WARNING:absl:Found untraced functions such as _update_step_xla while saving (showing 1 of 1). These functions will not be directly callable after loading.\n"
     ]
    },
    {
     "name": "stdout",
     "output_type": "stream",
     "text": [
      "INFO:tensorflow:Assets written to: pretrained_collab_rec\\assets\n"
     ]
    },
    {
     "name": "stderr",
     "output_type": "stream",
     "text": [
      "INFO:tensorflow:Assets written to: pretrained_collab_rec\\assets\n"
     ]
    }
   ],
   "source": [
    "tf.keras.models.save_model(model, 'pretrained_collab_rec')"
   ]
  },
  {
   "cell_type": "code",
   "execution_count": 48,
   "metadata": {},
   "outputs": [
    {
     "name": "stdout",
     "output_type": "stream",
     "text": [
      "True\n"
     ]
    }
   ],
   "source": [
    "# Example of loading pretrained model\n",
    "\n",
    "loaded_model =  tf.keras.models.load_model('pretrained_collab_rec')\n",
    "\n",
    "pretrained_result = collaborative_rec(34, destination, loaded_model, user_lat, user_long)\n",
    "print(pretrained_result==final_result)"
   ]
  },
  {
   "cell_type": "code",
   "execution_count": 188,
   "metadata": {},
   "outputs": [
    {
     "name": "stdout",
     "output_type": "stream",
     "text": [
      "Model: \"model_6\"\n",
      "__________________________________________________________________________________________________\n",
      " Layer (type)                   Output Shape         Param #     Connected to                     \n",
      "==================================================================================================\n",
      " input_13 (InputLayer)          [(None, 1)]          0           []                               \n",
      "                                                                                                  \n",
      " input_14 (InputLayer)          [(None, 1)]          0           []                               \n",
      "                                                                                                  \n",
      " embedding_12 (Embedding)       (None, 1, 50)        21900       ['input_13[0][0]']               \n",
      "                                                                                                  \n",
      " embedding_13 (Embedding)       (None, 1, 50)        15050       ['input_14[0][0]']               \n",
      "                                                                                                  \n",
      " dropout_12 (Dropout)           (None, 1, 50)        0           ['embedding_12[0][0]']           \n",
      "                                                                                                  \n",
      " dropout_13 (Dropout)           (None, 1, 50)        0           ['embedding_13[0][0]']           \n",
      "                                                                                                  \n",
      " flatten_12 (Flatten)           (None, 50)           0           ['dropout_12[0][0]']             \n",
      "                                                                                                  \n",
      " flatten_13 (Flatten)           (None, 50)           0           ['dropout_13[0][0]']             \n",
      "                                                                                                  \n",
      " dot_6 (Dot)                    (None, 1)            0           ['flatten_12[0][0]',             \n",
      "                                                                  'flatten_13[0][0]']             \n",
      "                                                                                                  \n",
      "==================================================================================================\n",
      "Total params: 36,950\n",
      "Trainable params: 36,950\n",
      "Non-trainable params: 0\n",
      "__________________________________________________________________________________________________\n"
     ]
    }
   ],
   "source": [
    "model.summary()"
   ]
  },
  {
   "cell_type": "code",
   "execution_count": 189,
   "metadata": {},
   "outputs": [
    {
     "name": "stdout",
     "output_type": "stream",
     "text": [
      "Model: \"model_6\"\n",
      "__________________________________________________________________________________________________\n",
      " Layer (type)                   Output Shape         Param #     Connected to                     \n",
      "==================================================================================================\n",
      " input_13 (InputLayer)          [(None, 1)]          0           []                               \n",
      "                                                                                                  \n",
      " input_14 (InputLayer)          [(None, 1)]          0           []                               \n",
      "                                                                                                  \n",
      " embedding_12 (Embedding)       (None, 1, 50)        21900       ['input_13[0][0]']               \n",
      "                                                                                                  \n",
      " embedding_13 (Embedding)       (None, 1, 50)        15050       ['input_14[0][0]']               \n",
      "                                                                                                  \n",
      " dropout_12 (Dropout)           (None, 1, 50)        0           ['embedding_12[0][0]']           \n",
      "                                                                                                  \n",
      " dropout_13 (Dropout)           (None, 1, 50)        0           ['embedding_13[0][0]']           \n",
      "                                                                                                  \n",
      " flatten_12 (Flatten)           (None, 50)           0           ['dropout_12[0][0]']             \n",
      "                                                                                                  \n",
      " flatten_13 (Flatten)           (None, 50)           0           ['dropout_13[0][0]']             \n",
      "                                                                                                  \n",
      " dot_6 (Dot)                    (None, 1)            0           ['flatten_12[0][0]',             \n",
      "                                                                  'flatten_13[0][0]']             \n",
      "                                                                                                  \n",
      "==================================================================================================\n",
      "Total params: 36,950\n",
      "Trainable params: 36,950\n",
      "Non-trainable params: 0\n",
      "__________________________________________________________________________________________________\n"
     ]
    }
   ],
   "source": [
    "loaded_model.summary()"
   ]
  }
 ],
 "metadata": {
  "kernelspec": {
   "display_name": "Python 3 (ipykernel)",
   "language": "python",
   "name": "python3"
  },
  "language_info": {
   "codemirror_mode": {
    "name": "ipython",
    "version": 3
   },
   "file_extension": ".py",
   "mimetype": "text/x-python",
   "name": "python",
   "nbconvert_exporter": "python",
   "pygments_lexer": "ipython3",
   "version": "3.10.11"
  }
 },
 "nbformat": 4,
 "nbformat_minor": 2
}
