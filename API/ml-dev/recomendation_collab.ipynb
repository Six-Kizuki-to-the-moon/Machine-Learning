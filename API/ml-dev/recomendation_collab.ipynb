{
 "cells": [
  {
   "cell_type": "code",
   "execution_count": null,
   "metadata": {},
   "outputs": [],
   "source": [
    "# !pip install mysql-connector-python"
   ]
  },
  {
   "cell_type": "code",
   "execution_count": 151,
   "metadata": {},
   "outputs": [],
   "source": [
    "import mysql.connector\n",
    "# library for data analysis\n",
    "import numpy as np\n",
    "import pandas as pd\n",
    "import matplotlib.pyplot as plt\n",
    "\n",
    "from tensorflow.keras.optimizers import Adam\n",
    "import tensorflow as tf\n",
    "from tensorflow.keras.models import Model \n",
    "from tensorflow.keras.layers import Input, Embedding, Dot, Flatten, Dense\n",
    "from sklearn.model_selection import train_test_split \n",
    "from sklearn.metrics.pairwise import cosine_similarity\n",
    "\n",
    "from sklearn.model_selection import train_test_split \n",
    "from sklearn.preprocessing import LabelEncoder\n",
    "\n",
    "import os "
   ]
  },
  {
   "cell_type": "code",
   "execution_count": 152,
   "metadata": {},
   "outputs": [],
   "source": [
    "# Membuat koneksi ke database\n",
    "conn = mysql.connector.connect(\n",
    "    host='localhost',\n",
    "    user='root',\n",
    "    password='',\n",
    "    database='tourista_db'\n",
    ")"
   ]
  },
  {
   "cell_type": "code",
   "execution_count": 153,
   "metadata": {},
   "outputs": [
    {
     "name": "stderr",
     "output_type": "stream",
     "text": [
      "C:\\Users\\dewan\\AppData\\Local\\Temp\\ipykernel_27440\\707316895.py:4: UserWarning: pandas only supports SQLAlchemy connectable (engine/connection) or database string URI or sqlite3 DBAPI2 connection. Other DBAPI2 objects are not tested. Please consider using SQLAlchemy.\n",
      "  destination = pd.read_sql_query(query, conn)\n",
      "C:\\Users\\dewan\\AppData\\Local\\Temp\\ipykernel_27440\\707316895.py:7: UserWarning: pandas only supports SQLAlchemy connectable (engine/connection) or database string URI or sqlite3 DBAPI2 connection. Other DBAPI2 objects are not tested. Please consider using SQLAlchemy.\n",
      "  ratings = pd.read_sql_query(query, conn)\n",
      "C:\\Users\\dewan\\AppData\\Local\\Temp\\ipykernel_27440\\707316895.py:10: UserWarning: pandas only supports SQLAlchemy connectable (engine/connection) or database string URI or sqlite3 DBAPI2 connection. Other DBAPI2 objects are not tested. Please consider using SQLAlchemy.\n",
      "  users = pd.read_sql_query(query, conn)\n"
     ]
    }
   ],
   "source": [
    "# Mengeksekusi query untuk mengambil data dari tabel\n",
    "\n",
    "query = \"SELECT * FROM destination\"\n",
    "destination = pd.read_sql_query(query, conn)\n",
    "\n",
    "query = \"SELECT * FROM review_wisata\"\n",
    "ratings = pd.read_sql_query(query, conn)\n",
    "\n",
    "query = \"SELECT * FROM user_profile\"\n",
    "users = pd.read_sql_query(query, conn)"
   ]
  },
  {
   "attachments": {},
   "cell_type": "markdown",
   "metadata": {},
   "source": [
    "### data preprocessing"
   ]
  },
  {
   "cell_type": "code",
   "execution_count": 155,
   "metadata": {},
   "outputs": [],
   "source": [
    "# Syncronize column about wisata_id between dataframe destination & ratings\n",
    "destination = destination.rename(columns={'id' : 'wisata_id'})"
   ]
  },
  {
   "cell_type": "code",
   "execution_count": 156,
   "metadata": {},
   "outputs": [
    {
     "data": {
      "text/html": [
       "<div>\n",
       "<style scoped>\n",
       "    .dataframe tbody tr th:only-of-type {\n",
       "        vertical-align: middle;\n",
       "    }\n",
       "\n",
       "    .dataframe tbody tr th {\n",
       "        vertical-align: top;\n",
       "    }\n",
       "\n",
       "    .dataframe thead th {\n",
       "        text-align: right;\n",
       "    }\n",
       "</style>\n",
       "<table border=\"1\" class=\"dataframe\">\n",
       "  <thead>\n",
       "    <tr style=\"text-align: right;\">\n",
       "      <th></th>\n",
       "      <th>wisata_id</th>\n",
       "      <th>name_wisata</th>\n",
       "      <th>description_wisata</th>\n",
       "      <th>category</th>\n",
       "      <th>destination_photo</th>\n",
       "      <th>city</th>\n",
       "      <th>price</th>\n",
       "      <th>rating</th>\n",
       "      <th>time_minutes</th>\n",
       "      <th>coordinate</th>\n",
       "      <th>destination_lat</th>\n",
       "      <th>destination_long</th>\n",
       "    </tr>\n",
       "  </thead>\n",
       "  <tbody>\n",
       "    <tr>\n",
       "      <th>0</th>\n",
       "      <td>1</td>\n",
       "      <td>Monumen Nasional</td>\n",
       "      <td>Monumen Nasional atau yang populer disingkat d...</td>\n",
       "      <td>Budaya</td>\n",
       "      <td>lala.png</td>\n",
       "      <td>Jakarta</td>\n",
       "      <td>20000.0</td>\n",
       "      <td>4.6</td>\n",
       "      <td>15.0</td>\n",
       "      <td>{'lat': -6.1753924, 'lng': 106.8271528}</td>\n",
       "      <td>-6.17539</td>\n",
       "      <td>106.8272</td>\n",
       "    </tr>\n",
       "    <tr>\n",
       "      <th>1</th>\n",
       "      <td>2</td>\n",
       "      <td>Kota Tua</td>\n",
       "      <td>Kota tua di Jakarta, yang juga bernama Kota Tu...</td>\n",
       "      <td>Budaya</td>\n",
       "      <td>lala.png</td>\n",
       "      <td>Jakarta</td>\n",
       "      <td>5000.0</td>\n",
       "      <td>4.6</td>\n",
       "      <td>90.0</td>\n",
       "      <td>{'lat': -6.137644799999999, 'lng': 106.8171245}</td>\n",
       "      <td>-6.13764</td>\n",
       "      <td>106.8171</td>\n",
       "    </tr>\n",
       "  </tbody>\n",
       "</table>\n",
       "</div>"
      ],
      "text/plain": [
       "   wisata_id       name_wisata  \\\n",
       "0          1  Monumen Nasional   \n",
       "1          2          Kota Tua   \n",
       "\n",
       "                                  description_wisata category  \\\n",
       "0  Monumen Nasional atau yang populer disingkat d...   Budaya   \n",
       "1  Kota tua di Jakarta, yang juga bernama Kota Tu...   Budaya   \n",
       "\n",
       "  destination_photo     city    price  rating  time_minutes  \\\n",
       "0          lala.png  Jakarta  20000.0     4.6          15.0   \n",
       "1          lala.png  Jakarta   5000.0     4.6          90.0   \n",
       "\n",
       "                                        coordinate  destination_lat  \\\n",
       "0          {'lat': -6.1753924, 'lng': 106.8271528}         -6.17539   \n",
       "1  {'lat': -6.137644799999999, 'lng': 106.8171245}         -6.13764   \n",
       "\n",
       "   destination_long  \n",
       "0          106.8272  \n",
       "1          106.8171  "
      ]
     },
     "execution_count": 156,
     "metadata": {},
     "output_type": "execute_result"
    }
   ],
   "source": [
    "destination.head(2)"
   ]
  },
  {
   "cell_type": "code",
   "execution_count": 157,
   "metadata": {},
   "outputs": [
    {
     "data": {
      "text/html": [
       "<div>\n",
       "<style scoped>\n",
       "    .dataframe tbody tr th:only-of-type {\n",
       "        vertical-align: middle;\n",
       "    }\n",
       "\n",
       "    .dataframe tbody tr th {\n",
       "        vertical-align: top;\n",
       "    }\n",
       "\n",
       "    .dataframe thead th {\n",
       "        text-align: right;\n",
       "    }\n",
       "</style>\n",
       "<table border=\"1\" class=\"dataframe\">\n",
       "  <thead>\n",
       "    <tr style=\"text-align: right;\">\n",
       "      <th></th>\n",
       "      <th>user_wisata</th>\n",
       "      <th>wisata_id</th>\n",
       "      <th>wisata_rating</th>\n",
       "    </tr>\n",
       "  </thead>\n",
       "  <tbody>\n",
       "    <tr>\n",
       "      <th>0</th>\n",
       "      <td>1</td>\n",
       "      <td>179</td>\n",
       "      <td>3.0</td>\n",
       "    </tr>\n",
       "    <tr>\n",
       "      <th>1</th>\n",
       "      <td>1</td>\n",
       "      <td>344</td>\n",
       "      <td>2.0</td>\n",
       "    </tr>\n",
       "  </tbody>\n",
       "</table>\n",
       "</div>"
      ],
      "text/plain": [
       "   user_wisata  wisata_id  wisata_rating\n",
       "0            1        179            3.0\n",
       "1            1        344            2.0"
      ]
     },
     "execution_count": 157,
     "metadata": {},
     "output_type": "execute_result"
    }
   ],
   "source": [
    "ratings.head(2)"
   ]
  },
  {
   "cell_type": "code",
   "execution_count": 165,
   "metadata": {},
   "outputs": [],
   "source": [
    "# Merge dataframe ratings & destination\n",
    "merged_df = pd.merge(ratings, destination[['wisata_id', 'name_wisata', 'category', 'description_wisata', 'destination_lat', 'destination_long', 'destination_photo', 'city']], on='wisata_id', how='left')"
   ]
  },
  {
   "cell_type": "code",
   "execution_count": 166,
   "metadata": {},
   "outputs": [],
   "source": [
    "# Remove duplicates wisata_id & user_wisata\n",
    "merged_df = merged_df.sort_values('wisata_rating', ascending=False).drop_duplicates(subset=['wisata_id', 'user_wisata'], keep='first')"
   ]
  },
  {
   "cell_type": "code",
   "execution_count": 167,
   "metadata": {},
   "outputs": [
    {
     "data": {
      "text/html": [
       "<div>\n",
       "<style scoped>\n",
       "    .dataframe tbody tr th:only-of-type {\n",
       "        vertical-align: middle;\n",
       "    }\n",
       "\n",
       "    .dataframe tbody tr th {\n",
       "        vertical-align: top;\n",
       "    }\n",
       "\n",
       "    .dataframe thead th {\n",
       "        text-align: right;\n",
       "    }\n",
       "</style>\n",
       "<table border=\"1\" class=\"dataframe\">\n",
       "  <thead>\n",
       "    <tr style=\"text-align: right;\">\n",
       "      <th></th>\n",
       "      <th>user_wisata</th>\n",
       "      <th>wisata_id</th>\n",
       "      <th>wisata_rating</th>\n",
       "      <th>name_wisata</th>\n",
       "      <th>category</th>\n",
       "      <th>description_wisata</th>\n",
       "      <th>destination_lat</th>\n",
       "      <th>destination_long</th>\n",
       "      <th>destination_photo</th>\n",
       "      <th>city</th>\n",
       "    </tr>\n",
       "  </thead>\n",
       "  <tbody>\n",
       "    <tr>\n",
       "      <th>7644</th>\n",
       "      <td>230</td>\n",
       "      <td>396</td>\n",
       "      <td>5.0</td>\n",
       "      <td>Monumen Kapal Selam</td>\n",
       "      <td>Budaya</td>\n",
       "      <td>Monumen Kapal Selam, atau disingkat Monkasel, ...</td>\n",
       "      <td>-7.26543</td>\n",
       "      <td>112.7503</td>\n",
       "      <td>lala.png</td>\n",
       "      <td>Surabaya</td>\n",
       "    </tr>\n",
       "    <tr>\n",
       "      <th>8383</th>\n",
       "      <td>253</td>\n",
       "      <td>117</td>\n",
       "      <td>5.0</td>\n",
       "      <td>The World Landmarks - Merapi Park Yogyakarta</td>\n",
       "      <td>Taman Hiburan</td>\n",
       "      <td>Merapi Park merupakan salah satu tempat wisata...</td>\n",
       "      <td>-7.62090</td>\n",
       "      <td>110.4216</td>\n",
       "      <td>lala.png</td>\n",
       "      <td>Yogyakarta</td>\n",
       "    </tr>\n",
       "  </tbody>\n",
       "</table>\n",
       "</div>"
      ],
      "text/plain": [
       "      user_wisata  wisata_id  wisata_rating  \\\n",
       "7644          230        396            5.0   \n",
       "8383          253        117            5.0   \n",
       "\n",
       "                                       name_wisata       category  \\\n",
       "7644                           Monumen Kapal Selam         Budaya   \n",
       "8383  The World Landmarks - Merapi Park Yogyakarta  Taman Hiburan   \n",
       "\n",
       "                                     description_wisata  destination_lat  \\\n",
       "7644  Monumen Kapal Selam, atau disingkat Monkasel, ...         -7.26543   \n",
       "8383  Merapi Park merupakan salah satu tempat wisata...         -7.62090   \n",
       "\n",
       "      destination_long destination_photo        city  \n",
       "7644          112.7503          lala.png    Surabaya  \n",
       "8383          110.4216          lala.png  Yogyakarta  "
      ]
     },
     "execution_count": 167,
     "metadata": {},
     "output_type": "execute_result"
    }
   ],
   "source": [
    "merged_df.head(2)"
   ]
  },
  {
   "cell_type": "code",
   "execution_count": 169,
   "metadata": {},
   "outputs": [
    {
     "data": {
      "text/plain": [
       "(9597, 10)"
      ]
     },
     "execution_count": 169,
     "metadata": {},
     "output_type": "execute_result"
    }
   ],
   "source": [
    "merged_df.shape"
   ]
  },
  {
   "attachments": {},
   "cell_type": "markdown",
   "metadata": {},
   "source": [
    "## Modeling"
   ]
  },
  {
   "cell_type": "code",
   "execution_count": 170,
   "metadata": {},
   "outputs": [],
   "source": [
    "# Encode user and place IDs\n",
    "user_encoder = LabelEncoder()\n",
    "place_encoder = LabelEncoder()\n",
    "\n",
    "merged_df['user_wisata'] = user_encoder.fit_transform(merged_df['user_wisata'])\n",
    "merged_df['wisata_id'] = place_encoder.fit_transform(merged_df['wisata_id'])"
   ]
  },
  {
   "cell_type": "code",
   "execution_count": 172,
   "metadata": {},
   "outputs": [],
   "source": [
    "# Split data into training and validation/test\n",
    "train, test = train_test_split(merged_df, test_size = 0.2, random_state=42)"
   ]
  },
  {
   "cell_type": "code",
   "execution_count": 173,
   "metadata": {},
   "outputs": [],
   "source": [
    "# training data \n",
    "train_user = train['user_wisata'].values\n",
    "train_place = train['wisata_id'].values\n",
    "train_labels = train['wisata_rating'].values"
   ]
  },
  {
   "cell_type": "code",
   "execution_count": 174,
   "metadata": {},
   "outputs": [],
   "source": [
    "# validation/ test \n",
    "val_user = test['user_wisata'].values\n",
    "val_place = test['wisata_id'].values\n",
    "val_labels = test['wisata_rating'].values"
   ]
  },
  {
   "cell_type": "code",
   "execution_count": 175,
   "metadata": {},
   "outputs": [],
   "source": [
    "## NOTES \n",
    "# x = user_id, place_id \n",
    "# y = place_ratings "
   ]
  },
  {
   "cell_type": "code",
   "execution_count": 176,
   "metadata": {},
   "outputs": [
    {
     "name": "stdout",
     "output_type": "stream",
     "text": [
      "train shape = (7677, 10)\n",
      "test shape = (1920, 10)\n"
     ]
    }
   ],
   "source": [
    "# check the size of train and test \n",
    "print(f'train shape = {train.shape}')\n",
    "print(f'test shape = {test.shape}')"
   ]
  },
  {
   "cell_type": "code",
   "execution_count": 177,
   "metadata": {},
   "outputs": [
    {
     "name": "stdout",
     "output_type": "stream",
     "text": [
      "number of user = 300\n",
      "number of place name = 437\n"
     ]
    }
   ],
   "source": [
    "number_user = len(merged_df['user_wisata'].unique())\n",
    "number_destination = len(merged_df['wisata_id'].unique())\n",
    "\n",
    "print(f'number of user = {number_user}')\n",
    "print(f'number of place name = {number_destination}')"
   ]
  },
  {
   "cell_type": "code",
   "execution_count": 178,
   "metadata": {},
   "outputs": [],
   "source": [
    "# build recommendation system using emmbedding layers dan dropout(to overcome the overfitting)\n",
    "\n",
    "from tensorflow.keras.models import Model \n",
    "from tensorflow.keras.layers import Input, Embedding, Dot, Flatten, Dense, Dropout \n",
    "\n",
    "EMBEDDING_DIM = 50\n",
    "\n",
    "# input layers \n",
    "place_input = Input(shape=[1])\n",
    "user_input = Input(shape=[1])\n",
    "\n",
    "# embedding layers add dropout \n",
    "place_embedding = Embedding(number_destination+1 , EMBEDDING_DIM)(place_input)\n",
    "place_embedding = Dropout(0.2)(place_embedding)\n",
    "\n",
    "user_embedding = Embedding(number_user+1 , EMBEDDING_DIM)(user_input)\n",
    "user_embedding = Dropout(0.2)(user_embedding)\n",
    "\n",
    "# flatten the embedddings\n",
    "place_flat = Flatten()(place_embedding)\n",
    "user_flat = Flatten()(user_embedding)\n",
    "\n",
    "# output layer\n",
    "output = Dot(1)([place_flat, user_flat])\n",
    "\n",
    "# the model\n",
    "model = Model([place_input, user_input], [output])"
   ]
  },
  {
   "cell_type": "code",
   "execution_count": 179,
   "metadata": {},
   "outputs": [],
   "source": [
    "from tensorflow.keras.callbacks import EarlyStopping\n",
    "from tensorflow.keras.optimizers import Adam\n",
    "\n",
    "early_stopping = EarlyStopping(patience=5, restore_best_weights=True)\n",
    "model.compile(optimizer=Adam(learning_rate = 0.0005), loss='mean_squared_error') "
   ]
  },
  {
   "cell_type": "code",
   "execution_count": 180,
   "metadata": {},
   "outputs": [
    {
     "name": "stdout",
     "output_type": "stream",
     "text": [
      "Epoch 1/100\n",
      "240/240 [==============================] - 2s 3ms/step - loss: 11.4849 - val_loss: 11.5364\n",
      "Epoch 2/100\n",
      "240/240 [==============================] - 1s 2ms/step - loss: 11.4575 - val_loss: 11.5303\n",
      "Epoch 3/100\n",
      "240/240 [==============================] - 1s 2ms/step - loss: 11.4099 - val_loss: 11.4986\n",
      "Epoch 4/100\n",
      "240/240 [==============================] - 1s 2ms/step - loss: 11.2941 - val_loss: 11.3768\n",
      "Epoch 5/100\n",
      "240/240 [==============================] - 0s 2ms/step - loss: 11.0188 - val_loss: 11.0442\n",
      "Epoch 6/100\n",
      "240/240 [==============================] - 0s 2ms/step - loss: 10.4532 - val_loss: 10.3753\n",
      "Epoch 7/100\n",
      "240/240 [==============================] - 0s 2ms/step - loss: 9.5031 - val_loss: 9.3267\n",
      "Epoch 8/100\n",
      "240/240 [==============================] - 0s 2ms/step - loss: 8.2315 - val_loss: 8.0052\n",
      "Epoch 9/100\n",
      "240/240 [==============================] - 1s 2ms/step - loss: 6.7921 - val_loss: 6.5854\n",
      "Epoch 10/100\n",
      "240/240 [==============================] - 1s 2ms/step - loss: 5.3682 - val_loss: 5.2655\n",
      "Epoch 11/100\n",
      "240/240 [==============================] - 1s 2ms/step - loss: 4.1709 - val_loss: 4.1829\n",
      "Epoch 12/100\n",
      "240/240 [==============================] - 0s 2ms/step - loss: 3.2632 - val_loss: 3.3883\n",
      "Epoch 13/100\n",
      "240/240 [==============================] - 1s 2ms/step - loss: 2.6477 - val_loss: 2.8609\n",
      "Epoch 14/100\n",
      "240/240 [==============================] - 0s 2ms/step - loss: 2.2597 - val_loss: 2.5395\n",
      "Epoch 15/100\n",
      "240/240 [==============================] - 1s 2ms/step - loss: 2.0532 - val_loss: 2.3495\n",
      "Epoch 16/100\n",
      "240/240 [==============================] - 1s 2ms/step - loss: 1.9199 - val_loss: 2.2399\n",
      "Epoch 17/100\n",
      "240/240 [==============================] - 1s 2ms/step - loss: 1.8567 - val_loss: 2.1803\n",
      "Epoch 18/100\n",
      "240/240 [==============================] - 1s 2ms/step - loss: 1.7692 - val_loss: 2.1481\n",
      "Epoch 19/100\n",
      "240/240 [==============================] - 1s 2ms/step - loss: 1.7328 - val_loss: 2.1297\n",
      "Epoch 20/100\n",
      "240/240 [==============================] - 0s 2ms/step - loss: 1.7204 - val_loss: 2.1216\n",
      "Epoch 21/100\n",
      "240/240 [==============================] - 0s 2ms/step - loss: 1.6886 - val_loss: 2.1199\n",
      "Epoch 22/100\n",
      "240/240 [==============================] - 0s 2ms/step - loss: 1.6829 - val_loss: 2.1179\n",
      "Epoch 23/100\n",
      "240/240 [==============================] - 0s 2ms/step - loss: 1.6341 - val_loss: 2.1213\n",
      "Epoch 24/100\n",
      "240/240 [==============================] - 0s 2ms/step - loss: 1.6345 - val_loss: 2.1241\n",
      "Epoch 25/100\n",
      "240/240 [==============================] - 0s 2ms/step - loss: 1.6035 - val_loss: 2.1272\n",
      "Epoch 26/100\n",
      "240/240 [==============================] - 0s 2ms/step - loss: 1.5568 - val_loss: 2.1292\n",
      "Epoch 27/100\n",
      "240/240 [==============================] - 0s 2ms/step - loss: 1.5370 - val_loss: 2.1317\n"
     ]
    }
   ],
   "source": [
    "history = model.fit([train_place, train_user], train_labels, validation_data=([val_place, val_user], val_labels), \n",
    "                    epochs=100, callbacks=[early_stopping])"
   ]
  },
  {
   "cell_type": "code",
   "execution_count": 181,
   "metadata": {},
   "outputs": [
    {
     "data": {
      "image/png": "[encoded data removed]",
      "text/plain": [
       "<Figure size 640x480 with 1 Axes>"
      ]
     },
     "metadata": {},
     "output_type": "display_data"
    }
   ],
   "source": [
    "# Plot the training and validation loss\n",
    "plt.plot(history.history['loss'], label='Training Loss')\n",
    "plt.plot(history.history['val_loss'], label='Validation Loss')\n",
    "plt.xlabel('Epoch')\n",
    "plt.ylabel('Loss')\n",
    "plt.legend()\n",
    "plt.show()"
   ]
  },
  {
   "cell_type": "code",
   "execution_count": 182,
   "metadata": {},
   "outputs": [],
   "source": [
    "# calculations for \"haversine distance\" and complementary functions for collaborative filtering\n",
    "from math import radians\n",
    "\n",
    "def haversine_distance(lat1, long1, lat2, long2):\n",
    "    earth_radius = 6371  # Radius of the Earth in kilometers (source: google)\n",
    "    lat1_rad = np.radians(lat1)\n",
    "    long1_rad = np.radians(long1)\n",
    "    lat2_rad = np.radians(lat2)\n",
    "    long2_rad = np.radians(long2)\n",
    "    diff_lat = lat2_rad - lat1_rad\n",
    "    diff_long = long2_rad - long1_rad\n",
    "    a = np.sin(diff_lat / 2) ** 2 + np.cos(lat1_rad) * np.cos(lat2_rad) * np.sin(diff_long / 2) ** 2\n",
    "    c = 2 * np.arcsin(np.sqrt(a))\n",
    "    distance = earth_radius * c\n",
    "    return distance\n",
    "\n",
    "def filter_by_location(destination, user_lat, user_long, max_distance):\n",
    "    destination['distance'] = haversine_distance(destination['destination_lat'], destination['destination_long'], user_lat, user_long)\n",
    "    destination = destination[destination['distance'] <= max_distance]\n",
    "    destination = destination.drop('distance', axis=1)\n",
    "    return destination\n",
    "\n",
    "def filter_by_city(destination):\n",
    "    city_filter = ['Jakarta', 'Bandung', 'Yogyakarta', 'Semarang', 'Surabaya']\n",
    "    destination = destination[destination['city'].isin(city_filter)]\n",
    "    return destination"
   ]
  },
  {
   "cell_type": "code",
   "execution_count": 217,
   "metadata": {},
   "outputs": [],
   "source": [
    "\n",
    "# recommendation system function using collaborative filtering\n",
    "def collaborative_rec(User_Id, destination ,model, u_lat, u_long, np_val = 6):\n",
    "    \"\"\"\n",
    "        User_Id : untuk melakukan rekomendasi berdasarkan User_Id yang diberikan\n",
    "        destinatin : dataframe dengan format column terdapat \"user_wisata, wisata_id, wisata_rating, name_wisata, category, description_wisata, destination_lat, destination_long, destination_photo, city\"\n",
    "        model : model hasil yang sudah di training sebelumnya\n",
    "        np_val : banyaknya output yang akan diberikan\n",
    "        u_lat & u_long : berguna untuk menentukan destinasi wisata terdekat dari lat & long yang diberikan\n",
    "    \"\"\"\n",
    "    if User_Id in ratings['user_wisata'].values:\n",
    "            destination = destination.copy()\n",
    "            user_ids = np.array([User_Id] * len(destination))\n",
    "            results = model([destination.wisata_id.values, user_ids]).numpy().reshape(-1)\n",
    "    \n",
    "            destination['predicted_rating'] = pd.Series(results)\n",
    "            destination = filter_by_location(destination, u_lat, u_long, 30)[:20]\n",
    "            destination = destination.sort_values('predicted_rating', ascending = False)\n",
    "    else:\n",
    "            destination = destination.copy()\n",
    "            destination = destination.sort_values('rating', ascending = False)\n",
    "\n",
    "    return destination[['name_wisata', 'city', 'destination_photo','description_wisata', 'predicted_rating', 'destination_lat', 'destination_long']][:np_val].to_dict(orient='records')"
   ]
  },
  {
   "cell_type": "markdown",
   "metadata": {},
   "source": [
    "## Model result"
   ]
  },
  {
   "cell_type": "code",
   "execution_count": 220,
   "metadata": {},
   "outputs": [],
   "source": [
    "user_location = 'Bandung'\n",
    "user_lat = -6.1253\n",
    "user_long = 106.8335"
   ]
  },
  {
   "cell_type": "code",
   "execution_count": 221,
   "metadata": {},
   "outputs": [
    {
     "data": {
      "text/plain": [
       "[{'name_wisata': 'Perpustakaan Nasional',\n",
       "  'city': 'Jakarta',\n",
       "  'destination_photo': 'lala.png',\n",
       "  'description_wisata': 'Perpustakaan Nasional adalah perpustakaan yang secara khusus didirikan oleh Pemerintah Negara demi menyimpan informasi negara tersebut. Berbeda dengan perpustakaan umum, sangatlah jarang khalayak ramai diperbolehkan meminjam buku. Seringkali sebuah perpus',\n",
       "  'predicted_rating': 3.6844482421875,\n",
       "  'destination_lat': -6.18129,\n",
       "  'destination_long': 106.8269},\n",
       " {'name_wisata': 'Kidzania',\n",
       "  'city': 'Jakarta',\n",
       "  'destination_photo': 'lala.png',\n",
       "  'description_wisata': 'KidZania adalah sebuah waralaba swasta Meksiko berupa pusat hiburan keluarga yang saat ini beroperasi di 23 lokasi, yang memungkinkan anak-anak melakukan pekerjaan orang dewasa dan mendapat bayaran. KidZania telah dikunjungi oleh lebih dari 31 juta pengun',\n",
       "  'predicted_rating': 3.546159029006958,\n",
       "  'destination_lat': -6.22507,\n",
       "  'destination_long': 106.8097},\n",
       " {'name_wisata': 'Rumah Sipitung',\n",
       "  'city': 'Jakarta',\n",
       "  'destination_photo': 'lala.png',\n",
       "  'description_wisata': 'Rumah Si Pitung di Marunda, Jakarta Utara, Indonesia, merupakan satu dari sedikit rumah panggung Betawi yang tersisa. Rumah panggung ini merupakan representasi hunian panggung masyarakat Betawi yang tinggal di wilayah-wilayah Pesisir. Rumah ini menjadi mu',\n",
       "  'predicted_rating': 3.3818860054016113,\n",
       "  'destination_lat': -6.10016,\n",
       "  'destination_long': 106.9606},\n",
       " {'name_wisata': 'Istana Negara Republik Indonesia',\n",
       "  'city': 'Jakarta',\n",
       "  'destination_photo': 'lala.png',\n",
       "  'description_wisata': 'Istana Negara merupakan pusat kegiatan pemerintahan negara. Banyak kegiatan-kegiatan bersifat kenegaraan digelar di Istana Negara. Seperti kegiatan pelantikan pejabat-pejabat penting negara, maupun pembukaan kongres bersifat nasional dan internasional. Is',\n",
       "  'predicted_rating': 3.3802335262298584,\n",
       "  'destination_lat': -6.16807,\n",
       "  'destination_long': 106.824},\n",
       " {'name_wisata': 'Monumen Selamat Datang',\n",
       "  'city': 'Jakarta',\n",
       "  'destination_photo': 'lala.png',\n",
       "  'description_wisata': 'Monumen Selamat Datang adalah sebuah monumen yang terletak di tengah Bundaran Hotel Indonesia, Jakarta, Indonesia. Monumen ini berupa patung sepasang manusia yang sedang menggenggam bunga dan melambaikan tangan. Patung tersebut menghadap ke utara yang ber',\n",
       "  'predicted_rating': 3.2730255126953125,\n",
       "  'destination_lat': -6.195,\n",
       "  'destination_long': 106.823}]"
      ]
     },
     "execution_count": 221,
     "metadata": {},
     "output_type": "execute_result"
    }
   ],
   "source": [
    "final_result = collaborative_rec(34, merged_df, model, user_lat, user_long, 5)\n",
    "final_result"
   ]
  },
  {
   "cell_type": "markdown",
   "metadata": {},
   "source": [
    "## Pretraining model"
   ]
  },
  {
   "cell_type": "code",
   "execution_count": 186,
   "metadata": {},
   "outputs": [
    {
     "name": "stderr",
     "output_type": "stream",
     "text": [
      "WARNING:absl:Found untraced functions such as _update_step_xla while saving (showing 1 of 1). These functions will not be directly callable after loading.\n"
     ]
    },
    {
     "name": "stdout",
     "output_type": "stream",
     "text": [
      "INFO:tensorflow:Assets written to: pretrained_collab_rec\\assets\n"
     ]
    },
    {
     "name": "stderr",
     "output_type": "stream",
     "text": [
      "INFO:tensorflow:Assets written to: pretrained_collab_rec\\assets\n"
     ]
    }
   ],
   "source": [
    "tf.keras.models.save_model(model, 'pretrained_collab_rec')"
   ]
  },
  {
   "cell_type": "code",
   "execution_count": 187,
   "metadata": {},
   "outputs": [
    {
     "name": "stdout",
     "output_type": "stream",
     "text": [
      "False\n"
     ]
    }
   ],
   "source": [
    "# Example of loading pretrained model\n",
    "\n",
    "loaded_model =  tf.keras.models.load_model('pretrained_collab_rec')\n",
    "\n",
    "pretrained_result = collaborative_rec(34, destination, loaded_model, 5, user_lat, user_long)\n",
    "print(pretrained_result==final_result)"
   ]
  },
  {
   "cell_type": "code",
   "execution_count": 188,
   "metadata": {},
   "outputs": [
    {
     "name": "stdout",
     "output_type": "stream",
     "text": [
      "Model: \"model_6\"\n",
      "__________________________________________________________________________________________________\n",
      " Layer (type)                   Output Shape         Param #     Connected to                     \n",
      "==================================================================================================\n",
      " input_13 (InputLayer)          [(None, 1)]          0           []                               \n",
      "                                                                                                  \n",
      " input_14 (InputLayer)          [(None, 1)]          0           []                               \n",
      "                                                                                                  \n",
      " embedding_12 (Embedding)       (None, 1, 50)        21900       ['input_13[0][0]']               \n",
      "                                                                                                  \n",
      " embedding_13 (Embedding)       (None, 1, 50)        15050       ['input_14[0][0]']               \n",
      "                                                                                                  \n",
      " dropout_12 (Dropout)           (None, 1, 50)        0           ['embedding_12[0][0]']           \n",
      "                                                                                                  \n",
      " dropout_13 (Dropout)           (None, 1, 50)        0           ['embedding_13[0][0]']           \n",
      "                                                                                                  \n",
      " flatten_12 (Flatten)           (None, 50)           0           ['dropout_12[0][0]']             \n",
      "                                                                                                  \n",
      " flatten_13 (Flatten)           (None, 50)           0           ['dropout_13[0][0]']             \n",
      "                                                                                                  \n",
      " dot_6 (Dot)                    (None, 1)            0           ['flatten_12[0][0]',             \n",
      "                                                                  'flatten_13[0][0]']             \n",
      "                                                                                                  \n",
      "==================================================================================================\n",
      "Total params: 36,950\n",
      "Trainable params: 36,950\n",
      "Non-trainable params: 0\n",
      "__________________________________________________________________________________________________\n"
     ]
    }
   ],
   "source": [
    "model.summary()"
   ]
  },
  {
   "cell_type": "code",
   "execution_count": 189,
   "metadata": {},
   "outputs": [
    {
     "name": "stdout",
     "output_type": "stream",
     "text": [
      "Model: \"model_6\"\n",
      "__________________________________________________________________________________________________\n",
      " Layer (type)                   Output Shape         Param #     Connected to                     \n",
      "==================================================================================================\n",
      " input_13 (InputLayer)          [(None, 1)]          0           []                               \n",
      "                                                                                                  \n",
      " input_14 (InputLayer)          [(None, 1)]          0           []                               \n",
      "                                                                                                  \n",
      " embedding_12 (Embedding)       (None, 1, 50)        21900       ['input_13[0][0]']               \n",
      "                                                                                                  \n",
      " embedding_13 (Embedding)       (None, 1, 50)        15050       ['input_14[0][0]']               \n",
      "                                                                                                  \n",
      " dropout_12 (Dropout)           (None, 1, 50)        0           ['embedding_12[0][0]']           \n",
      "                                                                                                  \n",
      " dropout_13 (Dropout)           (None, 1, 50)        0           ['embedding_13[0][0]']           \n",
      "                                                                                                  \n",
      " flatten_12 (Flatten)           (None, 50)           0           ['dropout_12[0][0]']             \n",
      "                                                                                                  \n",
      " flatten_13 (Flatten)           (None, 50)           0           ['dropout_13[0][0]']             \n",
      "                                                                                                  \n",
      " dot_6 (Dot)                    (None, 1)            0           ['flatten_12[0][0]',             \n",
      "                                                                  'flatten_13[0][0]']             \n",
      "                                                                                                  \n",
      "==================================================================================================\n",
      "Total params: 36,950\n",
      "Trainable params: 36,950\n",
      "Non-trainable params: 0\n",
      "__________________________________________________________________________________________________\n"
     ]
    }
   ],
   "source": [
    "loaded_model.summary()"
   ]
  }
 ],
 "metadata": {
  "kernelspec": {
   "display_name": "Python 3 (ipykernel)",
   "language": "python",
   "name": "python3"
  },
  "language_info": {
   "codemirror_mode": {
    "name": "ipython",
    "version": 3
   },
   "file_extension": ".py",
   "mimetype": "text/x-python",
   "name": "python",
   "nbconvert_exporter": "python",
   "pygments_lexer": "ipython3",
   "version": "3.8.12"
  }
 },
 "nbformat": 4,
 "nbformat_minor": 2
}
