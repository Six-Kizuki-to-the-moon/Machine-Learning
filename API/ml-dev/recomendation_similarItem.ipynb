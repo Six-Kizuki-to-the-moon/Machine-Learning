{
 "cells": [
  {
   "cell_type": "code",
   "execution_count": 22,
   "metadata": {},
   "outputs": [],
   "source": [
    "import mysql.connector\n",
    "# library for data analysis\n",
    "import pandas as pd\n",
    "\n",
    "from sklearn.feature_extraction.text import TfidfVectorizer \n",
    "from sklearn.metrics.pairwise import cosine_similarity \n",
    "\n",
    "import os "
   ]
  },
  {
   "cell_type": "code",
   "execution_count": 23,
   "metadata": {},
   "outputs": [],
   "source": [
    "# Membuat koneksi ke database\n",
    "conn = mysql.connector.connect(\n",
    "    host='localhost',\n",
    "    user='root',\n",
    "    password='',\n",
    "    database='tourista_db'\n",
    ")"
   ]
  },
  {
   "cell_type": "code",
   "execution_count": 24,
   "metadata": {},
   "outputs": [
    {
     "name": "stderr",
     "output_type": "stream",
     "text": [
      "C:\\Users\\dewan\\AppData\\Local\\Temp\\ipykernel_12060\\707316895.py:4: UserWarning: pandas only supports SQLAlchemy connectable (engine/connection) or database string URI or sqlite3 DBAPI2 connection. Other DBAPI2 objects are not tested. Please consider using SQLAlchemy.\n",
      "  destination = pd.read_sql_query(query, conn)\n",
      "C:\\Users\\dewan\\AppData\\Local\\Temp\\ipykernel_12060\\707316895.py:7: UserWarning: pandas only supports SQLAlchemy connectable (engine/connection) or database string URI or sqlite3 DBAPI2 connection. Other DBAPI2 objects are not tested. Please consider using SQLAlchemy.\n",
      "  ratings = pd.read_sql_query(query, conn)\n",
      "C:\\Users\\dewan\\AppData\\Local\\Temp\\ipykernel_12060\\707316895.py:10: UserWarning: pandas only supports SQLAlchemy connectable (engine/connection) or database string URI or sqlite3 DBAPI2 connection. Other DBAPI2 objects are not tested. Please consider using SQLAlchemy.\n",
      "  users = pd.read_sql_query(query, conn)\n"
     ]
    }
   ],
   "source": [
    "# Mengeksekusi query untuk mengambil data dari tabel\n",
    "\n",
    "query = \"SELECT * FROM destination\"\n",
    "destination = pd.read_sql_query(query, conn)\n",
    "\n",
    "query = \"SELECT * FROM review_wisata\"\n",
    "ratings = pd.read_sql_query(query, conn)\n",
    "\n",
    "query = \"SELECT * FROM user_profile\"\n",
    "users = pd.read_sql_query(query, conn)"
   ]
  },
  {
   "cell_type": "code",
   "execution_count": 90,
   "metadata": {},
   "outputs": [
    {
     "data": {
      "text/html": [
       "<div>\n",
       "<style scoped>\n",
       "    .dataframe tbody tr th:only-of-type {\n",
       "        vertical-align: middle;\n",
       "    }\n",
       "\n",
       "    .dataframe tbody tr th {\n",
       "        vertical-align: top;\n",
       "    }\n",
       "\n",
       "    .dataframe thead th {\n",
       "        text-align: right;\n",
       "    }\n",
       "</style>\n",
       "<table border=\"1\" class=\"dataframe\">\n",
       "  <thead>\n",
       "    <tr style=\"text-align: right;\">\n",
       "      <th></th>\n",
       "      <th>user_wisata</th>\n",
       "      <th>id</th>\n",
       "      <th>wisata_rating</th>\n",
       "    </tr>\n",
       "  </thead>\n",
       "  <tbody>\n",
       "    <tr>\n",
       "      <th>0</th>\n",
       "      <td>1</td>\n",
       "      <td>179</td>\n",
       "      <td>3.0</td>\n",
       "    </tr>\n",
       "    <tr>\n",
       "      <th>1</th>\n",
       "      <td>1</td>\n",
       "      <td>344</td>\n",
       "      <td>2.0</td>\n",
       "    </tr>\n",
       "  </tbody>\n",
       "</table>\n",
       "</div>"
      ],
      "text/plain": [
       "   user_wisata   id  wisata_rating\n",
       "0            1  179            3.0\n",
       "1            1  344            2.0"
      ]
     },
     "execution_count": 90,
     "metadata": {},
     "output_type": "execute_result"
    }
   ],
   "source": [
    "ratings.head(2)"
   ]
  },
  {
   "cell_type": "code",
   "execution_count": 91,
   "metadata": {},
   "outputs": [
    {
     "data": {
      "text/html": [
       "<div>\n",
       "<style scoped>\n",
       "    .dataframe tbody tr th:only-of-type {\n",
       "        vertical-align: middle;\n",
       "    }\n",
       "\n",
       "    .dataframe tbody tr th {\n",
       "        vertical-align: top;\n",
       "    }\n",
       "\n",
       "    .dataframe thead th {\n",
       "        text-align: right;\n",
       "    }\n",
       "</style>\n",
       "<table border=\"1\" class=\"dataframe\">\n",
       "  <thead>\n",
       "    <tr style=\"text-align: right;\">\n",
       "      <th></th>\n",
       "      <th>user_wisata</th>\n",
       "      <th>name</th>\n",
       "      <th>age</th>\n",
       "      <th>email</th>\n",
       "      <th>phone_number</th>\n",
       "      <th>address</th>\n",
       "      <th>photo_profile</th>\n",
       "      <th>user_lat</th>\n",
       "      <th>user_lot</th>\n",
       "      <th>createdAt</th>\n",
       "      <th>updatedAt</th>\n",
       "    </tr>\n",
       "  </thead>\n",
       "  <tbody>\n",
       "    <tr>\n",
       "      <th>0</th>\n",
       "      <td>1</td>\n",
       "      <td>user1</td>\n",
       "      <td>20</td>\n",
       "      <td>userTrial1@gmail.com</td>\n",
       "      <td>81326812647</td>\n",
       "      <td>Semarang, Jawa Tengah</td>\n",
       "      <td>user1.png</td>\n",
       "      <td>-11931.0</td>\n",
       "      <td>12311.0</td>\n",
       "      <td>None</td>\n",
       "      <td>None</td>\n",
       "    </tr>\n",
       "    <tr>\n",
       "      <th>1</th>\n",
       "      <td>2</td>\n",
       "      <td>user2</td>\n",
       "      <td>21</td>\n",
       "      <td>userTrial2@gmail.com</td>\n",
       "      <td>81326812647</td>\n",
       "      <td>Bekasi, Jawa Barat</td>\n",
       "      <td>user2.png</td>\n",
       "      <td>-11931.0</td>\n",
       "      <td>12311.0</td>\n",
       "      <td>None</td>\n",
       "      <td>None</td>\n",
       "    </tr>\n",
       "  </tbody>\n",
       "</table>\n",
       "</div>"
      ],
      "text/plain": [
       "   user_wisata   name  age                 email phone_number  \\\n",
       "0            1  user1   20  userTrial1@gmail.com  81326812647   \n",
       "1            2  user2   21  userTrial2@gmail.com  81326812647   \n",
       "\n",
       "                 address photo_profile  user_lat  user_lot createdAt updatedAt  \n",
       "0  Semarang, Jawa Tengah     user1.png  -11931.0   12311.0      None      None  \n",
       "1     Bekasi, Jawa Barat     user2.png  -11931.0   12311.0      None      None  "
      ]
     },
     "execution_count": 91,
     "metadata": {},
     "output_type": "execute_result"
    }
   ],
   "source": [
    "users.head(2)"
   ]
  },
  {
   "cell_type": "code",
   "execution_count": 117,
   "metadata": {},
   "outputs": [
    {
     "data": {
      "text/html": [
       "<div>\n",
       "<style scoped>\n",
       "    .dataframe tbody tr th:only-of-type {\n",
       "        vertical-align: middle;\n",
       "    }\n",
       "\n",
       "    .dataframe tbody tr th {\n",
       "        vertical-align: top;\n",
       "    }\n",
       "\n",
       "    .dataframe thead th {\n",
       "        text-align: right;\n",
       "    }\n",
       "</style>\n",
       "<table border=\"1\" class=\"dataframe\">\n",
       "  <thead>\n",
       "    <tr style=\"text-align: right;\">\n",
       "      <th></th>\n",
       "      <th>place_id</th>\n",
       "      <th>place_name</th>\n",
       "      <th>description_wisata</th>\n",
       "      <th>place_category</th>\n",
       "      <th>destination_photo</th>\n",
       "      <th>city</th>\n",
       "      <th>price</th>\n",
       "      <th>rating</th>\n",
       "      <th>destination_lat</th>\n",
       "      <th>destination_long</th>\n",
       "    </tr>\n",
       "  </thead>\n",
       "  <tbody>\n",
       "    <tr>\n",
       "      <th>0</th>\n",
       "      <td>1</td>\n",
       "      <td>Monumen Nasional</td>\n",
       "      <td>Monumen Nasional atau yang populer disingkat d...</td>\n",
       "      <td>Budaya</td>\n",
       "      <td>lala.png</td>\n",
       "      <td>Jakarta</td>\n",
       "      <td>20000.0</td>\n",
       "      <td>4.6</td>\n",
       "      <td>-6.17539</td>\n",
       "      <td>106.8272</td>\n",
       "    </tr>\n",
       "    <tr>\n",
       "      <th>1</th>\n",
       "      <td>2</td>\n",
       "      <td>Kota Tua</td>\n",
       "      <td>Kota tua di Jakarta, yang juga bernama Kota Tu...</td>\n",
       "      <td>Budaya</td>\n",
       "      <td>lala.png</td>\n",
       "      <td>Jakarta</td>\n",
       "      <td>5000.0</td>\n",
       "      <td>4.6</td>\n",
       "      <td>-6.13764</td>\n",
       "      <td>106.8171</td>\n",
       "    </tr>\n",
       "    <tr>\n",
       "      <th>2</th>\n",
       "      <td>3</td>\n",
       "      <td>Dunia Fantasi</td>\n",
       "      <td>Dunia Fantasi atau disebut juga Dufan adalah t...</td>\n",
       "      <td>Taman Hiburan</td>\n",
       "      <td>lala.png</td>\n",
       "      <td>Jakarta</td>\n",
       "      <td>270000.0</td>\n",
       "      <td>4.6</td>\n",
       "      <td>-6.12531</td>\n",
       "      <td>106.8335</td>\n",
       "    </tr>\n",
       "    <tr>\n",
       "      <th>3</th>\n",
       "      <td>4</td>\n",
       "      <td>Taman Mini Indonesia Indah (TMII)</td>\n",
       "      <td>Taman Mini Indonesia Indah merupakan suatu kaw...</td>\n",
       "      <td>Taman Hiburan</td>\n",
       "      <td>lala.png</td>\n",
       "      <td>Jakarta</td>\n",
       "      <td>10000.0</td>\n",
       "      <td>4.5</td>\n",
       "      <td>-6.30245</td>\n",
       "      <td>106.8952</td>\n",
       "    </tr>\n",
       "    <tr>\n",
       "      <th>4</th>\n",
       "      <td>5</td>\n",
       "      <td>Atlantis Water Adventure</td>\n",
       "      <td>Atlantis Water Adventure atau dikenal dengan A...</td>\n",
       "      <td>Taman Hiburan</td>\n",
       "      <td>lala.png</td>\n",
       "      <td>Jakarta</td>\n",
       "      <td>94000.0</td>\n",
       "      <td>4.5</td>\n",
       "      <td>-6.12419</td>\n",
       "      <td>106.8391</td>\n",
       "    </tr>\n",
       "    <tr>\n",
       "      <th>...</th>\n",
       "      <td>...</td>\n",
       "      <td>...</td>\n",
       "      <td>...</td>\n",
       "      <td>...</td>\n",
       "      <td>...</td>\n",
       "      <td>...</td>\n",
       "      <td>...</td>\n",
       "      <td>...</td>\n",
       "      <td>...</td>\n",
       "      <td>...</td>\n",
       "    </tr>\n",
       "    <tr>\n",
       "      <th>432</th>\n",
       "      <td>433</td>\n",
       "      <td>Museum Mpu Tantular</td>\n",
       "      <td>Museum Negeri Mpu Tantular adalah sebuah museu...</td>\n",
       "      <td>Budaya</td>\n",
       "      <td>lala.png</td>\n",
       "      <td>Surabaya</td>\n",
       "      <td>2000.0</td>\n",
       "      <td>4.4</td>\n",
       "      <td>-7.43386</td>\n",
       "      <td>112.7199</td>\n",
       "    </tr>\n",
       "    <tr>\n",
       "      <th>433</th>\n",
       "      <td>434</td>\n",
       "      <td>Taman Bungkul</td>\n",
       "      <td>Taman Bungkul adalah taman wisata kota yang te...</td>\n",
       "      <td>Taman Hiburan</td>\n",
       "      <td>lala.png</td>\n",
       "      <td>Surabaya</td>\n",
       "      <td>0.0</td>\n",
       "      <td>4.6</td>\n",
       "      <td>-7.29135</td>\n",
       "      <td>112.7398</td>\n",
       "    </tr>\n",
       "    <tr>\n",
       "      <th>434</th>\n",
       "      <td>435</td>\n",
       "      <td>Taman Air Mancur Menari Kenjeran</td>\n",
       "      <td>Air mancur menari atau dancing fountain juga a...</td>\n",
       "      <td>Taman Hiburan</td>\n",
       "      <td>lala.png</td>\n",
       "      <td>Surabaya</td>\n",
       "      <td>0.0</td>\n",
       "      <td>4.4</td>\n",
       "      <td>-7.27530</td>\n",
       "      <td>112.7549</td>\n",
       "    </tr>\n",
       "    <tr>\n",
       "      <th>435</th>\n",
       "      <td>436</td>\n",
       "      <td>Taman Flora Bratang Surabaya</td>\n",
       "      <td>Taman Flora adalah salah satu taman kota di Su...</td>\n",
       "      <td>Taman Hiburan</td>\n",
       "      <td>lala.png</td>\n",
       "      <td>Surabaya</td>\n",
       "      <td>0.0</td>\n",
       "      <td>4.6</td>\n",
       "      <td>-7.29433</td>\n",
       "      <td>112.7618</td>\n",
       "    </tr>\n",
       "    <tr>\n",
       "      <th>436</th>\n",
       "      <td>437</td>\n",
       "      <td>Gereja Perawan Maria Tak Berdosa Surabaya</td>\n",
       "      <td>Gereja Katolik Kelahiran Santa Perawan Maria m...</td>\n",
       "      <td>Tempat Ibadah</td>\n",
       "      <td>lala.png</td>\n",
       "      <td>Surabaya</td>\n",
       "      <td>10000.0</td>\n",
       "      <td>4.8</td>\n",
       "      <td>-7.24208</td>\n",
       "      <td>112.7368</td>\n",
       "    </tr>\n",
       "  </tbody>\n",
       "</table>\n",
       "<p>437 rows × 10 columns</p>\n",
       "</div>"
      ],
      "text/plain": [
       "     place_id                                 place_name  \\\n",
       "0           1                           Monumen Nasional   \n",
       "1           2                                   Kota Tua   \n",
       "2           3                              Dunia Fantasi   \n",
       "3           4          Taman Mini Indonesia Indah (TMII)   \n",
       "4           5                   Atlantis Water Adventure   \n",
       "..        ...                                        ...   \n",
       "432       433                        Museum Mpu Tantular   \n",
       "433       434                              Taman Bungkul   \n",
       "434       435           Taman Air Mancur Menari Kenjeran   \n",
       "435       436               Taman Flora Bratang Surabaya   \n",
       "436       437  Gereja Perawan Maria Tak Berdosa Surabaya   \n",
       "\n",
       "                                    description_wisata place_category  \\\n",
       "0    Monumen Nasional atau yang populer disingkat d...         Budaya   \n",
       "1    Kota tua di Jakarta, yang juga bernama Kota Tu...         Budaya   \n",
       "2    Dunia Fantasi atau disebut juga Dufan adalah t...  Taman Hiburan   \n",
       "3    Taman Mini Indonesia Indah merupakan suatu kaw...  Taman Hiburan   \n",
       "4    Atlantis Water Adventure atau dikenal dengan A...  Taman Hiburan   \n",
       "..                                                 ...            ...   \n",
       "432  Museum Negeri Mpu Tantular adalah sebuah museu...         Budaya   \n",
       "433  Taman Bungkul adalah taman wisata kota yang te...  Taman Hiburan   \n",
       "434  Air mancur menari atau dancing fountain juga a...  Taman Hiburan   \n",
       "435  Taman Flora adalah salah satu taman kota di Su...  Taman Hiburan   \n",
       "436  Gereja Katolik Kelahiran Santa Perawan Maria m...  Tempat Ibadah   \n",
       "\n",
       "    destination_photo      city     price  rating  destination_lat  \\\n",
       "0            lala.png   Jakarta   20000.0     4.6         -6.17539   \n",
       "1            lala.png   Jakarta    5000.0     4.6         -6.13764   \n",
       "2            lala.png   Jakarta  270000.0     4.6         -6.12531   \n",
       "3            lala.png   Jakarta   10000.0     4.5         -6.30245   \n",
       "4            lala.png   Jakarta   94000.0     4.5         -6.12419   \n",
       "..                ...       ...       ...     ...              ...   \n",
       "432          lala.png  Surabaya    2000.0     4.4         -7.43386   \n",
       "433          lala.png  Surabaya       0.0     4.6         -7.29135   \n",
       "434          lala.png  Surabaya       0.0     4.4         -7.27530   \n",
       "435          lala.png  Surabaya       0.0     4.6         -7.29433   \n",
       "436          lala.png  Surabaya   10000.0     4.8         -7.24208   \n",
       "\n",
       "     destination_long  \n",
       "0            106.8272  \n",
       "1            106.8171  \n",
       "2            106.8335  \n",
       "3            106.8952  \n",
       "4            106.8391  \n",
       "..                ...  \n",
       "432          112.7199  \n",
       "433          112.7398  \n",
       "434          112.7549  \n",
       "435          112.7618  \n",
       "436          112.7368  \n",
       "\n",
       "[437 rows x 10 columns]"
      ]
     },
     "execution_count": 117,
     "metadata": {},
     "output_type": "execute_result"
    }
   ],
   "source": [
    "# data frame for content based filtering \n",
    "data_content = destination\n",
    "data_content = data_content.drop(['time_minutes', 'coordinate'], axis=1)\n",
    "\n",
    "data_content = data_content.rename(columns={'id': 'place_id', 'name_wisata' : 'place_name', 'category' : 'place_category'})\n",
    "data_content"
   ]
  },
  {
   "cell_type": "code",
   "execution_count": 118,
   "metadata": {},
   "outputs": [
    {
     "data": {
      "text/html": [
       "<style>#sk-container-id-10 {color: black;background-color: white;}#sk-container-id-10 pre{padding: 0;}#sk-container-id-10 div.sk-toggleable {background-color: white;}#sk-container-id-10 label.sk-toggleable__label {cursor: pointer;display: block;width: 100%;margin-bottom: 0;padding: 0.3em;box-sizing: border-box;text-align: center;}#sk-container-id-10 label.sk-toggleable__label-arrow:before {content: \"▸\";float: left;margin-right: 0.25em;color: #696969;}#sk-container-id-10 label.sk-toggleable__label-arrow:hover:before {color: black;}#sk-container-id-10 div.sk-estimator:hover label.sk-toggleable__label-arrow:before {color: black;}#sk-container-id-10 div.sk-toggleable__content {max-height: 0;max-width: 0;overflow: hidden;text-align: left;background-color: #f0f8ff;}#sk-container-id-10 div.sk-toggleable__content pre {margin: 0.2em;color: black;border-radius: 0.25em;background-color: #f0f8ff;}#sk-container-id-10 input.sk-toggleable__control:checked~div.sk-toggleable__content {max-height: 200px;max-width: 100%;overflow: auto;}#sk-container-id-10 input.sk-toggleable__control:checked~label.sk-toggleable__label-arrow:before {content: \"▾\";}#sk-container-id-10 div.sk-estimator input.sk-toggleable__control:checked~label.sk-toggleable__label {background-color: #d4ebff;}#sk-container-id-10 div.sk-label input.sk-toggleable__control:checked~label.sk-toggleable__label {background-color: #d4ebff;}#sk-container-id-10 input.sk-hidden--visually {border: 0;clip: rect(1px 1px 1px 1px);clip: rect(1px, 1px, 1px, 1px);height: 1px;margin: -1px;overflow: hidden;padding: 0;position: absolute;width: 1px;}#sk-container-id-10 div.sk-estimator {font-family: monospace;background-color: #f0f8ff;border: 1px dotted black;border-radius: 0.25em;box-sizing: border-box;margin-bottom: 0.5em;}#sk-container-id-10 div.sk-estimator:hover {background-color: #d4ebff;}#sk-container-id-10 div.sk-parallel-item::after {content: \"\";width: 100%;border-bottom: 1px solid gray;flex-grow: 1;}#sk-container-id-10 div.sk-label:hover label.sk-toggleable__label {background-color: #d4ebff;}#sk-container-id-10 div.sk-serial::before {content: \"\";position: absolute;border-left: 1px solid gray;box-sizing: border-box;top: 0;bottom: 0;left: 50%;z-index: 0;}#sk-container-id-10 div.sk-serial {display: flex;flex-direction: column;align-items: center;background-color: white;padding-right: 0.2em;padding-left: 0.2em;position: relative;}#sk-container-id-10 div.sk-item {position: relative;z-index: 1;}#sk-container-id-10 div.sk-parallel {display: flex;align-items: stretch;justify-content: center;background-color: white;position: relative;}#sk-container-id-10 div.sk-item::before, #sk-container-id-10 div.sk-parallel-item::before {content: \"\";position: absolute;border-left: 1px solid gray;box-sizing: border-box;top: 0;bottom: 0;left: 50%;z-index: -1;}#sk-container-id-10 div.sk-parallel-item {display: flex;flex-direction: column;z-index: 1;position: relative;background-color: white;}#sk-container-id-10 div.sk-parallel-item:first-child::after {align-self: flex-end;width: 50%;}#sk-container-id-10 div.sk-parallel-item:last-child::after {align-self: flex-start;width: 50%;}#sk-container-id-10 div.sk-parallel-item:only-child::after {width: 0;}#sk-container-id-10 div.sk-dashed-wrapped {border: 1px dashed gray;margin: 0 0.4em 0.5em 0.4em;box-sizing: border-box;padding-bottom: 0.4em;background-color: white;}#sk-container-id-10 div.sk-label label {font-family: monospace;font-weight: bold;display: inline-block;line-height: 1.2em;}#sk-container-id-10 div.sk-label-container {text-align: center;}#sk-container-id-10 div.sk-container {/* jupyter's `normalize.less` sets `[hidden] { display: none; }` but bootstrap.min.css set `[hidden] { display: none !important; }` so we also need the `!important` here to be able to override the default hidden behavior on the sphinx rendered scikit-learn.org. See: https://github.com/scikit-learn/scikit-learn/issues/21755 */display: inline-block !important;position: relative;}#sk-container-id-10 div.sk-text-repr-fallback {display: none;}</style><div id=\"sk-container-id-10\" class=\"sk-top-container\"><div class=\"sk-text-repr-fallback\"><pre>TfidfVectorizer()</pre><b>In a Jupyter environment, please rerun this cell to show the HTML representation or trust the notebook. <br />On GitHub, the HTML representation is unable to render, please try loading this page with nbviewer.org.</b></div><div class=\"sk-container\" hidden><div class=\"sk-item\"><div class=\"sk-estimator sk-toggleable\"><input class=\"sk-toggleable__control sk-hidden--visually\" id=\"sk-estimator-id-10\" type=\"checkbox\" checked><label for=\"sk-estimator-id-10\" class=\"sk-toggleable__label sk-toggleable__label-arrow\">TfidfVectorizer</label><div class=\"sk-toggleable__content\"><pre>TfidfVectorizer()</pre></div></div></div></div></div>"
      ],
      "text/plain": [
       "TfidfVectorizer()"
      ]
     },
     "execution_count": 118,
     "metadata": {},
     "output_type": "execute_result"
    }
   ],
   "source": [
    "tfidf= TfidfVectorizer()\n",
    "tfidf.fit(data_content['place_name'])"
   ]
  },
  {
   "cell_type": "code",
   "execution_count": 119,
   "metadata": {},
   "outputs": [
    {
     "data": {
      "text/plain": [
       "(437, 712)"
      ]
     },
     "execution_count": 119,
     "metadata": {},
     "output_type": "execute_result"
    }
   ],
   "source": [
    "# change data into matrix \n",
    "tfidf_matrix = tfidf.fit_transform(data_content['place_name'])\n",
    "tfidf_matrix.shape"
   ]
  },
  {
   "cell_type": "code",
   "execution_count": 120,
   "metadata": {},
   "outputs": [
    {
     "data": {
      "text/plain": [
       "matrix([[0., 0., 0., ..., 0., 0., 0.],\n",
       "        [0., 0., 0., ..., 0., 0., 0.],\n",
       "        [0., 0., 0., ..., 0., 0., 0.],\n",
       "        ...,\n",
       "        [0., 0., 0., ..., 0., 0., 0.],\n",
       "        [0., 0., 0., ..., 0., 0., 0.],\n",
       "        [0., 0., 0., ..., 0., 0., 0.]])"
      ]
     },
     "execution_count": 120,
     "metadata": {},
     "output_type": "execute_result"
    }
   ],
   "source": [
    "# change vector TF-IDF into matrix \n",
    "tfidf_matrix.todense()"
   ]
  },
  {
   "cell_type": "code",
   "execution_count": 121,
   "metadata": {},
   "outputs": [
    {
     "name": "stdout",
     "output_type": "stream",
     "text": [
      "Shape :  (437, 437)\n"
     ]
    }
   ],
   "source": [
    "df_cosine_similarity = pd.DataFrame(cosine_similarity, index = data_content['place_name'], columns = data_content['place_name'])\n",
    "\n",
    "print('Shape : ', df_cosine_similarity.shape)"
   ]
  },
  {
   "cell_type": "code",
   "execution_count": 141,
   "metadata": {},
   "outputs": [],
   "source": [
    "# recommendation function for content based filtering \n",
    "\n",
    "def content_rec(place_name, similarity_data = df_cosine_similarity, items = data_content, k = 5) :\n",
    "  index = similarity_data.loc[:, place_name].to_numpy().argpartition(\n",
    "      range(-1, -k, -1)\n",
    "  )\n",
    "\n",
    "  closest = similarity_data.columns[index[-1:-(k+2): -1]]\n",
    "  closest = closest.drop(place_name, errors = 'ignore')\n",
    "  result = pd.DataFrame(closest).merge(items).head(k)\n",
    "  \n",
    "  return result.to_dict(orient='records')"
   ]
  },
  {
   "cell_type": "code",
   "execution_count": 145,
   "metadata": {},
   "outputs": [
    {
     "data": {
      "text/plain": [
       "[{'place_name': 'Alun Alun Selatan Yogyakarta',\n",
       "  'place_id': 96,\n",
       "  'description_wisata': 'Alun-alun Selatan atau yang sekarang lebih dikenal sebagai Alun-alun Kidul (Alkid) yaitu alun-alun yang terletak di sebelah selatan karaton Yogyakarta. Alun-alun ini berbentuk tanah lapang luas berpasir, dengan luas sekitar 160m x 160 m. Alun-alun ini dik',\n",
       "  'place_category': 'Taman Hiburan',\n",
       "  'destination_photo': 'lala.png',\n",
       "  'city': 'Yogyakarta',\n",
       "  'price': 0.0,\n",
       "  'rating': 4.6,\n",
       "  'destination_lat': -7.81167,\n",
       "  'destination_long': 110.3632},\n",
       " {'place_name': 'Alun-alun Utara Keraton Yogyakarta',\n",
       "  'place_id': 125,\n",
       "  'description_wisata': 'Alun-alun utara atau dalam Bahasa Jawa disebut Alun-alun Lor merupakan salah satu land mark Kota Yogyakarta yang berupa sebuah tanah lapang yang berada di depan Keraton Yogyakarta. Disebut Alun-alun Lor karena di Kota Yogyakarta terdapat dua alun-alun yan',\n",
       "  'place_category': 'Budaya',\n",
       "  'destination_photo': 'lala.png',\n",
       "  'city': 'Yogyakarta',\n",
       "  'price': 0.0,\n",
       "  'rating': 4.6,\n",
       "  'destination_lat': -7.8039,\n",
       "  'destination_long': 110.3644},\n",
       " {'place_name': 'Taman Balai Kota Bandung',\n",
       "  'place_id': 236,\n",
       "  'description_wisata': 'Taman Balai Kota Bandung merupakan sebuah taman kota yang terletak di Kota Bandung. Taman ini berada di sebelah selatan Balai Kota Bandung. Saat ini, Taman Balai Kota Bandung terdiri dari dua taman yang menyatu, antara lain Taman Dewi Sartika dan Taman Ba',\n",
       "  'place_category': 'Taman Hiburan',\n",
       "  'destination_photo': 'lala.png',\n",
       "  'city': 'Bandung',\n",
       "  'price': 0.0,\n",
       "  'rating': 4.6,\n",
       "  'destination_lat': -6.91297,\n",
       "  'destination_long': 107.6096},\n",
       " {'place_name': 'Kota Mini',\n",
       "  'place_id': 333,\n",
       "  'description_wisata': 'Destinasi yang sangat menarik bernuansa eropa lengkap dengan fasilitas publiknya membuat anda seolah-olah sedang berada di eropa. Ada rumah sakit, kantor polisi, box telepon, cafe-cafÃ© pinggir jalan, dan bangunan-bangunan klasik lainnya. Masih satu kompl',\n",
       "  'place_category': 'Taman Hiburan',\n",
       "  'destination_photo': 'lala.png',\n",
       "  'city': 'Bandung',\n",
       "  'price': 20000.0,\n",
       "  'rating': 4.4,\n",
       "  'destination_lat': -6.81869,\n",
       "  'destination_long': 107.6169},\n",
       " {'place_name': 'Kota Tua',\n",
       "  'place_id': 2,\n",
       "  'description_wisata': 'Kota tua di Jakarta, yang juga bernama Kota Tua, berpusat di Alun-Alun Fatahillah, yaitu alun-alun yang ramai dengan pertunjukan rutin tarian tradisional. Museum Sejarah Jakarta adalah bangunan era Belanda dengan lukisan dan barang antik, sedangkan Museum',\n",
       "  'place_category': 'Budaya',\n",
       "  'destination_photo': 'lala.png',\n",
       "  'city': 'Jakarta',\n",
       "  'price': 5000.0,\n",
       "  'rating': 4.6,\n",
       "  'destination_lat': -6.13764,\n",
       "  'destination_long': 106.8171}]"
      ]
     },
     "execution_count": 145,
     "metadata": {},
     "output_type": "execute_result"
    }
   ],
   "source": [
    "# test the function \n",
    "result = content_rec('Alun-Alun Kota Bandung')\n",
    "result"
   ]
  }
 ],
 "metadata": {
  "kernelspec": {
   "display_name": "tf_new",
   "language": "python",
   "name": "python3"
  },
  "language_info": {
   "codemirror_mode": {
    "name": "ipython",
    "version": 3
   },
   "file_extension": ".py",
   "mimetype": "text/x-python",
   "name": "python",
   "nbconvert_exporter": "python",
   "pygments_lexer": "ipython3",
   "version": "3.10.11"
  },
  "orig_nbformat": 4
 },
 "nbformat": 4,
 "nbformat_minor": 2
}
