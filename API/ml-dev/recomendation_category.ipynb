{
 "cells": [
  {
   "cell_type": "code",
   "execution_count": 36,
   "metadata": {},
   "outputs": [],
   "source": [
    "import mysql.connector\n",
    "# library for data analysis\n",
    "import numpy as np\n",
    "import pandas as pd\n",
    "import matplotlib.pyplot as plt\n",
    "\n",
    "from tensorflow.keras.optimizers import Adam\n",
    "import tensorflow as tf\n",
    "from tensorflow.keras.models import Model \n",
    "from tensorflow.keras.layers import Input, Embedding, Dot, Flatten, Dense\n",
    "from sklearn.model_selection import train_test_split \n",
    "from sklearn.metrics.pairwise import cosine_similarity\n",
    "\n",
    "import os "
   ]
  },
  {
   "cell_type": "code",
   "execution_count": 37,
   "metadata": {},
   "outputs": [],
   "source": [
    "# Membuat koneksi ke database\n",
    "conn = mysql.connector.connect(\n",
    "    host='localhost',\n",
    "    user='root',\n",
    "    password='',\n",
    "    database='tourista_db'\n",
    ")"
   ]
  },
  {
   "cell_type": "code",
   "execution_count": 38,
   "metadata": {},
   "outputs": [
    {
     "name": "stderr",
     "output_type": "stream",
     "text": [
      "C:\\Users\\dewan\\AppData\\Local\\Temp\\ipykernel_11652\\707316895.py:4: UserWarning: pandas only supports SQLAlchemy connectable (engine/connection) or database string URI or sqlite3 DBAPI2 connection. Other DBAPI2 objects are not tested. Please consider using SQLAlchemy.\n",
      "  destination = pd.read_sql_query(query, conn)\n",
      "C:\\Users\\dewan\\AppData\\Local\\Temp\\ipykernel_11652\\707316895.py:7: UserWarning: pandas only supports SQLAlchemy connectable (engine/connection) or database string URI or sqlite3 DBAPI2 connection. Other DBAPI2 objects are not tested. Please consider using SQLAlchemy.\n",
      "  ratings = pd.read_sql_query(query, conn)\n",
      "C:\\Users\\dewan\\AppData\\Local\\Temp\\ipykernel_11652\\707316895.py:10: UserWarning: pandas only supports SQLAlchemy connectable (engine/connection) or database string URI or sqlite3 DBAPI2 connection. Other DBAPI2 objects are not tested. Please consider using SQLAlchemy.\n",
      "  users = pd.read_sql_query(query, conn)\n"
     ]
    }
   ],
   "source": [
    "# Mengeksekusi query untuk mengambil data dari tabel\n",
    "\n",
    "query = \"SELECT * FROM destination\"\n",
    "destination = pd.read_sql_query(query, conn)\n",
    "\n",
    "query = \"SELECT * FROM review_wisata\"\n",
    "ratings = pd.read_sql_query(query, conn)\n",
    "\n",
    "query = \"SELECT * FROM user_profile\"\n",
    "users = pd.read_sql_query(query, conn)"
   ]
  },
  {
   "attachments": {},
   "cell_type": "markdown",
   "metadata": {},
   "source": [
    "## Data preparation"
   ]
  },
  {
   "cell_type": "code",
   "execution_count": 39,
   "metadata": {},
   "outputs": [
    {
     "data": {
      "text/html": [
       "<div>\n",
       "<style scoped>\n",
       "    .dataframe tbody tr th:only-of-type {\n",
       "        vertical-align: middle;\n",
       "    }\n",
       "\n",
       "    .dataframe tbody tr th {\n",
       "        vertical-align: top;\n",
       "    }\n",
       "\n",
       "    .dataframe thead th {\n",
       "        text-align: right;\n",
       "    }\n",
       "</style>\n",
       "<table border=\"1\" class=\"dataframe\">\n",
       "  <thead>\n",
       "    <tr style=\"text-align: right;\">\n",
       "      <th></th>\n",
       "      <th>id</th>\n",
       "      <th>name_wisata</th>\n",
       "      <th>description_wisata</th>\n",
       "      <th>category</th>\n",
       "      <th>destination_photo</th>\n",
       "      <th>city</th>\n",
       "      <th>price</th>\n",
       "      <th>rating</th>\n",
       "      <th>time_minutes</th>\n",
       "      <th>coordinate</th>\n",
       "      <th>destination_lat</th>\n",
       "      <th>destination_long</th>\n",
       "    </tr>\n",
       "  </thead>\n",
       "  <tbody>\n",
       "    <tr>\n",
       "      <th>0</th>\n",
       "      <td>1</td>\n",
       "      <td>Monumen Nasional</td>\n",
       "      <td>Monumen Nasional atau yang populer disingkat d...</td>\n",
       "      <td>Budaya</td>\n",
       "      <td>lala.png</td>\n",
       "      <td>Jakarta</td>\n",
       "      <td>20000.0</td>\n",
       "      <td>4.6</td>\n",
       "      <td>15.0</td>\n",
       "      <td>{'lat': -6.1753924, 'lng': 106.8271528}</td>\n",
       "      <td>-6.17539</td>\n",
       "      <td>106.8272</td>\n",
       "    </tr>\n",
       "    <tr>\n",
       "      <th>1</th>\n",
       "      <td>2</td>\n",
       "      <td>Kota Tua</td>\n",
       "      <td>Kota tua di Jakarta, yang juga bernama Kota Tu...</td>\n",
       "      <td>Budaya</td>\n",
       "      <td>lala.png</td>\n",
       "      <td>Jakarta</td>\n",
       "      <td>5000.0</td>\n",
       "      <td>4.6</td>\n",
       "      <td>90.0</td>\n",
       "      <td>{'lat': -6.137644799999999, 'lng': 106.8171245}</td>\n",
       "      <td>-6.13764</td>\n",
       "      <td>106.8171</td>\n",
       "    </tr>\n",
       "  </tbody>\n",
       "</table>\n",
       "</div>"
      ],
      "text/plain": [
       "   id       name_wisata                                 description_wisata  \\\n",
       "0   1  Monumen Nasional  Monumen Nasional atau yang populer disingkat d...   \n",
       "1   2          Kota Tua  Kota tua di Jakarta, yang juga bernama Kota Tu...   \n",
       "\n",
       "  category destination_photo     city    price  rating  time_minutes  \\\n",
       "0   Budaya          lala.png  Jakarta  20000.0     4.6          15.0   \n",
       "1   Budaya          lala.png  Jakarta   5000.0     4.6          90.0   \n",
       "\n",
       "                                        coordinate  destination_lat  \\\n",
       "0          {'lat': -6.1753924, 'lng': 106.8271528}         -6.17539   \n",
       "1  {'lat': -6.137644799999999, 'lng': 106.8171245}         -6.13764   \n",
       "\n",
       "   destination_long  \n",
       "0          106.8272  \n",
       "1          106.8171  "
      ]
     },
     "execution_count": 39,
     "metadata": {},
     "output_type": "execute_result"
    }
   ],
   "source": [
    "destination.head(2)"
   ]
  },
  {
   "cell_type": "code",
   "execution_count": 40,
   "metadata": {},
   "outputs": [
    {
     "data": {
      "text/html": [
       "<div>\n",
       "<style scoped>\n",
       "    .dataframe tbody tr th:only-of-type {\n",
       "        vertical-align: middle;\n",
       "    }\n",
       "\n",
       "    .dataframe tbody tr th {\n",
       "        vertical-align: top;\n",
       "    }\n",
       "\n",
       "    .dataframe thead th {\n",
       "        text-align: right;\n",
       "    }\n",
       "</style>\n",
       "<table border=\"1\" class=\"dataframe\">\n",
       "  <thead>\n",
       "    <tr style=\"text-align: right;\">\n",
       "      <th></th>\n",
       "      <th>user_wisata</th>\n",
       "      <th>wisata_id</th>\n",
       "      <th>wisata_rating</th>\n",
       "    </tr>\n",
       "  </thead>\n",
       "  <tbody>\n",
       "    <tr>\n",
       "      <th>0</th>\n",
       "      <td>1</td>\n",
       "      <td>179</td>\n",
       "      <td>3.0</td>\n",
       "    </tr>\n",
       "    <tr>\n",
       "      <th>1</th>\n",
       "      <td>1</td>\n",
       "      <td>344</td>\n",
       "      <td>2.0</td>\n",
       "    </tr>\n",
       "  </tbody>\n",
       "</table>\n",
       "</div>"
      ],
      "text/plain": [
       "   user_wisata  wisata_id  wisata_rating\n",
       "0            1        179            3.0\n",
       "1            1        344            2.0"
      ]
     },
     "execution_count": 40,
     "metadata": {},
     "output_type": "execute_result"
    }
   ],
   "source": [
    "ratings.head(2)"
   ]
  },
  {
   "cell_type": "code",
   "execution_count": 41,
   "metadata": {},
   "outputs": [
    {
     "data": {
      "text/html": [
       "<div>\n",
       "<style scoped>\n",
       "    .dataframe tbody tr th:only-of-type {\n",
       "        vertical-align: middle;\n",
       "    }\n",
       "\n",
       "    .dataframe tbody tr th {\n",
       "        vertical-align: top;\n",
       "    }\n",
       "\n",
       "    .dataframe thead th {\n",
       "        text-align: right;\n",
       "    }\n",
       "</style>\n",
       "<table border=\"1\" class=\"dataframe\">\n",
       "  <thead>\n",
       "    <tr style=\"text-align: right;\">\n",
       "      <th></th>\n",
       "      <th>id</th>\n",
       "      <th>name</th>\n",
       "      <th>age</th>\n",
       "      <th>email</th>\n",
       "      <th>phone_number</th>\n",
       "      <th>address</th>\n",
       "      <th>photo_profile</th>\n",
       "      <th>user_lat</th>\n",
       "      <th>user_lot</th>\n",
       "      <th>createdAt</th>\n",
       "      <th>updatedAt</th>\n",
       "    </tr>\n",
       "  </thead>\n",
       "  <tbody>\n",
       "    <tr>\n",
       "      <th>0</th>\n",
       "      <td>1</td>\n",
       "      <td>user1</td>\n",
       "      <td>20</td>\n",
       "      <td>userTrial1@gmail.com</td>\n",
       "      <td>81326812647</td>\n",
       "      <td>Semarang, Jawa Tengah</td>\n",
       "      <td>user1.png</td>\n",
       "      <td>-11931.0</td>\n",
       "      <td>12311.0</td>\n",
       "      <td>None</td>\n",
       "      <td>None</td>\n",
       "    </tr>\n",
       "    <tr>\n",
       "      <th>1</th>\n",
       "      <td>2</td>\n",
       "      <td>user2</td>\n",
       "      <td>21</td>\n",
       "      <td>userTrial2@gmail.com</td>\n",
       "      <td>81326812647</td>\n",
       "      <td>Bekasi, Jawa Barat</td>\n",
       "      <td>user2.png</td>\n",
       "      <td>-11931.0</td>\n",
       "      <td>12311.0</td>\n",
       "      <td>None</td>\n",
       "      <td>None</td>\n",
       "    </tr>\n",
       "    <tr>\n",
       "      <th>2</th>\n",
       "      <td>3</td>\n",
       "      <td>user3</td>\n",
       "      <td>23</td>\n",
       "      <td>userTrial3@gmail.com</td>\n",
       "      <td>81326812647</td>\n",
       "      <td>Cirebon, Jawa Barat</td>\n",
       "      <td>user3.png</td>\n",
       "      <td>-11931.0</td>\n",
       "      <td>12311.0</td>\n",
       "      <td>None</td>\n",
       "      <td>None</td>\n",
       "    </tr>\n",
       "    <tr>\n",
       "      <th>3</th>\n",
       "      <td>4</td>\n",
       "      <td>user4</td>\n",
       "      <td>21</td>\n",
       "      <td>userTrial4@gmail.com</td>\n",
       "      <td>81326812647</td>\n",
       "      <td>Bekasi, Jawa Barat</td>\n",
       "      <td>user4.png</td>\n",
       "      <td>-11931.0</td>\n",
       "      <td>12311.0</td>\n",
       "      <td>None</td>\n",
       "      <td>None</td>\n",
       "    </tr>\n",
       "    <tr>\n",
       "      <th>4</th>\n",
       "      <td>5</td>\n",
       "      <td>user5</td>\n",
       "      <td>20</td>\n",
       "      <td>userTrial5@gmail.com</td>\n",
       "      <td>81326812647</td>\n",
       "      <td>Lampung, Sumatera Selatan</td>\n",
       "      <td>user5.png</td>\n",
       "      <td>-11931.0</td>\n",
       "      <td>12311.0</td>\n",
       "      <td>None</td>\n",
       "      <td>None</td>\n",
       "    </tr>\n",
       "  </tbody>\n",
       "</table>\n",
       "</div>"
      ],
      "text/plain": [
       "   id   name  age                 email phone_number  \\\n",
       "0   1  user1   20  userTrial1@gmail.com  81326812647   \n",
       "1   2  user2   21  userTrial2@gmail.com  81326812647   \n",
       "2   3  user3   23  userTrial3@gmail.com  81326812647   \n",
       "3   4  user4   21  userTrial4@gmail.com  81326812647   \n",
       "4   5  user5   20  userTrial5@gmail.com  81326812647   \n",
       "\n",
       "                     address photo_profile  user_lat  user_lot createdAt  \\\n",
       "0      Semarang, Jawa Tengah     user1.png  -11931.0   12311.0      None   \n",
       "1         Bekasi, Jawa Barat     user2.png  -11931.0   12311.0      None   \n",
       "2        Cirebon, Jawa Barat     user3.png  -11931.0   12311.0      None   \n",
       "3         Bekasi, Jawa Barat     user4.png  -11931.0   12311.0      None   \n",
       "4  Lampung, Sumatera Selatan     user5.png  -11931.0   12311.0      None   \n",
       "\n",
       "  updatedAt  \n",
       "0      None  \n",
       "1      None  \n",
       "2      None  \n",
       "3      None  \n",
       "4      None  "
      ]
     },
     "execution_count": 41,
     "metadata": {},
     "output_type": "execute_result"
    }
   ],
   "source": [
    "users.head()"
   ]
  },
  {
   "attachments": {},
   "cell_type": "markdown",
   "metadata": {},
   "source": [
    "## Model"
   ]
  },
  {
   "cell_type": "code",
   "execution_count": 42,
   "metadata": {},
   "outputs": [],
   "source": [
    "# fungsi untuk melakukan groouping data\n",
    "def groupingCategory(df, budget, totalCategory, excepts = []):\n",
    "    '''\n",
    "        df : dataframe destination has been contain (id,name_wisata,description_wisata,category,destination_photo,city,price,rating,time_minutes,coordinate,destination_lat,destination_long)\n",
    "        budget : Total estimate budget for 3 iterations\n",
    "        totalCategory : Total destination for every iteration\n",
    "        excepts : optional \n",
    "    '''\n",
    "    data = []\n",
    "    \n",
    "    if len(excepts) == 0:\n",
    "        for idx, row in df.iterrows():\n",
    "            if len(data) == totalCategory:\n",
    "                break\n",
    "            if row['price'] < budget:\n",
    "                data.append(row['name_wisata'])\n",
    "                budget -= row['price']    \n",
    "    else:\n",
    "        for x in excepts:\n",
    "            if df['name_wisata'].eq(x).any():\n",
    "                df = df.loc[df['price'] != x]\n",
    "                \n",
    "        for idx, row in df.iterrows():\n",
    "            if len(data) == totalCategory:\n",
    "                break\n",
    "            if row['price'] < budget:\n",
    "                data.append(row['name_wisata'])\n",
    "                budget -= row['price']\n",
    "        \n",
    "    return data"
   ]
  },
  {
   "cell_type": "code",
   "execution_count": 43,
   "metadata": {},
   "outputs": [],
   "source": [
    "# Function to recommend places based on user input\n",
    "def recommend_places(df, category, city, price, rating, top_n=50):\n",
    "    '''\n",
    "        df : dataframe destination has been contain (id,name_wisata,description_wisata,category,destination_photo,city,price,rating,time_minutes,coordinate,destination_lat,destination_long)\n",
    "        category : input category from user preferences\n",
    "        city : input city from user preferences\n",
    "        price : input price from user preferences\n",
    "        rating : input rating from user preferences\n",
    "    '''\n",
    "    # Filter dataset based on user input\n",
    "    filtered_df = df[(df['category'] == category) & (df['city'] == city) & (df['price'] <= price) & (df['rating'] >= rating)]\n",
    "    \n",
    "    # Calculate cosine similarity between user input and dataset\n",
    "    user_input = [[price, rating]]\n",
    "    dataset = filtered_df[['price', 'rating']]\n",
    "    similarity_matrix = cosine_similarity(user_input, dataset)\n",
    "    \n",
    "    # Sort places based on similarity score\n",
    "    filtered_df['Similarity'] = similarity_matrix[0]\n",
    "    recommended_places = filtered_df.sort_values(by='Similarity', ascending=False).head(top_n)\n",
    "    \n",
    "    gold = []\n",
    "    silver = []\n",
    "    bronze = []\n",
    "    \n",
    "    gold = groupingCategory(recommended_places, price, 5)\n",
    "    silver = groupingCategory(recommended_places, price, 5, gold)\n",
    "    bronze = groupingCategory(recommended_places, price, 5, (silver + gold))\n",
    "                \n",
    "    return {\"gold\" : gold,\n",
    "            \"silver\" : silver, \n",
    "            \"bronze\" : bronze}"
   ]
  },
  {
   "attachments": {},
   "cell_type": "markdown",
   "metadata": {},
   "source": [
    "## code example"
   ]
  },
  {
   "cell_type": "code",
   "execution_count": 44,
   "metadata": {},
   "outputs": [],
   "source": [
    "# Example usage\n",
    "category = 'Taman Hiburan'\n",
    "city = 'Jakarta'\n",
    "price = 50000\n",
    "rating = 4.0"
   ]
  },
  {
   "cell_type": "code",
   "execution_count": 45,
   "metadata": {},
   "outputs": [
    {
     "name": "stderr",
     "output_type": "stream",
     "text": [
      "C:\\Users\\dewan\\AppData\\Local\\Temp\\ipykernel_11652\\2665731653.py:12: SettingWithCopyWarning: \n",
      "A value is trying to be set on a copy of a slice from a DataFrame.\n",
      "Try using .loc[row_indexer,col_indexer] = value instead\n",
      "\n",
      "See the caveats in the documentation: https://pandas.pydata.org/pandas-docs/stable/user_guide/indexing.html#returning-a-view-versus-a-copy\n",
      "  filtered_df['Similarity'] = similarity_matrix[0]\n"
     ]
    },
    {
     "data": {
      "text/plain": [
       "{'gold': ['Wisata Agro Edukatif Istana Susu Cibugary',\n",
       "  'Jakarta Planetarium',\n",
       "  'Hutan Kota Srengseng',\n",
       "  'Taman Menteng',\n",
       "  'Taman Suropati'],\n",
       " 'silver': ['Wisata Agro Edukatif Istana Susu Cibugary',\n",
       "  'Jakarta Planetarium',\n",
       "  'Hutan Kota Srengseng',\n",
       "  'Taman Menteng',\n",
       "  'Taman Suropati'],\n",
       " 'bronze': ['Wisata Agro Edukatif Istana Susu Cibugary',\n",
       "  'Jakarta Planetarium',\n",
       "  'Hutan Kota Srengseng',\n",
       "  'Taman Menteng',\n",
       "  'Taman Suropati']}"
      ]
     },
     "execution_count": 45,
     "metadata": {},
     "output_type": "execute_result"
    }
   ],
   "source": [
    "recommendations = recommend_places(destination, category, city, price, rating)\n",
    "recommendations"
   ]
  },
  {
   "attachments": {},
   "cell_type": "markdown",
   "metadata": {},
   "source": [
    "## update database"
   ]
  },
  {
   "cell_type": "code",
   "execution_count": 46,
   "metadata": {},
   "outputs": [],
   "source": [
    "cursor = conn.cursor()"
   ]
  },
  {
   "cell_type": "code",
   "execution_count": 47,
   "metadata": {},
   "outputs": [],
   "source": [
    "user_id = 1"
   ]
  },
  {
   "cell_type": "code",
   "execution_count": 48,
   "metadata": {},
   "outputs": [],
   "source": [
    "sql = \"INSERT INTO trip_detail (user_id , trip_name_type, name_wisata) VALUES (%s, %s, %s)\""
   ]
  },
  {
   "cell_type": "code",
   "execution_count": 49,
   "metadata": {},
   "outputs": [],
   "source": [
    "for category, places in recommendations.items():\n",
    "    for place in places:\n",
    "        values = (user_id, category, place)\n",
    "        cursor.execute(sql, values)"
   ]
  },
  {
   "cell_type": "code",
   "execution_count": 51,
   "metadata": {},
   "outputs": [],
   "source": [
    "conn.commit()"
   ]
  }
 ],
 "metadata": {
  "kernelspec": {
   "display_name": "tf_new",
   "language": "python",
   "name": "python3"
  },
  "language_info": {
   "codemirror_mode": {
    "name": "ipython",
    "version": 3
   },
   "file_extension": ".py",
   "mimetype": "text/x-python",
   "name": "python",
   "nbconvert_exporter": "python",
   "pygments_lexer": "ipython3",
   "version": "3.10.11"
  },
  "orig_nbformat": 4
 },
 "nbformat": 4,
 "nbformat_minor": 2
}
