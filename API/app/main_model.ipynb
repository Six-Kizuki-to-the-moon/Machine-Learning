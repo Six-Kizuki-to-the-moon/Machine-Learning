{
 "cells": [
  {
   "cell_type": "code",
   "execution_count": 4,
   "metadata": {},
   "outputs": [],
   "source": [
    "import mysql.connector\n",
    "# library for data analysis\n",
    "import numpy as np\n",
    "import pandas as pd\n",
    "import matplotlib.pyplot as plt\n",
    "\n",
    "from tensorflow.keras.optimizers import Adam\n",
    "import tensorflow as tf\n",
    "from tensorflow.keras.models import Model \n",
    "from tensorflow.keras.layers import Input, Embedding, Dot, Flatten, Dense\n",
    "from sklearn.model_selection import train_test_split \n",
    "from sklearn.metrics.pairwise import cosine_similarity\n",
    "\n",
    "import os "
   ]
  },
  {
   "cell_type": "code",
   "execution_count": 5,
   "metadata": {},
   "outputs": [],
   "source": [
    "# Membuat koneksi ke database\n",
    "conn = mysql.connector.connect(\n",
    "    host='localhost',\n",
    "    user='root',\n",
    "    password='',\n",
    "    database='absensi'\n",
    ")"
   ]
  },
  {
   "cell_type": "code",
   "execution_count": 6,
   "metadata": {},
   "outputs": [
    {
     "name": "stderr",
     "output_type": "stream",
     "text": [
      "C:\\Users\\dewan\\AppData\\Local\\Temp\\ipykernel_2784\\4131480808.py:4: UserWarning: pandas only supports SQLAlchemy connectable (engine/connection) or database string URI or sqlite3 DBAPI2 connection. Other DBAPI2 objects are not tested. Please consider using SQLAlchemy.\n",
      "  destination = pd.read_sql_query(query, conn)\n",
      "C:\\Users\\dewan\\AppData\\Local\\Temp\\ipykernel_2784\\4131480808.py:7: UserWarning: pandas only supports SQLAlchemy connectable (engine/connection) or database string URI or sqlite3 DBAPI2 connection. Other DBAPI2 objects are not tested. Please consider using SQLAlchemy.\n",
      "  ratings = pd.read_sql_query(query, conn)\n"
     ]
    }
   ],
   "source": [
    "# Mengeksekusi query untuk mengambil data dari tabel\n",
    "\n",
    "query = \"SELECT * FROM tourism\"\n",
    "destination = pd.read_sql_query(query, conn)\n",
    "\n",
    "query = \"SELECT * FROM ratings\"\n",
    "ratings = pd.read_sql_query(query, conn)"
   ]
  },
  {
   "cell_type": "code",
   "execution_count": 7,
   "metadata": {},
   "outputs": [
    {
     "data": {
      "text/html": [
       "<div>\n",
       "<style scoped>\n",
       "    .dataframe tbody tr th:only-of-type {\n",
       "        vertical-align: middle;\n",
       "    }\n",
       "\n",
       "    .dataframe tbody tr th {\n",
       "        vertical-align: top;\n",
       "    }\n",
       "\n",
       "    .dataframe thead th {\n",
       "        text-align: right;\n",
       "    }\n",
       "</style>\n",
       "<table border=\"1\" class=\"dataframe\">\n",
       "  <thead>\n",
       "    <tr style=\"text-align: right;\">\n",
       "      <th></th>\n",
       "      <th>Place_Id</th>\n",
       "      <th>Place_Name</th>\n",
       "      <th>Description</th>\n",
       "      <th>Category</th>\n",
       "      <th>City</th>\n",
       "      <th>Price</th>\n",
       "      <th>Rating</th>\n",
       "      <th>Time_Minutes</th>\n",
       "      <th>Coordinate</th>\n",
       "      <th>Lat</th>\n",
       "      <th>Long</th>\n",
       "    </tr>\n",
       "  </thead>\n",
       "  <tbody>\n",
       "    <tr>\n",
       "      <th>0</th>\n",
       "      <td>1</td>\n",
       "      <td>Monumen Nasional</td>\n",
       "      <td>Monumen Nasional atau yang populer disingkat d...</td>\n",
       "      <td>Budaya</td>\n",
       "      <td>Jakarta</td>\n",
       "      <td>20000</td>\n",
       "      <td>4.6</td>\n",
       "      <td>15</td>\n",
       "      <td>{'lat': -6.1753924, 'lng': 106</td>\n",
       "      <td>-6.17539</td>\n",
       "      <td>106.8272</td>\n",
       "    </tr>\n",
       "    <tr>\n",
       "      <th>1</th>\n",
       "      <td>2</td>\n",
       "      <td>Kota Tua</td>\n",
       "      <td>Kota tua di Jakarta, yang juga bernama Kota Tu...</td>\n",
       "      <td>Budaya</td>\n",
       "      <td>Jakarta</td>\n",
       "      <td>5000</td>\n",
       "      <td>4.6</td>\n",
       "      <td>90</td>\n",
       "      <td>{'lat': -6.137644799999999, 'l</td>\n",
       "      <td>-6.13764</td>\n",
       "      <td>106.8171</td>\n",
       "    </tr>\n",
       "  </tbody>\n",
       "</table>\n",
       "</div>"
      ],
      "text/plain": [
       "   Place_Id        Place_Name  \\\n",
       "0         1  Monumen Nasional   \n",
       "1         2          Kota Tua   \n",
       "\n",
       "                                         Description Category     City  Price  \\\n",
       "0  Monumen Nasional atau yang populer disingkat d...   Budaya  Jakarta  20000   \n",
       "1  Kota tua di Jakarta, yang juga bernama Kota Tu...   Budaya  Jakarta   5000   \n",
       "\n",
       "   Rating  Time_Minutes                      Coordinate      Lat      Long  \n",
       "0     4.6            15  {'lat': -6.1753924, 'lng': 106 -6.17539  106.8272  \n",
       "1     4.6            90  {'lat': -6.137644799999999, 'l -6.13764  106.8171  "
      ]
     },
     "execution_count": 7,
     "metadata": {},
     "output_type": "execute_result"
    }
   ],
   "source": [
    "destination.head(2)"
   ]
  },
  {
   "cell_type": "code",
   "execution_count": 8,
   "metadata": {},
   "outputs": [
    {
     "data": {
      "text/html": [
       "<div>\n",
       "<style scoped>\n",
       "    .dataframe tbody tr th:only-of-type {\n",
       "        vertical-align: middle;\n",
       "    }\n",
       "\n",
       "    .dataframe tbody tr th {\n",
       "        vertical-align: top;\n",
       "    }\n",
       "\n",
       "    .dataframe thead th {\n",
       "        text-align: right;\n",
       "    }\n",
       "</style>\n",
       "<table border=\"1\" class=\"dataframe\">\n",
       "  <thead>\n",
       "    <tr style=\"text-align: right;\">\n",
       "      <th></th>\n",
       "      <th>User_Id</th>\n",
       "      <th>Place_Id</th>\n",
       "      <th>Place_Ratings</th>\n",
       "    </tr>\n",
       "  </thead>\n",
       "  <tbody>\n",
       "    <tr>\n",
       "      <th>0</th>\n",
       "      <td>0</td>\n",
       "      <td>0</td>\n",
       "      <td>0</td>\n",
       "    </tr>\n",
       "    <tr>\n",
       "      <th>1</th>\n",
       "      <td>1</td>\n",
       "      <td>179</td>\n",
       "      <td>3</td>\n",
       "    </tr>\n",
       "  </tbody>\n",
       "</table>\n",
       "</div>"
      ],
      "text/plain": [
       "   User_Id  Place_Id  Place_Ratings\n",
       "0        0         0              0\n",
       "1        1       179              3"
      ]
     },
     "execution_count": 8,
     "metadata": {},
     "output_type": "execute_result"
    }
   ],
   "source": [
    "ratings.head(2)"
   ]
  },
  {
   "cell_type": "code",
   "execution_count": 9,
   "metadata": {},
   "outputs": [
    {
     "name": "stdout",
     "output_type": "stream",
     "text": [
      "number of tourist destination = 437\n",
      "number of user = 301\n"
     ]
    }
   ],
   "source": [
    "print(f'number of tourist destination = {len(destination.Place_Id.unique())}')\n",
    "print(f'number of user = {len(ratings.User_Id.unique())}')"
   ]
  },
  {
   "cell_type": "code",
   "execution_count": 10,
   "metadata": {},
   "outputs": [
    {
     "data": {
      "text/html": [
       "<div>\n",
       "<style scoped>\n",
       "    .dataframe tbody tr th:only-of-type {\n",
       "        vertical-align: middle;\n",
       "    }\n",
       "\n",
       "    .dataframe tbody tr th {\n",
       "        vertical-align: top;\n",
       "    }\n",
       "\n",
       "    .dataframe thead th {\n",
       "        text-align: right;\n",
       "    }\n",
       "</style>\n",
       "<table border=\"1\" class=\"dataframe\">\n",
       "  <thead>\n",
       "    <tr style=\"text-align: right;\">\n",
       "      <th></th>\n",
       "      <th>Place_Id</th>\n",
       "      <th>Place_Name</th>\n",
       "      <th>Description</th>\n",
       "      <th>Category</th>\n",
       "      <th>City</th>\n",
       "      <th>Price</th>\n",
       "      <th>Rating</th>\n",
       "      <th>Lat</th>\n",
       "      <th>Long</th>\n",
       "    </tr>\n",
       "  </thead>\n",
       "  <tbody>\n",
       "    <tr>\n",
       "      <th>0</th>\n",
       "      <td>1</td>\n",
       "      <td>Monumen Nasional</td>\n",
       "      <td>Monumen Nasional atau yang populer disingkat d...</td>\n",
       "      <td>Budaya</td>\n",
       "      <td>Jakarta</td>\n",
       "      <td>20000</td>\n",
       "      <td>4.6</td>\n",
       "      <td>-6.17539</td>\n",
       "      <td>106.8272</td>\n",
       "    </tr>\n",
       "    <tr>\n",
       "      <th>1</th>\n",
       "      <td>2</td>\n",
       "      <td>Kota Tua</td>\n",
       "      <td>Kota tua di Jakarta, yang juga bernama Kota Tu...</td>\n",
       "      <td>Budaya</td>\n",
       "      <td>Jakarta</td>\n",
       "      <td>5000</td>\n",
       "      <td>4.6</td>\n",
       "      <td>-6.13764</td>\n",
       "      <td>106.8171</td>\n",
       "    </tr>\n",
       "  </tbody>\n",
       "</table>\n",
       "</div>"
      ],
      "text/plain": [
       "   Place_Id        Place_Name  \\\n",
       "0         1  Monumen Nasional   \n",
       "1         2          Kota Tua   \n",
       "\n",
       "                                         Description Category     City  Price  \\\n",
       "0  Monumen Nasional atau yang populer disingkat d...   Budaya  Jakarta  20000   \n",
       "1  Kota tua di Jakarta, yang juga bernama Kota Tu...   Budaya  Jakarta   5000   \n",
       "\n",
       "   Rating      Lat      Long  \n",
       "0     4.6 -6.17539  106.8272  \n",
       "1     4.6 -6.13764  106.8171  "
      ]
     },
     "execution_count": 10,
     "metadata": {},
     "output_type": "execute_result"
    }
   ],
   "source": [
    "destination = destination.drop(['Coordinate', 'Time_Minutes'], axis=1)\n",
    "destination.head(2)"
   ]
  },
  {
   "attachments": {},
   "cell_type": "markdown",
   "metadata": {},
   "source": [
    "## Collaborative Filtering\n",
    "Collaborative Filtering uses algorithms to filter data from user reviews to make personalized recommendations for users with similar preferences"
   ]
  },
  {
   "attachments": {},
   "cell_type": "markdown",
   "metadata": {},
   "source": [
    "### Split data for Training and Testing"
   ]
  },
  {
   "cell_type": "code",
   "execution_count": 11,
   "metadata": {},
   "outputs": [],
   "source": [
    "train, test = train_test_split(ratings, test_size = 0.2)"
   ]
  },
  {
   "cell_type": "code",
   "execution_count": 12,
   "metadata": {},
   "outputs": [
    {
     "name": "stdout",
     "output_type": "stream",
     "text": [
      "(8000, 3)\n",
      "(2001, 3)\n"
     ]
    }
   ],
   "source": [
    "print(train.shape)\n",
    "print(test.shape)"
   ]
  },
  {
   "cell_type": "code",
   "execution_count": 13,
   "metadata": {},
   "outputs": [
    {
     "name": "stdout",
     "output_type": "stream",
     "text": [
      "number of user = 301\n",
      "number of place name = 438\n"
     ]
    }
   ],
   "source": [
    "number_user = len(ratings['User_Id'].unique())\n",
    "number_destination = len(ratings['Place_Id'].unique())\n",
    "\n",
    "print(f'number of user = {number_user}')\n",
    "print(f'number of place name = {number_destination}')"
   ]
  },
  {
   "cell_type": "code",
   "execution_count": 14,
   "metadata": {},
   "outputs": [],
   "source": [
    "# build recommendation system using emmbedding layers \n",
    "EMBEDDING_DIM = 50\n",
    "\n",
    "# input layers \n",
    "place_input = Input(shape=[1])\n",
    "user_input = Input(shape=[1])\n",
    "\n",
    "# embedding layers\n",
    "place_embedding = Embedding(number_destination+1 , EMBEDDING_DIM)(place_input)\n",
    "user_embedding = Embedding(number_user+1 , EMBEDDING_DIM)(user_input)\n",
    "\n",
    "# flatte the embedddings\n",
    "place_flat = Flatten()(place_embedding)\n",
    "user_flat = Flatten()(user_embedding)\n",
    "\n",
    "# add dense layers\n",
    "dense1 = Dense(64, activation='relu')(place_flat)\n",
    "dense2 = Dense(64, activation='relu')(user_flat)\n",
    "\n",
    "# output layer\n",
    "output = Dot(1)([dense1, dense2])\n",
    "\n",
    "# the model\n",
    "model = Model([place_input, user_input], [output])"
   ]
  },
  {
   "cell_type": "code",
   "execution_count": 15,
   "metadata": {},
   "outputs": [],
   "source": [
    "model.compile(loss = 'mean_squared_error', \n",
    "              optimizer = Adam(learning_rate = 0.0005)\n",
    "              )"
   ]
  },
  {
   "cell_type": "code",
   "execution_count": 16,
   "metadata": {},
   "outputs": [
    {
     "name": "stdout",
     "output_type": "stream",
     "text": [
      "Epoch 1/30\n",
      "250/250 [==============================] - 2s 3ms/step - loss: 6.3154 - val_loss: 2.0872\n",
      "Epoch 2/30\n",
      "250/250 [==============================] - 0s 2ms/step - loss: 1.9640 - val_loss: 2.0180\n",
      "Epoch 3/30\n",
      "250/250 [==============================] - 0s 2ms/step - loss: 1.8764 - val_loss: 2.0244\n",
      "Epoch 4/30\n",
      "250/250 [==============================] - 0s 2ms/step - loss: 1.8467 - val_loss: 2.0285\n",
      "Epoch 5/30\n",
      "250/250 [==============================] - 1s 2ms/step - loss: 1.8303 - val_loss: 2.0324\n",
      "Epoch 6/30\n",
      "250/250 [==============================] - 1s 2ms/step - loss: 1.8168 - val_loss: 2.0226\n",
      "Epoch 7/30\n",
      "250/250 [==============================] - 1s 2ms/step - loss: 1.8040 - val_loss: 2.0198\n",
      "Epoch 8/30\n",
      "250/250 [==============================] - 1s 2ms/step - loss: 1.7909 - val_loss: 2.0485\n",
      "Epoch 9/30\n",
      "250/250 [==============================] - 1s 2ms/step - loss: 1.7856 - val_loss: 2.0188\n",
      "Epoch 10/30\n",
      "250/250 [==============================] - 1s 2ms/step - loss: 1.7710 - val_loss: 2.0397\n",
      "Epoch 11/30\n",
      "250/250 [==============================] - 1s 2ms/step - loss: 1.7660 - val_loss: 2.0311\n",
      "Epoch 12/30\n",
      "250/250 [==============================] - 1s 2ms/step - loss: 1.7527 - val_loss: 2.0108\n",
      "Epoch 13/30\n",
      "250/250 [==============================] - 1s 2ms/step - loss: 1.7376 - val_loss: 2.0135\n",
      "Epoch 14/30\n",
      "250/250 [==============================] - 1s 2ms/step - loss: 1.7173 - val_loss: 2.0094\n",
      "Epoch 15/30\n",
      "250/250 [==============================] - 1s 2ms/step - loss: 1.6829 - val_loss: 2.0302\n",
      "Epoch 16/30\n",
      "250/250 [==============================] - 1s 2ms/step - loss: 1.6283 - val_loss: 2.0547\n",
      "Epoch 17/30\n",
      "250/250 [==============================] - 1s 2ms/step - loss: 1.5562 - val_loss: 2.0969\n",
      "Epoch 18/30\n",
      "250/250 [==============================] - 0s 2ms/step - loss: 1.4770 - val_loss: 2.1260\n",
      "Epoch 19/30\n",
      "250/250 [==============================] - 0s 2ms/step - loss: 1.4027 - val_loss: 2.2086\n",
      "Epoch 20/30\n",
      "250/250 [==============================] - 0s 2ms/step - loss: 1.3306 - val_loss: 2.2580\n",
      "Epoch 21/30\n",
      "250/250 [==============================] - 0s 2ms/step - loss: 1.2629 - val_loss: 2.3063\n",
      "Epoch 22/30\n",
      "250/250 [==============================] - 0s 2ms/step - loss: 1.1944 - val_loss: 2.3569\n",
      "Epoch 23/30\n",
      "250/250 [==============================] - 0s 2ms/step - loss: 1.1344 - val_loss: 2.4241\n",
      "Epoch 24/30\n",
      "250/250 [==============================] - 0s 2ms/step - loss: 1.0747 - val_loss: 2.4690\n",
      "Epoch 25/30\n",
      "250/250 [==============================] - 0s 2ms/step - loss: 1.0189 - val_loss: 2.4893\n",
      "Epoch 26/30\n",
      "250/250 [==============================] - 0s 2ms/step - loss: 0.9645 - val_loss: 2.5596\n",
      "Epoch 27/30\n",
      "250/250 [==============================] - 0s 2ms/step - loss: 0.9161 - val_loss: 2.5976\n",
      "Epoch 28/30\n",
      "250/250 [==============================] - 0s 2ms/step - loss: 0.8711 - val_loss: 2.6656\n",
      "Epoch 29/30\n",
      "250/250 [==============================] - 0s 2ms/step - loss: 0.8285 - val_loss: 2.6989\n",
      "Epoch 30/30\n",
      "250/250 [==============================] - 0s 2ms/step - loss: 0.7892 - val_loss: 2.7332\n"
     ]
    }
   ],
   "source": [
    "history = model.fit(x= [train.Place_Id, train.User_Id], \n",
    "                    y= train.Place_Ratings, \n",
    "                    validation_data = ([test.Place_Id, test.User_Id], test.Place_Ratings), \n",
    "                    batch_size =32 , \n",
    "                    epochs =30)"
   ]
  },
  {
   "attachments": {},
   "cell_type": "markdown",
   "metadata": {},
   "source": [
    "## Collaborative Recomendation System"
   ]
  },
  {
   "cell_type": "code",
   "execution_count": 24,
   "metadata": {},
   "outputs": [],
   "source": [
    "# recommendation system function using collaborative filtering\n",
    "def collaborative_rec(User_Id, destination ,model, np_val, detail_user = []):\n",
    "    # detail user : digunakan untuk menyimpan data detail user untuk mengerucutkan data yang akan di outputkan\n",
    "    \n",
    "    if User_Id in ratings['User_Id'].values:\n",
    "            destination = destination.copy()\n",
    "            user_ids = np.array([User_Id] * len(destination))\n",
    "            results = model([destination.Place_Id.values, user_ids]).numpy().reshape(-1)\n",
    "    \n",
    "            destination['predicted_rating'] = pd.Series(results)\n",
    "            destination = destination.sort_values('predicted_rating', ascending = False)\n",
    "    else:\n",
    "            destination = destination.copy()\n",
    "            destination = destination.sort_values('Rating', ascending = False)\n",
    "    \n",
    "    if len(detail_user) != 0:\n",
    "        destination = destination[destination['City'] == detail_user[0]]\n",
    "    \n",
    "    dataFinal = destination[:np_val]\n",
    "    \n",
    "    return dataFinal['Place_Id'].tolist()"
   ]
  },
  {
   "cell_type": "code",
   "execution_count": 18,
   "metadata": {},
   "outputs": [],
   "source": [
    "detail_user = ['Bandung']"
   ]
  },
  {
   "cell_type": "code",
   "execution_count": 25,
   "metadata": {},
   "outputs": [
    {
     "data": {
      "text/plain": [
       "[261, 251, 227, 332, 264]"
      ]
     },
     "execution_count": 25,
     "metadata": {},
     "output_type": "execute_result"
    }
   ],
   "source": [
    "collaborative_rec(34, destination, model, 5, detail_user)"
   ]
  },
  {
   "attachments": {},
   "cell_type": "markdown",
   "metadata": {},
   "source": [
    "<H1>Recomendation system based from category</H1>"
   ]
  },
  {
   "cell_type": "code",
   "execution_count": 20,
   "metadata": {},
   "outputs": [],
   "source": [
    "# fungsi untuk melakukan groouping data\n",
    "def groupingCategory(df, budget, totalCategory, excepts = []):\n",
    "    data = []\n",
    "    \n",
    "    if len(excepts) == 0:\n",
    "        for idx, row in df.iterrows():\n",
    "            if len(data) == totalCategory:\n",
    "                break\n",
    "            if row['Price'] < budget:\n",
    "                data.append(row['Place_Id'])\n",
    "                budget -= row['Price']    \n",
    "    else:\n",
    "        for x in excepts:\n",
    "            if df['Place_Id'].eq(x).any():\n",
    "                df = df.loc[df['Place_Id'] != x]\n",
    "                \n",
    "        for idx, row in df.iterrows():\n",
    "            if len(data) == totalCategory:\n",
    "                break\n",
    "            if row['Price'] < budget:\n",
    "                data.append(row['Place_Id'])\n",
    "                budget -= row['Price']\n",
    "        \n",
    "    return data"
   ]
  },
  {
   "cell_type": "code",
   "execution_count": 21,
   "metadata": {},
   "outputs": [],
   "source": [
    "# Function to recommend places based on user input\n",
    "def recommend_places(df, category, city, price, rating, lat, long, top_n=50):\n",
    "    # Filter dataset based on user input\n",
    "    filtered_df = df[(df['Category'] == category) & (df['City'] == city) & (df['Price'] <= price) & (df['Rating'] >= rating)]\n",
    "    \n",
    "    # Calculate cosine similarity between user input and dataset\n",
    "    user_input = [[price, rating, lat, long]]\n",
    "    dataset = filtered_df[['Price', 'Rating', 'Lat', 'Long']]\n",
    "    similarity_matrix = cosine_similarity(user_input, dataset)\n",
    "    \n",
    "    # Sort places based on similarity score\n",
    "    filtered_df['Similarity'] = similarity_matrix[0]\n",
    "    recommended_places = filtered_df.sort_values(by='Similarity', ascending=False).head(top_n)\n",
    "    \n",
    "    gold = []\n",
    "    silver = []\n",
    "    bronze = []\n",
    "    \n",
    "    gold = groupingCategory(recommended_places, price, 5)\n",
    "    silver = groupingCategory(recommended_places, price, 5, gold)\n",
    "    bronze = groupingCategory(recommended_places, price, 5, (silver + gold))\n",
    "                \n",
    "    return {\"gold\": gold, \"silver\": silver, \"bronze\": bronze}"
   ]
  },
  {
   "cell_type": "code",
   "execution_count": 22,
   "metadata": {},
   "outputs": [],
   "source": [
    "# Example usage\n",
    "category = 'Taman Hiburan'\n",
    "city = 'Jakarta'\n",
    "price = 50000\n",
    "rating = 4.0\n",
    "lat = -6.20000\n",
    "long = 106.80000"
   ]
  },
  {
   "cell_type": "code",
   "execution_count": 23,
   "metadata": {},
   "outputs": [
    {
     "name": "stderr",
     "output_type": "stream",
     "text": [
      "C:\\Users\\dewan\\AppData\\Local\\Temp\\ipykernel_2784\\1711786898.py:12: SettingWithCopyWarning: \n",
      "A value is trying to be set on a copy of a slice from a DataFrame.\n",
      "Try using .loc[row_indexer,col_indexer] = value instead\n",
      "\n",
      "See the caveats in the documentation: https://pandas.pydata.org/pandas-docs/stable/user_guide/indexing.html#returning-a-view-versus-a-copy\n",
      "  filtered_df['Similarity'] = similarity_matrix[0]\n"
     ]
    },
    {
     "data": {
      "text/plain": [
       "{'gold': [28, 51, 78, 54, 77],\n",
       " 'silver': [62, 4, 58, 47, 30],\n",
       " 'bronze': [6, 76, 33, 79, 57]}"
      ]
     },
     "execution_count": 23,
     "metadata": {},
     "output_type": "execute_result"
    }
   ],
   "source": [
    "recommendations = recommend_places(destination, category, city, price, rating, lat, long)\n",
    "recommendations"
   ]
  }
 ],
 "metadata": {
  "kernelspec": {
   "display_name": "tf_new",
   "language": "python",
   "name": "python3"
  },
  "language_info": {
   "codemirror_mode": {
    "name": "ipython",
    "version": 3
   },
   "file_extension": ".py",
   "mimetype": "text/x-python",
   "name": "python",
   "nbconvert_exporter": "python",
   "pygments_lexer": "ipython3",
   "version": "3.10.11"
  },
  "orig_nbformat": 4
 },
 "nbformat": 4,
 "nbformat_minor": 2
}
