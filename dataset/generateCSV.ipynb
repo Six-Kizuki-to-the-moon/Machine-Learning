{
 "cells": [
  {
   "cell_type": "code",
   "execution_count": 2,
   "metadata": {},
   "outputs": [],
   "source": [
    "import pandas as pd\n",
    "import ast"
   ]
  },
  {
   "attachments": {},
   "cell_type": "markdown",
   "metadata": {},
   "source": [
    "## Update data destination for synchronize with the field on table database"
   ]
  },
  {
   "cell_type": "code",
   "execution_count": 3,
   "metadata": {},
   "outputs": [],
   "source": [
    "destination = pd.read_csv('destination.csv')"
   ]
  },
  {
   "cell_type": "code",
   "execution_count": 4,
   "metadata": {},
   "outputs": [
    {
     "data": {
      "text/html": [
       "<div>\n",
       "<style scoped>\n",
       "    .dataframe tbody tr th:only-of-type {\n",
       "        vertical-align: middle;\n",
       "    }\n",
       "\n",
       "    .dataframe tbody tr th {\n",
       "        vertical-align: top;\n",
       "    }\n",
       "\n",
       "    .dataframe thead th {\n",
       "        text-align: right;\n",
       "    }\n",
       "</style>\n",
       "<table border=\"1\" class=\"dataframe\">\n",
       "  <thead>\n",
       "    <tr style=\"text-align: right;\">\n",
       "      <th></th>\n",
       "      <th>id</th>\n",
       "      <th>name_wisata</th>\n",
       "      <th>description_wisata</th>\n",
       "      <th>category</th>\n",
       "      <th>destination_photo</th>\n",
       "      <th>city</th>\n",
       "      <th>price</th>\n",
       "      <th>rating</th>\n",
       "      <th>time_minutes</th>\n",
       "      <th>coordinate</th>\n",
       "      <th>destination_lat</th>\n",
       "      <th>destination_long</th>\n",
       "    </tr>\n",
       "  </thead>\n",
       "  <tbody>\n",
       "    <tr>\n",
       "      <th>0</th>\n",
       "      <td>1</td>\n",
       "      <td>Monumen Nasional</td>\n",
       "      <td>Monumen Nasional atau yang populer disingkat d...</td>\n",
       "      <td>Budaya</td>\n",
       "      <td>https://storage.googleapis.com/tourista_bucket...</td>\n",
       "      <td>Jakarta</td>\n",
       "      <td>20000</td>\n",
       "      <td>4.6</td>\n",
       "      <td>15.0</td>\n",
       "      <td>{'lat': -6.1753924, 'lng': 106.8271528}</td>\n",
       "      <td>-6.17539</td>\n",
       "      <td>106.8272</td>\n",
       "    </tr>\n",
       "    <tr>\n",
       "      <th>1</th>\n",
       "      <td>2</td>\n",
       "      <td>Kota Tua</td>\n",
       "      <td>Kota tua di Jakarta yang juga bernama Kota Tua...</td>\n",
       "      <td>Budaya</td>\n",
       "      <td>https://storage.googleapis.com/tourista_bucket...</td>\n",
       "      <td>Jakarta</td>\n",
       "      <td>5000</td>\n",
       "      <td>4.6</td>\n",
       "      <td>90.0</td>\n",
       "      <td>{'lat': -6.137644799999999, 'lng': 106.8171245}</td>\n",
       "      <td>-6.13764</td>\n",
       "      <td>106.8171</td>\n",
       "    </tr>\n",
       "  </tbody>\n",
       "</table>\n",
       "</div>"
      ],
      "text/plain": [
       "   id       name_wisata                                 description_wisata  \\\n",
       "0   1  Monumen Nasional  Monumen Nasional atau yang populer disingkat d...   \n",
       "1   2          Kota Tua  Kota tua di Jakarta yang juga bernama Kota Tua...   \n",
       "\n",
       "  category                                  destination_photo     city  price  \\\n",
       "0   Budaya  https://storage.googleapis.com/tourista_bucket...  Jakarta  20000   \n",
       "1   Budaya  https://storage.googleapis.com/tourista_bucket...  Jakarta   5000   \n",
       "\n",
       "   rating  time_minutes                                       coordinate  \\\n",
       "0     4.6          15.0          {'lat': -6.1753924, 'lng': 106.8271528}   \n",
       "1     4.6          90.0  {'lat': -6.137644799999999, 'lng': 106.8171245}   \n",
       "\n",
       "   destination_lat  destination_long  \n",
       "0         -6.17539          106.8272  \n",
       "1         -6.13764          106.8171  "
      ]
     },
     "execution_count": 4,
     "metadata": {},
     "output_type": "execute_result"
    }
   ],
   "source": [
    "destination.head(2)"
   ]
  },
  {
   "cell_type": "code",
   "execution_count": 4,
   "metadata": {},
   "outputs": [],
   "source": [
    "# remove all except alphanumeric characters + space\n",
    "\n",
    "destination['description_wisata'] = destination['description_wisata'].str.replace(r'[^a-zA-Z0-9\\s]+', '', regex=True)"
   ]
  },
  {
   "cell_type": "code",
   "execution_count": 5,
   "metadata": {},
   "outputs": [],
   "source": [
    "for index, row in destination.iterrows():\n",
    "    destination.loc[index, 'destination_photo'] = \"https://storage.googleapis.com/tourista_bucket/tourista_logo_large.png\""
   ]
  },
  {
   "cell_type": "code",
   "execution_count": 8,
   "metadata": {},
   "outputs": [],
   "source": [
    "destination_part1 = destination[250:]"
   ]
  },
  {
   "cell_type": "code",
   "execution_count": 9,
   "metadata": {},
   "outputs": [
    {
     "data": {
      "text/plain": [
       "187"
      ]
     },
     "execution_count": 9,
     "metadata": {},
     "output_type": "execute_result"
    }
   ],
   "source": [
    "len(destination_part1)"
   ]
  },
  {
   "cell_type": "code",
   "execution_count": 10,
   "metadata": {},
   "outputs": [],
   "source": [
    "# Menyimpan DataFrame ke file CSV\n",
    "destination_part1.to_csv('./integration_to_db/destination_part2.csv', index=False)"
   ]
  },
  {
   "attachments": {},
   "cell_type": "markdown",
   "metadata": {},
   "source": [
    "## Update data Hotels"
   ]
  },
  {
   "cell_type": "code",
   "execution_count": 2,
   "metadata": {},
   "outputs": [],
   "source": [
    "hotels = pd.read_csv('Hotels_Jakarta.csv')"
   ]
  },
  {
   "cell_type": "code",
   "execution_count": 3,
   "metadata": {},
   "outputs": [
    {
     "data": {
      "text/html": [
       "<div>\n",
       "<style scoped>\n",
       "    .dataframe tbody tr th:only-of-type {\n",
       "        vertical-align: middle;\n",
       "    }\n",
       "\n",
       "    .dataframe tbody tr th {\n",
       "        vertical-align: top;\n",
       "    }\n",
       "\n",
       "    .dataframe thead th {\n",
       "        text-align: right;\n",
       "    }\n",
       "</style>\n",
       "<table border=\"1\" class=\"dataframe\">\n",
       "  <thead>\n",
       "    <tr style=\"text-align: right;\">\n",
       "      <th></th>\n",
       "      <th>Name</th>\n",
       "      <th>Rating</th>\n",
       "      <th>Address</th>\n",
       "      <th>Location</th>\n",
       "    </tr>\n",
       "  </thead>\n",
       "  <tbody>\n",
       "    <tr>\n",
       "      <th>0</th>\n",
       "      <td>ASTON Priority Simatupang Hotel &amp; Conference C...</td>\n",
       "      <td>4.7</td>\n",
       "      <td>No.Kav. 9, Jl. Let. Jend Jl. TB Simatupang No....</td>\n",
       "      <td>{'lat': -6.3012799, 'lng': 106.8346244}</td>\n",
       "    </tr>\n",
       "    <tr>\n",
       "      <th>1</th>\n",
       "      <td>Hotel Indonesia Kempinski Jakarta</td>\n",
       "      <td>4.7</td>\n",
       "      <td>Jl. M.H. Thamrin No.1, RT.1/RW.5, Menteng, Kec...</td>\n",
       "      <td>{'lat': -6.1956129, 'lng': 106.8223572}</td>\n",
       "    </tr>\n",
       "    <tr>\n",
       "      <th>2</th>\n",
       "      <td>Urbanest Inn House TB Simatupang</td>\n",
       "      <td>4.5</td>\n",
       "      <td>Jl. Villa Jatipadang No.52, Jati Padang, Ps. M...</td>\n",
       "      <td>{'lat': -6.296992299999999, 'lng': 106.8322593}</td>\n",
       "    </tr>\n",
       "    <tr>\n",
       "      <th>3</th>\n",
       "      <td>The London Living Kebagusan City</td>\n",
       "      <td>4.3</td>\n",
       "      <td>Apartemen Kebagusan City Tower C KC 06 Jalan B...</td>\n",
       "      <td>{'lat': -6.306017199999999, 'lng': 106.8359636}</td>\n",
       "    </tr>\n",
       "    <tr>\n",
       "      <th>4</th>\n",
       "      <td>Cove Ostin</td>\n",
       "      <td>4.9</td>\n",
       "      <td>Jl. TB Simatupang No.15A, RT.11/RW.4, Tj. Bar....</td>\n",
       "      <td>{'lat': -6.3039579, 'lng': 106.843251}</td>\n",
       "    </tr>\n",
       "  </tbody>\n",
       "</table>\n",
       "</div>"
      ],
      "text/plain": [
       "                                                Name  Rating  \\\n",
       "0  ASTON Priority Simatupang Hotel & Conference C...     4.7   \n",
       "1                  Hotel Indonesia Kempinski Jakarta     4.7   \n",
       "2                   Urbanest Inn House TB Simatupang     4.5   \n",
       "3                   The London Living Kebagusan City     4.3   \n",
       "4                                         Cove Ostin     4.9   \n",
       "\n",
       "                                             Address  \\\n",
       "0  No.Kav. 9, Jl. Let. Jend Jl. TB Simatupang No....   \n",
       "1  Jl. M.H. Thamrin No.1, RT.1/RW.5, Menteng, Kec...   \n",
       "2  Jl. Villa Jatipadang No.52, Jati Padang, Ps. M...   \n",
       "3  Apartemen Kebagusan City Tower C KC 06 Jalan B...   \n",
       "4  Jl. TB Simatupang No.15A, RT.11/RW.4, Tj. Bar....   \n",
       "\n",
       "                                          Location  \n",
       "0          {'lat': -6.3012799, 'lng': 106.8346244}  \n",
       "1          {'lat': -6.1956129, 'lng': 106.8223572}  \n",
       "2  {'lat': -6.296992299999999, 'lng': 106.8322593}  \n",
       "3  {'lat': -6.306017199999999, 'lng': 106.8359636}  \n",
       "4           {'lat': -6.3039579, 'lng': 106.843251}  "
      ]
     },
     "execution_count": 3,
     "metadata": {},
     "output_type": "execute_result"
    }
   ],
   "source": [
    "hotels.head()"
   ]
  },
  {
   "cell_type": "code",
   "execution_count": 4,
   "metadata": {},
   "outputs": [],
   "source": [
    "hotels = hotels.rename(columns={'Name' : 'name_penginapan'})"
   ]
  },
  {
   "cell_type": "code",
   "execution_count": 6,
   "metadata": {},
   "outputs": [
    {
     "data": {
      "text/html": [
       "<div>\n",
       "<style scoped>\n",
       "    .dataframe tbody tr th:only-of-type {\n",
       "        vertical-align: middle;\n",
       "    }\n",
       "\n",
       "    .dataframe tbody tr th {\n",
       "        vertical-align: top;\n",
       "    }\n",
       "\n",
       "    .dataframe thead th {\n",
       "        text-align: right;\n",
       "    }\n",
       "</style>\n",
       "<table border=\"1\" class=\"dataframe\">\n",
       "  <thead>\n",
       "    <tr style=\"text-align: right;\">\n",
       "      <th></th>\n",
       "      <th>name_penginapan</th>\n",
       "      <th>Rating</th>\n",
       "      <th>Address</th>\n",
       "      <th>Location</th>\n",
       "    </tr>\n",
       "  </thead>\n",
       "  <tbody>\n",
       "    <tr>\n",
       "      <th>0</th>\n",
       "      <td>ASTON Priority Simatupang Hotel &amp; Conference C...</td>\n",
       "      <td>4.7</td>\n",
       "      <td>No.Kav. 9, Jl. Let. Jend Jl. TB Simatupang No....</td>\n",
       "      <td>{'lat': -6.3012799, 'lng': 106.8346244}</td>\n",
       "    </tr>\n",
       "    <tr>\n",
       "      <th>1</th>\n",
       "      <td>Hotel Indonesia Kempinski Jakarta</td>\n",
       "      <td>4.7</td>\n",
       "      <td>Jl. M.H. Thamrin No.1, RT.1/RW.5, Menteng, Kec...</td>\n",
       "      <td>{'lat': -6.1956129, 'lng': 106.8223572}</td>\n",
       "    </tr>\n",
       "    <tr>\n",
       "      <th>2</th>\n",
       "      <td>Urbanest Inn House TB Simatupang</td>\n",
       "      <td>4.5</td>\n",
       "      <td>Jl. Villa Jatipadang No.52, Jati Padang, Ps. M...</td>\n",
       "      <td>{'lat': -6.296992299999999, 'lng': 106.8322593}</td>\n",
       "    </tr>\n",
       "    <tr>\n",
       "      <th>3</th>\n",
       "      <td>The London Living Kebagusan City</td>\n",
       "      <td>4.3</td>\n",
       "      <td>Apartemen Kebagusan City Tower C KC 06 Jalan B...</td>\n",
       "      <td>{'lat': -6.306017199999999, 'lng': 106.8359636}</td>\n",
       "    </tr>\n",
       "    <tr>\n",
       "      <th>4</th>\n",
       "      <td>Cove Ostin</td>\n",
       "      <td>4.9</td>\n",
       "      <td>Jl. TB Simatupang No.15A, RT.11/RW.4, Tj. Bar....</td>\n",
       "      <td>{'lat': -6.3039579, 'lng': 106.843251}</td>\n",
       "    </tr>\n",
       "    <tr>\n",
       "      <th>...</th>\n",
       "      <td>...</td>\n",
       "      <td>...</td>\n",
       "      <td>...</td>\n",
       "      <td>...</td>\n",
       "    </tr>\n",
       "    <tr>\n",
       "      <th>295</th>\n",
       "      <td>KOST EXCLUSIVE BARKAH</td>\n",
       "      <td>4.1</td>\n",
       "      <td>Jl. Raya Tengah No.1, RT.5/RW.12, Gedong, Kec....</td>\n",
       "      <td>{'lat': -6.299087, 'lng': 106.8594934}</td>\n",
       "    </tr>\n",
       "    <tr>\n",
       "      <th>296</th>\n",
       "      <td>Nur Residence</td>\n",
       "      <td>4.7</td>\n",
       "      <td>Jl. Pertanian III No.56, RT.14/RW.5, Ps. Mingg...</td>\n",
       "      <td>{'lat': -6.287287, 'lng': 106.8412007}</td>\n",
       "    </tr>\n",
       "    <tr>\n",
       "      <th>297</th>\n",
       "      <td>OYO Life 2958 Kost Lenteng Agung</td>\n",
       "      <td>4.3</td>\n",
       "      <td>Jl. Raya Lenteng Agung No.40, RT.4/RW.1, Lente...</td>\n",
       "      <td>{'lat': -6.3099767, 'lng': 106.8371039}</td>\n",
       "    </tr>\n",
       "    <tr>\n",
       "      <th>298</th>\n",
       "      <td>The Hatu Hotel</td>\n",
       "      <td>4.3</td>\n",
       "      <td>Jl. Hang Tuah I No.2, RT.2/RW.4, Gunung, Kec. ...</td>\n",
       "      <td>{'lat': -6.2335783, 'lng': 106.7973048}</td>\n",
       "    </tr>\n",
       "    <tr>\n",
       "      <th>299</th>\n",
       "      <td>JASMINE RESIDENCE 33</td>\n",
       "      <td>3.1</td>\n",
       "      <td>Jl. Melati No.33, RT.6/RW.7, Ragunan, Ps. Ming...</td>\n",
       "      <td>{'lat': -6.304216299999999, 'lng': 106.8226384}</td>\n",
       "    </tr>\n",
       "  </tbody>\n",
       "</table>\n",
       "<p>300 rows × 4 columns</p>\n",
       "</div>"
      ],
      "text/plain": [
       "                                       name_penginapan  Rating  \\\n",
       "0    ASTON Priority Simatupang Hotel & Conference C...     4.7   \n",
       "1                    Hotel Indonesia Kempinski Jakarta     4.7   \n",
       "2                     Urbanest Inn House TB Simatupang     4.5   \n",
       "3                     The London Living Kebagusan City     4.3   \n",
       "4                                           Cove Ostin     4.9   \n",
       "..                                                 ...     ...   \n",
       "295                              KOST EXCLUSIVE BARKAH     4.1   \n",
       "296                                      Nur Residence     4.7   \n",
       "297                   OYO Life 2958 Kost Lenteng Agung     4.3   \n",
       "298                                     The Hatu Hotel     4.3   \n",
       "299                               JASMINE RESIDENCE 33     3.1   \n",
       "\n",
       "                                               Address  \\\n",
       "0    No.Kav. 9, Jl. Let. Jend Jl. TB Simatupang No....   \n",
       "1    Jl. M.H. Thamrin No.1, RT.1/RW.5, Menteng, Kec...   \n",
       "2    Jl. Villa Jatipadang No.52, Jati Padang, Ps. M...   \n",
       "3    Apartemen Kebagusan City Tower C KC 06 Jalan B...   \n",
       "4    Jl. TB Simatupang No.15A, RT.11/RW.4, Tj. Bar....   \n",
       "..                                                 ...   \n",
       "295  Jl. Raya Tengah No.1, RT.5/RW.12, Gedong, Kec....   \n",
       "296  Jl. Pertanian III No.56, RT.14/RW.5, Ps. Mingg...   \n",
       "297  Jl. Raya Lenteng Agung No.40, RT.4/RW.1, Lente...   \n",
       "298  Jl. Hang Tuah I No.2, RT.2/RW.4, Gunung, Kec. ...   \n",
       "299  Jl. Melati No.33, RT.6/RW.7, Ragunan, Ps. Ming...   \n",
       "\n",
       "                                            Location  \n",
       "0            {'lat': -6.3012799, 'lng': 106.8346244}  \n",
       "1            {'lat': -6.1956129, 'lng': 106.8223572}  \n",
       "2    {'lat': -6.296992299999999, 'lng': 106.8322593}  \n",
       "3    {'lat': -6.306017199999999, 'lng': 106.8359636}  \n",
       "4             {'lat': -6.3039579, 'lng': 106.843251}  \n",
       "..                                               ...  \n",
       "295           {'lat': -6.299087, 'lng': 106.8594934}  \n",
       "296           {'lat': -6.287287, 'lng': 106.8412007}  \n",
       "297          {'lat': -6.3099767, 'lng': 106.8371039}  \n",
       "298          {'lat': -6.2335783, 'lng': 106.7973048}  \n",
       "299  {'lat': -6.304216299999999, 'lng': 106.8226384}  \n",
       "\n",
       "[300 rows x 4 columns]"
      ]
     },
     "execution_count": 6,
     "metadata": {},
     "output_type": "execute_result"
    }
   ],
   "source": [
    "hotels"
   ]
  },
  {
   "cell_type": "code",
   "execution_count": 10,
   "metadata": {},
   "outputs": [
    {
     "data": {
      "text/plain": [
       "\"{'lat': -6.3012799, 'lng': 106.8346244}\""
      ]
     },
     "execution_count": 10,
     "metadata": {},
     "output_type": "execute_result"
    }
   ],
   "source": [
    " ast.literal_eval(hotels.Location[0])"
   ]
  },
  {
   "attachments": {},
   "cell_type": "markdown",
   "metadata": {},
   "source": [
    "## Review wisata"
   ]
  },
  {
   "cell_type": "code",
   "execution_count": 11,
   "metadata": {},
   "outputs": [],
   "source": [
    "ratings = pd.read_csv('./review_wisata.csv')"
   ]
  },
  {
   "cell_type": "code",
   "execution_count": 14,
   "metadata": {},
   "outputs": [
    {
     "data": {
      "text/html": [
       "<div>\n",
       "<style scoped>\n",
       "    .dataframe tbody tr th:only-of-type {\n",
       "        vertical-align: middle;\n",
       "    }\n",
       "\n",
       "    .dataframe tbody tr th {\n",
       "        vertical-align: top;\n",
       "    }\n",
       "\n",
       "    .dataframe thead th {\n",
       "        text-align: right;\n",
       "    }\n",
       "</style>\n",
       "<table border=\"1\" class=\"dataframe\">\n",
       "  <thead>\n",
       "    <tr style=\"text-align: right;\">\n",
       "      <th></th>\n",
       "      <th>id</th>\n",
       "      <th>name_wisata</th>\n",
       "      <th>description_wisata</th>\n",
       "      <th>category</th>\n",
       "      <th>destination_photo</th>\n",
       "      <th>city</th>\n",
       "      <th>price</th>\n",
       "      <th>rating</th>\n",
       "      <th>time_minutes</th>\n",
       "      <th>coordinate</th>\n",
       "      <th>destination_lat</th>\n",
       "      <th>destination_long</th>\n",
       "    </tr>\n",
       "  </thead>\n",
       "  <tbody>\n",
       "    <tr>\n",
       "      <th>0</th>\n",
       "      <td>1</td>\n",
       "      <td>Monumen Nasional</td>\n",
       "      <td>Monumen Nasional atau yang populer disingkat d...</td>\n",
       "      <td>Budaya</td>\n",
       "      <td>https://storage.googleapis.com/tourista_bucket...</td>\n",
       "      <td>Jakarta</td>\n",
       "      <td>20000</td>\n",
       "      <td>4.6</td>\n",
       "      <td>15.0</td>\n",
       "      <td>{'lat': -6.1753924, 'lng': 106.8271528}</td>\n",
       "      <td>-6.17539</td>\n",
       "      <td>106.8272</td>\n",
       "    </tr>\n",
       "    <tr>\n",
       "      <th>1</th>\n",
       "      <td>2</td>\n",
       "      <td>Kota Tua</td>\n",
       "      <td>Kota tua di Jakarta yang juga bernama Kota Tua...</td>\n",
       "      <td>Budaya</td>\n",
       "      <td>https://storage.googleapis.com/tourista_bucket...</td>\n",
       "      <td>Jakarta</td>\n",
       "      <td>5000</td>\n",
       "      <td>4.6</td>\n",
       "      <td>90.0</td>\n",
       "      <td>{'lat': -6.137644799999999, 'lng': 106.8171245}</td>\n",
       "      <td>-6.13764</td>\n",
       "      <td>106.8171</td>\n",
       "    </tr>\n",
       "  </tbody>\n",
       "</table>\n",
       "</div>"
      ],
      "text/plain": [
       "   id       name_wisata                                 description_wisata  \\\n",
       "0   1  Monumen Nasional  Monumen Nasional atau yang populer disingkat d...   \n",
       "1   2          Kota Tua  Kota tua di Jakarta yang juga bernama Kota Tua...   \n",
       "\n",
       "  category                                  destination_photo     city  price  \\\n",
       "0   Budaya  https://storage.googleapis.com/tourista_bucket...  Jakarta  20000   \n",
       "1   Budaya  https://storage.googleapis.com/tourista_bucket...  Jakarta   5000   \n",
       "\n",
       "   rating  time_minutes                                       coordinate  \\\n",
       "0     4.6          15.0          {'lat': -6.1753924, 'lng': 106.8271528}   \n",
       "1     4.6          90.0  {'lat': -6.137644799999999, 'lng': 106.8171245}   \n",
       "\n",
       "   destination_lat  destination_long  \n",
       "0         -6.17539          106.8272  \n",
       "1         -6.13764          106.8171  "
      ]
     },
     "execution_count": 14,
     "metadata": {},
     "output_type": "execute_result"
    }
   ],
   "source": [
    "destination.head(2)"
   ]
  },
  {
   "cell_type": "code",
   "execution_count": 16,
   "metadata": {},
   "outputs": [],
   "source": [
    "destinationYK = destination.loc[destination['city'] == 'Yogyakarta']"
   ]
  },
  {
   "cell_type": "code",
   "execution_count": 19,
   "metadata": {},
   "outputs": [
    {
     "data": {
      "text/html": [
       "<div>\n",
       "<style scoped>\n",
       "    .dataframe tbody tr th:only-of-type {\n",
       "        vertical-align: middle;\n",
       "    }\n",
       "\n",
       "    .dataframe tbody tr th {\n",
       "        vertical-align: top;\n",
       "    }\n",
       "\n",
       "    .dataframe thead th {\n",
       "        text-align: right;\n",
       "    }\n",
       "</style>\n",
       "<table border=\"1\" class=\"dataframe\">\n",
       "  <thead>\n",
       "    <tr style=\"text-align: right;\">\n",
       "      <th></th>\n",
       "      <th>id</th>\n",
       "      <th>name_wisata</th>\n",
       "      <th>description_wisata</th>\n",
       "      <th>category</th>\n",
       "      <th>destination_photo</th>\n",
       "      <th>city</th>\n",
       "      <th>price</th>\n",
       "      <th>rating</th>\n",
       "      <th>time_minutes</th>\n",
       "      <th>coordinate</th>\n",
       "      <th>destination_lat</th>\n",
       "      <th>destination_long</th>\n",
       "    </tr>\n",
       "  </thead>\n",
       "  <tbody>\n",
       "    <tr>\n",
       "      <th>84</th>\n",
       "      <td>85</td>\n",
       "      <td>Taman Pintar Yogyakarta</td>\n",
       "      <td>Taman Pintar Yogyakarta bahasa Jawa Hanacaraka...</td>\n",
       "      <td>Taman Hiburan</td>\n",
       "      <td>https://storage.googleapis.com/tourista_bucket...</td>\n",
       "      <td>Yogyakarta</td>\n",
       "      <td>6000</td>\n",
       "      <td>4.5</td>\n",
       "      <td>120.0</td>\n",
       "      <td>{'lat': -7.800671500000001, 'lng': 110.3676551}</td>\n",
       "      <td>-7.80067</td>\n",
       "      <td>110.3677</td>\n",
       "    </tr>\n",
       "    <tr>\n",
       "      <th>85</th>\n",
       "      <td>86</td>\n",
       "      <td>Keraton Yogyakarta</td>\n",
       "      <td>Keraton Ngayogyakarta Hadiningrat atau Keraton...</td>\n",
       "      <td>Budaya</td>\n",
       "      <td>https://storage.googleapis.com/tourista_bucket...</td>\n",
       "      <td>Yogyakarta</td>\n",
       "      <td>15000</td>\n",
       "      <td>4.6</td>\n",
       "      <td>NaN</td>\n",
       "      <td>{'lat': -7.8052845, 'lng': 110.3642031}</td>\n",
       "      <td>-7.80528</td>\n",
       "      <td>110.3642</td>\n",
       "    </tr>\n",
       "  </tbody>\n",
       "</table>\n",
       "</div>"
      ],
      "text/plain": [
       "    id              name_wisata  \\\n",
       "84  85  Taman Pintar Yogyakarta   \n",
       "85  86       Keraton Yogyakarta   \n",
       "\n",
       "                                   description_wisata       category  \\\n",
       "84  Taman Pintar Yogyakarta bahasa Jawa Hanacaraka...  Taman Hiburan   \n",
       "85  Keraton Ngayogyakarta Hadiningrat atau Keraton...         Budaya   \n",
       "\n",
       "                                    destination_photo        city  price  \\\n",
       "84  https://storage.googleapis.com/tourista_bucket...  Yogyakarta   6000   \n",
       "85  https://storage.googleapis.com/tourista_bucket...  Yogyakarta  15000   \n",
       "\n",
       "    rating  time_minutes                                       coordinate  \\\n",
       "84     4.5         120.0  {'lat': -7.800671500000001, 'lng': 110.3676551}   \n",
       "85     4.6           NaN          {'lat': -7.8052845, 'lng': 110.3642031}   \n",
       "\n",
       "    destination_lat  destination_long  \n",
       "84         -7.80067          110.3677  \n",
       "85         -7.80528          110.3642  "
      ]
     },
     "execution_count": 19,
     "metadata": {},
     "output_type": "execute_result"
    }
   ],
   "source": [
    "destinationYK.head(2)"
   ]
  },
  {
   "cell_type": "code",
   "execution_count": 20,
   "metadata": {},
   "outputs": [],
   "source": [
    "destinationYK = destinationYK.rename(columns={'id' : 'wisata_id'})"
   ]
  },
  {
   "cell_type": "code",
   "execution_count": 18,
   "metadata": {},
   "outputs": [
    {
     "data": {
      "text/plain": [
       "126"
      ]
     },
     "execution_count": 18,
     "metadata": {},
     "output_type": "execute_result"
    }
   ],
   "source": [
    "len(destinationYK)"
   ]
  },
  {
   "cell_type": "code",
   "execution_count": 22,
   "metadata": {},
   "outputs": [],
   "source": [
    "destinationYK = destinationYK[['wisata_id', 'name_wisata']]"
   ]
  },
  {
   "cell_type": "code",
   "execution_count": 23,
   "metadata": {},
   "outputs": [
    {
     "data": {
      "text/html": [
       "<div>\n",
       "<style scoped>\n",
       "    .dataframe tbody tr th:only-of-type {\n",
       "        vertical-align: middle;\n",
       "    }\n",
       "\n",
       "    .dataframe tbody tr th {\n",
       "        vertical-align: top;\n",
       "    }\n",
       "\n",
       "    .dataframe thead th {\n",
       "        text-align: right;\n",
       "    }\n",
       "</style>\n",
       "<table border=\"1\" class=\"dataframe\">\n",
       "  <thead>\n",
       "    <tr style=\"text-align: right;\">\n",
       "      <th></th>\n",
       "      <th>wisata_id</th>\n",
       "      <th>name_wisata</th>\n",
       "    </tr>\n",
       "  </thead>\n",
       "  <tbody>\n",
       "    <tr>\n",
       "      <th>84</th>\n",
       "      <td>85</td>\n",
       "      <td>Taman Pintar Yogyakarta</td>\n",
       "    </tr>\n",
       "    <tr>\n",
       "      <th>85</th>\n",
       "      <td>86</td>\n",
       "      <td>Keraton Yogyakarta</td>\n",
       "    </tr>\n",
       "  </tbody>\n",
       "</table>\n",
       "</div>"
      ],
      "text/plain": [
       "    wisata_id              name_wisata\n",
       "84         85  Taman Pintar Yogyakarta\n",
       "85         86       Keraton Yogyakarta"
      ]
     },
     "execution_count": 23,
     "metadata": {},
     "output_type": "execute_result"
    }
   ],
   "source": [
    "destinationYK.head(2)"
   ]
  },
  {
   "cell_type": "code",
   "execution_count": 15,
   "metadata": {},
   "outputs": [
    {
     "data": {
      "text/html": [
       "<div>\n",
       "<style scoped>\n",
       "    .dataframe tbody tr th:only-of-type {\n",
       "        vertical-align: middle;\n",
       "    }\n",
       "\n",
       "    .dataframe tbody tr th {\n",
       "        vertical-align: top;\n",
       "    }\n",
       "\n",
       "    .dataframe thead th {\n",
       "        text-align: right;\n",
       "    }\n",
       "</style>\n",
       "<table border=\"1\" class=\"dataframe\">\n",
       "  <thead>\n",
       "    <tr style=\"text-align: right;\">\n",
       "      <th></th>\n",
       "      <th>user_wisata</th>\n",
       "      <th>wisata_id</th>\n",
       "      <th>wisata_rating</th>\n",
       "    </tr>\n",
       "  </thead>\n",
       "  <tbody>\n",
       "    <tr>\n",
       "      <th>0</th>\n",
       "      <td>1</td>\n",
       "      <td>179</td>\n",
       "      <td>3</td>\n",
       "    </tr>\n",
       "    <tr>\n",
       "      <th>1</th>\n",
       "      <td>1</td>\n",
       "      <td>344</td>\n",
       "      <td>2</td>\n",
       "    </tr>\n",
       "    <tr>\n",
       "      <th>2</th>\n",
       "      <td>1</td>\n",
       "      <td>5</td>\n",
       "      <td>5</td>\n",
       "    </tr>\n",
       "    <tr>\n",
       "      <th>3</th>\n",
       "      <td>1</td>\n",
       "      <td>373</td>\n",
       "      <td>3</td>\n",
       "    </tr>\n",
       "    <tr>\n",
       "      <th>4</th>\n",
       "      <td>1</td>\n",
       "      <td>101</td>\n",
       "      <td>4</td>\n",
       "    </tr>\n",
       "  </tbody>\n",
       "</table>\n",
       "</div>"
      ],
      "text/plain": [
       "   user_wisata  wisata_id  wisata_rating\n",
       "0            1        179              3\n",
       "1            1        344              2\n",
       "2            1          5              5\n",
       "3            1        373              3\n",
       "4            1        101              4"
      ]
     },
     "execution_count": 15,
     "metadata": {},
     "output_type": "execute_result"
    }
   ],
   "source": [
    "ratings.head()"
   ]
  },
  {
   "cell_type": "code",
   "execution_count": 24,
   "metadata": {},
   "outputs": [],
   "source": [
    "merge_ratings = destinationYK.merge(ratings, on='wisata_id')"
   ]
  },
  {
   "cell_type": "code",
   "execution_count": 27,
   "metadata": {},
   "outputs": [],
   "source": [
    "merge_ratings = merge_ratings.drop(['name_wisata'], axis=1)"
   ]
  },
  {
   "cell_type": "code",
   "execution_count": 28,
   "metadata": {},
   "outputs": [
    {
     "data": {
      "text/html": [
       "<div>\n",
       "<style scoped>\n",
       "    .dataframe tbody tr th:only-of-type {\n",
       "        vertical-align: middle;\n",
       "    }\n",
       "\n",
       "    .dataframe tbody tr th {\n",
       "        vertical-align: top;\n",
       "    }\n",
       "\n",
       "    .dataframe thead th {\n",
       "        text-align: right;\n",
       "    }\n",
       "</style>\n",
       "<table border=\"1\" class=\"dataframe\">\n",
       "  <thead>\n",
       "    <tr style=\"text-align: right;\">\n",
       "      <th></th>\n",
       "      <th>wisata_id</th>\n",
       "      <th>user_wisata</th>\n",
       "      <th>wisata_rating</th>\n",
       "    </tr>\n",
       "  </thead>\n",
       "  <tbody>\n",
       "    <tr>\n",
       "      <th>0</th>\n",
       "      <td>85</td>\n",
       "      <td>2</td>\n",
       "      <td>4</td>\n",
       "    </tr>\n",
       "    <tr>\n",
       "      <th>1</th>\n",
       "      <td>85</td>\n",
       "      <td>23</td>\n",
       "      <td>4</td>\n",
       "    </tr>\n",
       "    <tr>\n",
       "      <th>2</th>\n",
       "      <td>85</td>\n",
       "      <td>25</td>\n",
       "      <td>2</td>\n",
       "    </tr>\n",
       "    <tr>\n",
       "      <th>3</th>\n",
       "      <td>85</td>\n",
       "      <td>39</td>\n",
       "      <td>5</td>\n",
       "    </tr>\n",
       "    <tr>\n",
       "      <th>4</th>\n",
       "      <td>85</td>\n",
       "      <td>43</td>\n",
       "      <td>4</td>\n",
       "    </tr>\n",
       "    <tr>\n",
       "      <th>...</th>\n",
       "      <td>...</td>\n",
       "      <td>...</td>\n",
       "      <td>...</td>\n",
       "    </tr>\n",
       "    <tr>\n",
       "      <th>2866</th>\n",
       "      <td>210</td>\n",
       "      <td>266</td>\n",
       "      <td>5</td>\n",
       "    </tr>\n",
       "    <tr>\n",
       "      <th>2867</th>\n",
       "      <td>210</td>\n",
       "      <td>279</td>\n",
       "      <td>3</td>\n",
       "    </tr>\n",
       "    <tr>\n",
       "      <th>2868</th>\n",
       "      <td>210</td>\n",
       "      <td>286</td>\n",
       "      <td>3</td>\n",
       "    </tr>\n",
       "    <tr>\n",
       "      <th>2869</th>\n",
       "      <td>210</td>\n",
       "      <td>287</td>\n",
       "      <td>5</td>\n",
       "    </tr>\n",
       "    <tr>\n",
       "      <th>2870</th>\n",
       "      <td>210</td>\n",
       "      <td>290</td>\n",
       "      <td>5</td>\n",
       "    </tr>\n",
       "  </tbody>\n",
       "</table>\n",
       "<p>2871 rows × 3 columns</p>\n",
       "</div>"
      ],
      "text/plain": [
       "      wisata_id  user_wisata  wisata_rating\n",
       "0            85            2              4\n",
       "1            85           23              4\n",
       "2            85           25              2\n",
       "3            85           39              5\n",
       "4            85           43              4\n",
       "...         ...          ...            ...\n",
       "2866        210          266              5\n",
       "2867        210          279              3\n",
       "2868        210          286              3\n",
       "2869        210          287              5\n",
       "2870        210          290              5\n",
       "\n",
       "[2871 rows x 3 columns]"
      ]
     },
     "execution_count": 28,
     "metadata": {},
     "output_type": "execute_result"
    }
   ],
   "source": [
    "merge_ratings"
   ]
  },
  {
   "cell_type": "code",
   "execution_count": 30,
   "metadata": {},
   "outputs": [],
   "source": [
    "# Menyimpan DataFrame ke file CSV\n",
    "merge_ratings.to_csv('./integration_to_db/merge_ratings.csv', index=False)"
   ]
  }
 ],
 "metadata": {
  "kernelspec": {
   "display_name": "tf_new",
   "language": "python",
   "name": "python3"
  },
  "language_info": {
   "codemirror_mode": {
    "name": "ipython",
    "version": 3
   },
   "file_extension": ".py",
   "mimetype": "text/x-python",
   "name": "python",
   "nbconvert_exporter": "python",
   "pygments_lexer": "ipython3",
   "version": "3.10.11"
  },
  "orig_nbformat": 4
 },
 "nbformat": 4,
 "nbformat_minor": 2
}
